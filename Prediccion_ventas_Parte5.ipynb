{
  "nbformat": 4,
  "nbformat_minor": 0,
  "metadata": {
    "colab": {
      "provenance": [],
      "authorship_tag": "ABX9TyNAO/osue8GhgwI+oka2wPp",
      "include_colab_link": true
    },
    "kernelspec": {
      "name": "python3",
      "display_name": "Python 3"
    },
    "language_info": {
      "name": "python"
    }
  },
  "cells": [
    {
      "cell_type": "markdown",
      "metadata": {
        "id": "view-in-github",
        "colab_type": "text"
      },
      "source": [
        "<a href=\"https://colab.research.google.com/github/jcpalaciosb/Predicion_de_ventas/blob/main/Prediccion_ventas_Parte5.ipynb\" target=\"_parent\"><img src=\"https://colab.research.google.com/assets/colab-badge.svg\" alt=\"Open In Colab\"/></a>"
      ]
    },
    {
      "cell_type": "markdown",
      "source": [
        "# PROYECTO 1\n",
        "\n",
        "## Datos Personales\n",
        "\n",
        "* **Nombre Completo**: Juan Carlos Palacios Banchero\n",
        "* **ID Coding Dojo**: 81390\n",
        "* **Track**: Data Science Fundamentals\n",
        "* **Nombre del proyecto**: PREDICCION DE VENTAS\n",
        "* **Parte Nro.**: 5\n"
      ],
      "metadata": {
        "id": "vB4QRjCSAmcx"
      }
    },
    {
      "cell_type": "markdown",
      "source": [
        "## Descripcion del Proyecto\n",
        "\n",
        "Se trata de ayudar al minorista a comprender las propiedades de los productos y los puntos de venta que desempeñan un papel crucial en el aumento de las ventas.\n",
        "\n",
        "## Descripción del Conjunto de Datos\n",
        "\n",
        "\n",
        "| Nombre de la variable     | Descripción                                                                                                        |\n",
        "|---------------------------|--------------------------------------------------------------------------------------------------------------------|\n",
        "| Item_Identifier           | Identificación única del producto                                                                                  |\n",
        "| Item_Weight               | Peso del producto                                                                                                  |\n",
        "| Item_Fat_Content          | Si el producto es bajo en grasa o regular                                                                          |\n",
        "| Item_Visibility           | Porcentaje de la superficie total de exposición de todos los productos de una tienda asignada al producto concreto |\n",
        "| Item_Type                 | Categoría a la que el producto pertenece                                                                           |\n",
        "| Item_MRP                  | Precio máximo de venta al público (precio de catálogo) del producto                                                |\n",
        "| Outlet_Identifier         | Identificación única de la tienda                                                                                  |\n",
        "| Outlet_Establishment_Year | El año en que se estableció la tienda                                                                              |\n",
        "| Outlet_Size               | El tamaño de la tienda en cuanto al área total                                                                     |\n",
        "| Outlet_Location_Type      | El tipo de área donde se encuentra la tienda                                                                       |\n",
        "| Outlet_Type               | Si el punto de venta es una tienda de comestibles o algún tipo de supermercado                                     |\n",
        "| Item_Outlet_Sales         | Ventas del producto en una tienda particular. Es la variable objetivo a predecir.                                  |\n",
        "\n",
        "## Objetivo\n",
        "\n",
        "El objetivo es hacer una predicción de ventas para productos alimenticios vendidos en diversas tiendas."
      ],
      "metadata": {
        "id": "5kQhFtQ0TBp1"
      }
    },
    {
      "cell_type": "markdown",
      "source": [
        "# PARTE 1\n",
        "\n",
        "1) Crea un repositorio GitHub que albergará el primer proyecto de portafolio. Sigan las instrucciones en el video de abajo para ayudarlos a completar esta tarea.\n",
        "\n",
        "2) Usen Pandas para leer el conjunto de datos de predicción de ventas en un cuaderno de Google Colab y verifiquen los datos utilizando el comando df.head().\n",
        "\n",
        "3) Agreguen el cuaderno de Google Colab al repositorio de GitHub.  Abran la pestaña de “archivo” y hagan clic en “Guardar copia en Github”."
      ],
      "metadata": {
        "id": "IcBYHnoXqeSx"
      }
    },
    {
      "cell_type": "code",
      "source": [
        "# montaje y carga de datos\n",
        "import pandas as pd\n",
        "filename=\"/content/sales_predictions.csv\"\n",
        "df = pd.read_csv(filename)\n",
        "df.head()"
      ],
      "metadata": {
        "id": "tySRFEklaQ_s",
        "colab": {
          "base_uri": "https://localhost:8080/",
          "height": 357
        },
        "outputId": "6119dd9c-a1d5-4624-d69d-37ebc6dacba4"
      },
      "execution_count": null,
      "outputs": [
        {
          "output_type": "execute_result",
          "data": {
            "text/plain": [
              "  Item_Identifier  Item_Weight Item_Fat_Content  Item_Visibility  \\\n",
              "0           FDA15         9.30          Low Fat         0.016047   \n",
              "1           DRC01         5.92          Regular         0.019278   \n",
              "2           FDN15        17.50          Low Fat         0.016760   \n",
              "3           FDX07        19.20          Regular         0.000000   \n",
              "4           NCD19         8.93          Low Fat         0.000000   \n",
              "\n",
              "               Item_Type  Item_MRP Outlet_Identifier  \\\n",
              "0                  Dairy  249.8092            OUT049   \n",
              "1            Soft Drinks   48.2692            OUT018   \n",
              "2                   Meat  141.6180            OUT049   \n",
              "3  Fruits and Vegetables  182.0950            OUT010   \n",
              "4              Household   53.8614            OUT013   \n",
              "\n",
              "   Outlet_Establishment_Year Outlet_Size Outlet_Location_Type  \\\n",
              "0                       1999      Medium               Tier 1   \n",
              "1                       2009      Medium               Tier 3   \n",
              "2                       1999      Medium               Tier 1   \n",
              "3                       1998         NaN               Tier 3   \n",
              "4                       1987        High               Tier 3   \n",
              "\n",
              "         Outlet_Type  Item_Outlet_Sales  \n",
              "0  Supermarket Type1          3735.1380  \n",
              "1  Supermarket Type2           443.4228  \n",
              "2  Supermarket Type1          2097.2700  \n",
              "3      Grocery Store           732.3800  \n",
              "4  Supermarket Type1           994.7052  "
            ],
            "text/html": [
              "\n",
              "  <div id=\"df-9d614b38-0b61-4c5a-8e5c-74cf7beb4b3f\">\n",
              "    <div class=\"colab-df-container\">\n",
              "      <div>\n",
              "<style scoped>\n",
              "    .dataframe tbody tr th:only-of-type {\n",
              "        vertical-align: middle;\n",
              "    }\n",
              "\n",
              "    .dataframe tbody tr th {\n",
              "        vertical-align: top;\n",
              "    }\n",
              "\n",
              "    .dataframe thead th {\n",
              "        text-align: right;\n",
              "    }\n",
              "</style>\n",
              "<table border=\"1\" class=\"dataframe\">\n",
              "  <thead>\n",
              "    <tr style=\"text-align: right;\">\n",
              "      <th></th>\n",
              "      <th>Item_Identifier</th>\n",
              "      <th>Item_Weight</th>\n",
              "      <th>Item_Fat_Content</th>\n",
              "      <th>Item_Visibility</th>\n",
              "      <th>Item_Type</th>\n",
              "      <th>Item_MRP</th>\n",
              "      <th>Outlet_Identifier</th>\n",
              "      <th>Outlet_Establishment_Year</th>\n",
              "      <th>Outlet_Size</th>\n",
              "      <th>Outlet_Location_Type</th>\n",
              "      <th>Outlet_Type</th>\n",
              "      <th>Item_Outlet_Sales</th>\n",
              "    </tr>\n",
              "  </thead>\n",
              "  <tbody>\n",
              "    <tr>\n",
              "      <th>0</th>\n",
              "      <td>FDA15</td>\n",
              "      <td>9.30</td>\n",
              "      <td>Low Fat</td>\n",
              "      <td>0.016047</td>\n",
              "      <td>Dairy</td>\n",
              "      <td>249.8092</td>\n",
              "      <td>OUT049</td>\n",
              "      <td>1999</td>\n",
              "      <td>Medium</td>\n",
              "      <td>Tier 1</td>\n",
              "      <td>Supermarket Type1</td>\n",
              "      <td>3735.1380</td>\n",
              "    </tr>\n",
              "    <tr>\n",
              "      <th>1</th>\n",
              "      <td>DRC01</td>\n",
              "      <td>5.92</td>\n",
              "      <td>Regular</td>\n",
              "      <td>0.019278</td>\n",
              "      <td>Soft Drinks</td>\n",
              "      <td>48.2692</td>\n",
              "      <td>OUT018</td>\n",
              "      <td>2009</td>\n",
              "      <td>Medium</td>\n",
              "      <td>Tier 3</td>\n",
              "      <td>Supermarket Type2</td>\n",
              "      <td>443.4228</td>\n",
              "    </tr>\n",
              "    <tr>\n",
              "      <th>2</th>\n",
              "      <td>FDN15</td>\n",
              "      <td>17.50</td>\n",
              "      <td>Low Fat</td>\n",
              "      <td>0.016760</td>\n",
              "      <td>Meat</td>\n",
              "      <td>141.6180</td>\n",
              "      <td>OUT049</td>\n",
              "      <td>1999</td>\n",
              "      <td>Medium</td>\n",
              "      <td>Tier 1</td>\n",
              "      <td>Supermarket Type1</td>\n",
              "      <td>2097.2700</td>\n",
              "    </tr>\n",
              "    <tr>\n",
              "      <th>3</th>\n",
              "      <td>FDX07</td>\n",
              "      <td>19.20</td>\n",
              "      <td>Regular</td>\n",
              "      <td>0.000000</td>\n",
              "      <td>Fruits and Vegetables</td>\n",
              "      <td>182.0950</td>\n",
              "      <td>OUT010</td>\n",
              "      <td>1998</td>\n",
              "      <td>NaN</td>\n",
              "      <td>Tier 3</td>\n",
              "      <td>Grocery Store</td>\n",
              "      <td>732.3800</td>\n",
              "    </tr>\n",
              "    <tr>\n",
              "      <th>4</th>\n",
              "      <td>NCD19</td>\n",
              "      <td>8.93</td>\n",
              "      <td>Low Fat</td>\n",
              "      <td>0.000000</td>\n",
              "      <td>Household</td>\n",
              "      <td>53.8614</td>\n",
              "      <td>OUT013</td>\n",
              "      <td>1987</td>\n",
              "      <td>High</td>\n",
              "      <td>Tier 3</td>\n",
              "      <td>Supermarket Type1</td>\n",
              "      <td>994.7052</td>\n",
              "    </tr>\n",
              "  </tbody>\n",
              "</table>\n",
              "</div>\n",
              "      <button class=\"colab-df-convert\" onclick=\"convertToInteractive('df-9d614b38-0b61-4c5a-8e5c-74cf7beb4b3f')\"\n",
              "              title=\"Convert this dataframe to an interactive table.\"\n",
              "              style=\"display:none;\">\n",
              "        \n",
              "  <svg xmlns=\"http://www.w3.org/2000/svg\" height=\"24px\"viewBox=\"0 0 24 24\"\n",
              "       width=\"24px\">\n",
              "    <path d=\"M0 0h24v24H0V0z\" fill=\"none\"/>\n",
              "    <path d=\"M18.56 5.44l.94 2.06.94-2.06 2.06-.94-2.06-.94-.94-2.06-.94 2.06-2.06.94zm-11 1L8.5 8.5l.94-2.06 2.06-.94-2.06-.94L8.5 2.5l-.94 2.06-2.06.94zm10 10l.94 2.06.94-2.06 2.06-.94-2.06-.94-.94-2.06-.94 2.06-2.06.94z\"/><path d=\"M17.41 7.96l-1.37-1.37c-.4-.4-.92-.59-1.43-.59-.52 0-1.04.2-1.43.59L10.3 9.45l-7.72 7.72c-.78.78-.78 2.05 0 2.83L4 21.41c.39.39.9.59 1.41.59.51 0 1.02-.2 1.41-.59l7.78-7.78 2.81-2.81c.8-.78.8-2.07 0-2.86zM5.41 20L4 18.59l7.72-7.72 1.47 1.35L5.41 20z\"/>\n",
              "  </svg>\n",
              "      </button>\n",
              "      \n",
              "  <style>\n",
              "    .colab-df-container {\n",
              "      display:flex;\n",
              "      flex-wrap:wrap;\n",
              "      gap: 12px;\n",
              "    }\n",
              "\n",
              "    .colab-df-convert {\n",
              "      background-color: #E8F0FE;\n",
              "      border: none;\n",
              "      border-radius: 50%;\n",
              "      cursor: pointer;\n",
              "      display: none;\n",
              "      fill: #1967D2;\n",
              "      height: 32px;\n",
              "      padding: 0 0 0 0;\n",
              "      width: 32px;\n",
              "    }\n",
              "\n",
              "    .colab-df-convert:hover {\n",
              "      background-color: #E2EBFA;\n",
              "      box-shadow: 0px 1px 2px rgba(60, 64, 67, 0.3), 0px 1px 3px 1px rgba(60, 64, 67, 0.15);\n",
              "      fill: #174EA6;\n",
              "    }\n",
              "\n",
              "    [theme=dark] .colab-df-convert {\n",
              "      background-color: #3B4455;\n",
              "      fill: #D2E3FC;\n",
              "    }\n",
              "\n",
              "    [theme=dark] .colab-df-convert:hover {\n",
              "      background-color: #434B5C;\n",
              "      box-shadow: 0px 1px 3px 1px rgba(0, 0, 0, 0.15);\n",
              "      filter: drop-shadow(0px 1px 2px rgba(0, 0, 0, 0.3));\n",
              "      fill: #FFFFFF;\n",
              "    }\n",
              "  </style>\n",
              "\n",
              "      <script>\n",
              "        const buttonEl =\n",
              "          document.querySelector('#df-9d614b38-0b61-4c5a-8e5c-74cf7beb4b3f button.colab-df-convert');\n",
              "        buttonEl.style.display =\n",
              "          google.colab.kernel.accessAllowed ? 'block' : 'none';\n",
              "\n",
              "        async function convertToInteractive(key) {\n",
              "          const element = document.querySelector('#df-9d614b38-0b61-4c5a-8e5c-74cf7beb4b3f');\n",
              "          const dataTable =\n",
              "            await google.colab.kernel.invokeFunction('convertToInteractive',\n",
              "                                                     [key], {});\n",
              "          if (!dataTable) return;\n",
              "\n",
              "          const docLinkHtml = 'Like what you see? Visit the ' +\n",
              "            '<a target=\"_blank\" href=https://colab.research.google.com/notebooks/data_table.ipynb>data table notebook</a>'\n",
              "            + ' to learn more about interactive tables.';\n",
              "          element.innerHTML = '';\n",
              "          dataTable['output_type'] = 'display_data';\n",
              "          await google.colab.output.renderOutput(dataTable, element);\n",
              "          const docLink = document.createElement('div');\n",
              "          docLink.innerHTML = docLinkHtml;\n",
              "          element.appendChild(docLink);\n",
              "        }\n",
              "      </script>\n",
              "    </div>\n",
              "  </div>\n",
              "  "
            ]
          },
          "metadata": {},
          "execution_count": 1
        }
      ]
    },
    {
      "cell_type": "markdown",
      "source": [
        "# PARTE 2 (base)\n",
        "\n",
        "Exploren los datos - ¿Qué necesitan para limpiar estos datos? ¡Límpienlos!  \n",
        "Asegúrense de abordar cada una de las siguientes tareas:\n",
        "\n",
        "1) ¿Cuántas filas y columnas?\n",
        "\n",
        "2) ¿Cuáles son los tipos de datos en cada variable?\n",
        "\n",
        "3) ¿Hay duplicados? Si es el caso, eliminen algunos duplicados.\n",
        "\n",
        "4) Identifiquen los valores faltantes.\n",
        "\n",
        "5) Decidan cómo abordar los valores faltantes y cómo hacerlo. (Esto requiere sus criterios, así que expliquen su elección).\n",
        "\n",
        "6) Confirmen que no hay valores faltantes después de abordarlos.\n",
        "\n",
        "7) Encuentren y arreglen alguna categoría inconsistente de datos (example: fix cat, Cat, and cats so that they are consistent) \n",
        "\n",
        "8) Para cualquier columna numérica, obtengan las estadísticas resumidas para cada uno (mínimo, máximo y media)\n"
      ],
      "metadata": {
        "id": "xI2Lp1aEsJ3k"
      }
    },
    {
      "cell_type": "markdown",
      "source": [
        "## Análisis Exploratorio"
      ],
      "metadata": {
        "id": "pu1TOaL5E7-c"
      }
    },
    {
      "cell_type": "markdown",
      "source": [
        "1) Cantidad de filas y columnas"
      ],
      "metadata": {
        "id": "tXs8r1dzMXTc"
      }
    },
    {
      "cell_type": "code",
      "source": [
        "df.shape"
      ],
      "metadata": {
        "colab": {
          "base_uri": "https://localhost:8080/"
        },
        "id": "hGHeREwnTW98",
        "outputId": "9414ea87-89e3-4f7c-e0d7-71add2282ebf"
      },
      "execution_count": null,
      "outputs": [
        {
          "output_type": "execute_result",
          "data": {
            "text/plain": [
              "(8523, 12)"
            ]
          },
          "metadata": {},
          "execution_count": 2
        }
      ]
    },
    {
      "cell_type": "markdown",
      "source": [
        "2) Tipo de datos en cada variable"
      ],
      "metadata": {
        "id": "mxIAA9umMe_b"
      }
    },
    {
      "cell_type": "code",
      "source": [
        "df.dtypes"
      ],
      "metadata": {
        "id": "F3zQOBtgTiml",
        "colab": {
          "base_uri": "https://localhost:8080/"
        },
        "outputId": "3efa0c42-f9f1-4635-c353-a7a57faf30bb"
      },
      "execution_count": null,
      "outputs": [
        {
          "output_type": "execute_result",
          "data": {
            "text/plain": [
              "Item_Identifier               object\n",
              "Item_Weight                  float64\n",
              "Item_Fat_Content              object\n",
              "Item_Visibility              float64\n",
              "Item_Type                     object\n",
              "Item_MRP                     float64\n",
              "Outlet_Identifier             object\n",
              "Outlet_Establishment_Year      int64\n",
              "Outlet_Size                   object\n",
              "Outlet_Location_Type          object\n",
              "Outlet_Type                   object\n",
              "Item_Outlet_Sales            float64\n",
              "dtype: object"
            ]
          },
          "metadata": {},
          "execution_count": 3
        }
      ]
    },
    {
      "cell_type": "markdown",
      "source": [
        "3) Revision si hay duplicados"
      ],
      "metadata": {
        "id": "NpZ1OYoPMkZF"
      }
    },
    {
      "cell_type": "code",
      "source": [
        "df.columns.duplicated()   # revision en columnas"
      ],
      "metadata": {
        "id": "exdJkC7uxcGW",
        "colab": {
          "base_uri": "https://localhost:8080/"
        },
        "outputId": "33d5fbc6-ada6-4b88-c98d-63bc5dfb8b59"
      },
      "execution_count": null,
      "outputs": [
        {
          "output_type": "execute_result",
          "data": {
            "text/plain": [
              "array([False, False, False, False, False, False, False, False, False,\n",
              "       False, False, False])"
            ]
          },
          "metadata": {},
          "execution_count": 4
        }
      ]
    },
    {
      "cell_type": "code",
      "source": [
        "df.duplicated().sum()   # revision en filas"
      ],
      "metadata": {
        "id": "Z-9HxlrJV1FT",
        "colab": {
          "base_uri": "https://localhost:8080/"
        },
        "outputId": "f8c67ca1-1188-45ca-d0ca-bef7f95e8415"
      },
      "execution_count": null,
      "outputs": [
        {
          "output_type": "execute_result",
          "data": {
            "text/plain": [
              "0"
            ]
          },
          "metadata": {},
          "execution_count": 5
        }
      ]
    },
    {
      "cell_type": "markdown",
      "source": [
        " - No hay duplicados ni en filas ni en columnas"
      ],
      "metadata": {
        "id": "KYdA5rlqNuB7"
      }
    },
    {
      "cell_type": "markdown",
      "source": [
        "4) Revision de la existencia de datos faltantes"
      ],
      "metadata": {
        "id": "wFX8A9VXMpRb"
      }
    },
    {
      "cell_type": "code",
      "source": [
        "df.isna().sum()"
      ],
      "metadata": {
        "id": "nuR_1rWvX6sC",
        "colab": {
          "base_uri": "https://localhost:8080/"
        },
        "outputId": "0920e68e-9faa-486e-8488-55b61e5fb9ec"
      },
      "execution_count": null,
      "outputs": [
        {
          "output_type": "execute_result",
          "data": {
            "text/plain": [
              "Item_Identifier                 0\n",
              "Item_Weight                  1463\n",
              "Item_Fat_Content                0\n",
              "Item_Visibility                 0\n",
              "Item_Type                       0\n",
              "Item_MRP                        0\n",
              "Outlet_Identifier               0\n",
              "Outlet_Establishment_Year       0\n",
              "Outlet_Size                  2410\n",
              "Outlet_Location_Type            0\n",
              "Outlet_Type                     0\n",
              "Item_Outlet_Sales               0\n",
              "dtype: int64"
            ]
          },
          "metadata": {},
          "execution_count": 6
        }
      ]
    },
    {
      "cell_type": "markdown",
      "source": [
        "5 ) Valores faltantes a trabajar "
      ],
      "metadata": {
        "id": "ZVtLYsmeMwes"
      }
    },
    {
      "cell_type": "markdown",
      "source": [
        "* Del resultado anterior, se identifica a las categorias \"Item_Weight\" e \"Outlet_Size\" como unicas con valores faltantes. En ambos casos ambas cantidades 1463 y 2410 respectivamente, no supera el 50% de la data y considerando que ademas contienen informacion posiblemente relevante para las\n",
        "predicciones de venta y requerimiento de artificios de agrupamiento"
      ],
      "metadata": {
        "id": "AsIIyh47sz04"
      }
    },
    {
      "cell_type": "code",
      "source": [
        "# Revision de la Categoria \"Item_Weight\":"
      ],
      "metadata": {
        "id": "h77CL2f9_-YG"
      },
      "execution_count": null,
      "outputs": []
    },
    {
      "cell_type": "markdown",
      "source": [
        "* Esta categoria es del tipo flotante y contiene el peso de los productos, esta directamente relacionada a los datos del producto."
      ],
      "metadata": {
        "id": "EMKKOpTstGlW"
      }
    },
    {
      "cell_type": "code",
      "source": [
        "df[\"Item_Weight\"].head()"
      ],
      "metadata": {
        "id": "6of_lWmNlp0b",
        "colab": {
          "base_uri": "https://localhost:8080/"
        },
        "outputId": "74c97861-0c2d-4844-d251-abc6f909b231"
      },
      "execution_count": null,
      "outputs": [
        {
          "output_type": "execute_result",
          "data": {
            "text/plain": [
              "0     9.30\n",
              "1     5.92\n",
              "2    17.50\n",
              "3    19.20\n",
              "4     8.93\n",
              "Name: Item_Weight, dtype: float64"
            ]
          },
          "metadata": {},
          "execution_count": 8
        }
      ]
    },
    {
      "cell_type": "code",
      "source": [
        "df[\"Item_Weight\"].value_counts()"
      ],
      "metadata": {
        "id": "JQmfh-9ImD_i",
        "colab": {
          "base_uri": "https://localhost:8080/"
        },
        "outputId": "66a6674a-4746-4f31-976f-beb78df579f7"
      },
      "execution_count": null,
      "outputs": [
        {
          "output_type": "execute_result",
          "data": {
            "text/plain": [
              "12.150    86\n",
              "17.600    82\n",
              "13.650    77\n",
              "11.800    76\n",
              "15.100    68\n",
              "          ..\n",
              "7.275      2\n",
              "7.685      1\n",
              "9.420      1\n",
              "6.520      1\n",
              "5.400      1\n",
              "Name: Item_Weight, Length: 415, dtype: int64"
            ]
          },
          "metadata": {},
          "execution_count": 9
        }
      ]
    },
    {
      "cell_type": "code",
      "source": [
        "df[\"Item_Weight\"].unique()"
      ],
      "metadata": {
        "id": "-Y5ChAi7PW4b",
        "colab": {
          "base_uri": "https://localhost:8080/"
        },
        "outputId": "4285d5c9-bac4-41bb-a297-58cab56ac3d8"
      },
      "execution_count": null,
      "outputs": [
        {
          "output_type": "execute_result",
          "data": {
            "text/plain": [
              "array([ 9.3  ,  5.92 , 17.5  , 19.2  ,  8.93 , 10.395, 13.65 ,    nan,\n",
              "       16.2  , 11.8  , 18.5  , 15.1  , 17.6  , 16.35 ,  9.   , 13.35 ,\n",
              "       18.85 , 14.6  , 13.85 , 13.   ,  7.645, 11.65 ,  5.925, 19.25 ,\n",
              "       18.6  , 18.7  , 17.85 , 10.   ,  8.85 ,  9.8  , 13.6  , 21.35 ,\n",
              "       12.15 ,  6.42 , 19.6  , 15.85 ,  7.39 , 10.195,  9.895, 10.895,\n",
              "        7.905,  9.195,  8.365,  7.97 , 17.7  , 19.35 ,  8.645, 15.6  ,\n",
              "       18.25 ,  7.855,  7.825,  8.39 , 12.85 , 19.   ,  5.905,  7.76 ,\n",
              "       16.75 , 15.5  ,  6.055,  6.305, 20.85 , 20.75 ,  8.895, 19.7  ,\n",
              "        8.75 , 13.3  ,  8.31 , 19.75 , 17.1  , 10.5  ,  6.635, 14.15 ,\n",
              "        8.89 ,  9.1  ,  7.5  , 16.85 ,  7.485, 11.6  , 12.65 , 20.25 ,\n",
              "        8.6  , 12.6  ,  8.88 , 20.5  , 13.5  ,  7.235,  6.92 ,  8.02 ,\n",
              "       12.8  , 16.6  , 14.   , 16.   , 21.25 ,  7.365, 18.35 ,  5.465,\n",
              "        7.27 ,  6.155, 19.5  , 15.2  , 14.5  , 13.1  , 12.3  , 11.1  ,\n",
              "       11.3  ,  5.75 , 11.35 ,  6.525, 10.3  ,  5.78 , 11.85 , 18.75 ,\n",
              "        5.26 , 16.1  ,  9.5  , 13.8  , 14.65 ,  6.67 ,  6.11 , 17.2  ,\n",
              "        6.32 ,  4.88 ,  5.425, 14.1  ,  7.55 , 17.25 , 12.   , 10.1  ,\n",
              "        7.785, 13.15 ,  8.5  ,  7.63 ,  9.285,  7.975, 15.7  ,  8.985,\n",
              "       20.35 ,  6.59 , 19.85 ,  6.26 , 18.2  ,  8.695,  7.075,  8.195,\n",
              "        7.09 ,  6.095,  6.15 ,  9.395, 15.75 ,  7.475,  6.445, 19.1  ,\n",
              "       15.   , 16.7  ,  7.07 ,  6.48 ,  9.695, 11.15 ,  9.6  , 20.7  ,\n",
              "        5.5  ,  7.895, 17.35 ,  7.285,  6.17 , 11.395,  7.71 , 12.1  ,\n",
              "       14.35 ,  8.1  ,  8.05 , 16.5  ,  6.785,  7.575,  7.47 , 15.25 ,\n",
              "        7.605, 18.   , 21.2  ,  8.97 , 10.6  ,  6.865, 10.8  , 15.15 ,\n",
              "       18.1  ,  6.655, 20.1  ,  7.935, 15.35 , 12.35 ,  6.85 ,  8.775,\n",
              "       14.85 ,  7.84 , 12.5  ,  8.325,  5.765,  5.985, 14.3  ,  6.135,\n",
              "        8.51 ,  6.65 ,  5.695,  6.36 ,  8.3  ,  7.56 ,  8.71 ,  6.695,\n",
              "       14.8  , 17.75 ,  8.575,  6.57 ,  8.68 ,  5.63 ,  9.13 ,  6.715,\n",
              "        5.82 ,  7.93 ,  5.   ,  7.445,  6.675,  8.18 ,  6.98 ,  7.435,\n",
              "       20.6  ,  8.355,  8.975, 20.2  ,  5.655,  5.175, 20.   ,  7.67 ,\n",
              "        4.785,  8.395,  6.175,  8.21 ,  5.845,  7.17 ,  8.785,  7.89 ,\n",
              "        5.32 ,  5.03 ,  8.945,  6.28 ,  7.565,  9.31 ,  7.02 ,  5.46 ,\n",
              "        6.13 ,  6.55 , 17.   , 16.25 ,  5.15 ,  7.865,  6.575,  7.06 ,\n",
              "        5.785,  7.42 ,  6.235,  6.75 ,  5.86 ,  5.035,  6.38 ,  5.675,\n",
              "       11.5  , 21.   , 21.1  ,  4.61 ,  7.   ,  6.405, 14.7  ,  7.68 ,\n",
              "        8.185,  8.655, 10.85 ,  8.42 ,  7.85 ,  4.59 ,  7.51 , 11.   ,\n",
              "        6.71 , 14.75 ,  7.59 ,  5.155,  6.365,  8.235,  5.365,  8.485,\n",
              "        7.535,  4.92 ,  6.385,  8.26 ,  7.945,  8.63 ,  9.21 ,  6.965,\n",
              "        8.905,  7.21 ,  7.3  ,  9.27 , 10.695,  6.215,  7.405,  7.72 ,\n",
              "        6.115,  6.035,  6.78 , 15.3  ,  7.105,  7.52 ,  4.805,  6.425,\n",
              "        7.6  ,  6.61 ,  7.325,  8.115,  5.94 ,  5.635,  7.35 ,  5.825,\n",
              "        6.63 ,  7.05 ,  8.315,  6.8  ,  7.035,  8.96 ,  5.51 ,  8.43 ,\n",
              "        8.27 ,  7.81 ,  6.885,  5.44 ,  5.405,  4.635, 10.65 ,  5.735,\n",
              "        6.465,  8.84 ,  7.75 ,  6.765,  9.065,  7.655,  4.615,  8.76 ,\n",
              "        7.1  ,  6.195,  5.615,  8.52 ,  7.26 ,  6.825,  5.325,  5.59 ,\n",
              "        5.88 ,  5.19 ,  6.985,  9.06 ,  6.69 ,  8.615,  7.275,  6.96 ,\n",
              "        9.17 ,  8.155,  5.73 ,  8.935,  8.92 ,  7.36 ,  7.64 ,  5.34 ,\n",
              "        7.22 ,  6.615,  6.76 ,  6.3  ,  5.98 ,  8.06 ,  6.44 ,  5.095,\n",
              "        8.8  ,  6.325,  7.31 ,  9.035,  9.105,  7.145,  4.905,  4.555,\n",
              "        8.   ,  7.315,  6.89 ,  5.945,  6.86 ,  6.935,  6.03 ,  7.725,\n",
              "        5.885,  7.155,  6.46 ,  5.48 ,  8.01 ,  5.8  ,  5.305,  6.905,\n",
              "        7.96 ,  5.11 ,  8.77 ,  7.685,  8.275,  8.38 ,  8.35 ,  9.42 ,\n",
              "        6.775,  6.4  ,  6.895,  5.485,  6.52 ,  8.67 ,  5.21 ,  5.4  ])"
            ]
          },
          "metadata": {},
          "execution_count": 10
        }
      ]
    },
    {
      "cell_type": "markdown",
      "source": [
        "* Por los datos mostrados como valores unicos anterior, un valor adecuado en este caso para completar la data faltante es la mediana de la serie, por lo que se completara con la mediana de los valores existentes, ya que esta representa el valor que ocupa el lugar central de todos los datos de una serie y no seria necesario buscar alguna otra relacion con las otras columnas con datos de productos"
      ],
      "metadata": {
        "id": "rUMipb65tRZN"
      }
    },
    {
      "cell_type": "code",
      "source": [
        "mediana = df['Item_Weight'].median()\n",
        "df['Item_Weight'].fillna(mediana, inplace=True)\n",
        "df['Item_Weight'].isna().sum()          # verificacion"
      ],
      "metadata": {
        "id": "zC8RwDWDQEz8",
        "colab": {
          "base_uri": "https://localhost:8080/"
        },
        "outputId": "8a65ced9-a25e-400d-b8b3-814e85d695c6"
      },
      "execution_count": null,
      "outputs": [
        {
          "output_type": "execute_result",
          "data": {
            "text/plain": [
              "0"
            ]
          },
          "metadata": {},
          "execution_count": 11
        }
      ]
    },
    {
      "cell_type": "code",
      "source": [
        "# Revision de la Categoria \"Outlet_Size\":\n",
        "# Esta categoria es del tipo object y contiene el tipo de area donde se encuentra la tienda."
      ],
      "metadata": {
        "id": "9t2u8pfVPW0p"
      },
      "execution_count": null,
      "outputs": []
    },
    {
      "cell_type": "code",
      "source": [
        "df[\"Outlet_Size\"].head()"
      ],
      "metadata": {
        "id": "Sv4GBrGZmD4p",
        "colab": {
          "base_uri": "https://localhost:8080/"
        },
        "outputId": "965d5fa7-ede4-4acf-b7b9-36e6ded75835"
      },
      "execution_count": null,
      "outputs": [
        {
          "output_type": "execute_result",
          "data": {
            "text/plain": [
              "0    Medium\n",
              "1    Medium\n",
              "2    Medium\n",
              "3       NaN\n",
              "4      High\n",
              "Name: Outlet_Size, dtype: object"
            ]
          },
          "metadata": {},
          "execution_count": 13
        }
      ]
    },
    {
      "cell_type": "code",
      "source": [
        "df[\"Outlet_Size\"].value_counts()"
      ],
      "metadata": {
        "id": "eyoZzTBUTE9a",
        "colab": {
          "base_uri": "https://localhost:8080/"
        },
        "outputId": "e441e8bf-fb23-4ded-8fa7-565ac8368ad4"
      },
      "execution_count": null,
      "outputs": [
        {
          "output_type": "execute_result",
          "data": {
            "text/plain": [
              "Medium    2793\n",
              "Small     2388\n",
              "High       932\n",
              "Name: Outlet_Size, dtype: int64"
            ]
          },
          "metadata": {},
          "execution_count": 14
        }
      ]
    },
    {
      "cell_type": "markdown",
      "source": [
        "* En este caso, por los valores de la serie se ve que es una data alfanumerica indicando los tamaños de tienda (Medium, Small y High), por lo que no corresponde asignar algun valor estadistico como en el caso anteior a la data\n",
        "faltante, por lo que se analizara el resto de la informacion relacionadas\n",
        "con los outlets o tiendas.\n",
        "\n",
        "* La identificacion de la tienda y el año en el que se establecio (Outlet_Identifier y Outlet_Establishment_Year) son datos basicamente de referencia identificatoria con mucha data que no ayudara a completar los datos\n",
        "\n",
        "* las demas categorias (Outlet_Location_Type, Outlet_Type y Item_Outlet_Sales) si podrian tener alguna relacion con el tamaño de la tienda como para usarlos para completar la data faltante, lo que se vera a continuacion:"
      ],
      "metadata": {
        "id": "TyTNbkL7txoz"
      }
    },
    {
      "cell_type": "code",
      "source": [
        "df[[\"Outlet_Size\",\"Outlet_Location_Type\",\"Outlet_Type\",\"Item_Outlet_Sales\"]].head()      "
      ],
      "metadata": {
        "id": "0zGFvjfiwAxl",
        "colab": {
          "base_uri": "https://localhost:8080/",
          "height": 206
        },
        "outputId": "16c0bcb7-c145-4266-ac36-56679e9d2e0e"
      },
      "execution_count": null,
      "outputs": [
        {
          "output_type": "execute_result",
          "data": {
            "text/plain": [
              "  Outlet_Size Outlet_Location_Type        Outlet_Type  Item_Outlet_Sales\n",
              "0      Medium               Tier 1  Supermarket Type1          3735.1380\n",
              "1      Medium               Tier 3  Supermarket Type2           443.4228\n",
              "2      Medium               Tier 1  Supermarket Type1          2097.2700\n",
              "3         NaN               Tier 3      Grocery Store           732.3800\n",
              "4        High               Tier 3  Supermarket Type1           994.7052"
            ],
            "text/html": [
              "\n",
              "  <div id=\"df-873de30a-5b52-447e-a6e5-ba72fa715a8c\">\n",
              "    <div class=\"colab-df-container\">\n",
              "      <div>\n",
              "<style scoped>\n",
              "    .dataframe tbody tr th:only-of-type {\n",
              "        vertical-align: middle;\n",
              "    }\n",
              "\n",
              "    .dataframe tbody tr th {\n",
              "        vertical-align: top;\n",
              "    }\n",
              "\n",
              "    .dataframe thead th {\n",
              "        text-align: right;\n",
              "    }\n",
              "</style>\n",
              "<table border=\"1\" class=\"dataframe\">\n",
              "  <thead>\n",
              "    <tr style=\"text-align: right;\">\n",
              "      <th></th>\n",
              "      <th>Outlet_Size</th>\n",
              "      <th>Outlet_Location_Type</th>\n",
              "      <th>Outlet_Type</th>\n",
              "      <th>Item_Outlet_Sales</th>\n",
              "    </tr>\n",
              "  </thead>\n",
              "  <tbody>\n",
              "    <tr>\n",
              "      <th>0</th>\n",
              "      <td>Medium</td>\n",
              "      <td>Tier 1</td>\n",
              "      <td>Supermarket Type1</td>\n",
              "      <td>3735.1380</td>\n",
              "    </tr>\n",
              "    <tr>\n",
              "      <th>1</th>\n",
              "      <td>Medium</td>\n",
              "      <td>Tier 3</td>\n",
              "      <td>Supermarket Type2</td>\n",
              "      <td>443.4228</td>\n",
              "    </tr>\n",
              "    <tr>\n",
              "      <th>2</th>\n",
              "      <td>Medium</td>\n",
              "      <td>Tier 1</td>\n",
              "      <td>Supermarket Type1</td>\n",
              "      <td>2097.2700</td>\n",
              "    </tr>\n",
              "    <tr>\n",
              "      <th>3</th>\n",
              "      <td>NaN</td>\n",
              "      <td>Tier 3</td>\n",
              "      <td>Grocery Store</td>\n",
              "      <td>732.3800</td>\n",
              "    </tr>\n",
              "    <tr>\n",
              "      <th>4</th>\n",
              "      <td>High</td>\n",
              "      <td>Tier 3</td>\n",
              "      <td>Supermarket Type1</td>\n",
              "      <td>994.7052</td>\n",
              "    </tr>\n",
              "  </tbody>\n",
              "</table>\n",
              "</div>\n",
              "      <button class=\"colab-df-convert\" onclick=\"convertToInteractive('df-873de30a-5b52-447e-a6e5-ba72fa715a8c')\"\n",
              "              title=\"Convert this dataframe to an interactive table.\"\n",
              "              style=\"display:none;\">\n",
              "        \n",
              "  <svg xmlns=\"http://www.w3.org/2000/svg\" height=\"24px\"viewBox=\"0 0 24 24\"\n",
              "       width=\"24px\">\n",
              "    <path d=\"M0 0h24v24H0V0z\" fill=\"none\"/>\n",
              "    <path d=\"M18.56 5.44l.94 2.06.94-2.06 2.06-.94-2.06-.94-.94-2.06-.94 2.06-2.06.94zm-11 1L8.5 8.5l.94-2.06 2.06-.94-2.06-.94L8.5 2.5l-.94 2.06-2.06.94zm10 10l.94 2.06.94-2.06 2.06-.94-2.06-.94-.94-2.06-.94 2.06-2.06.94z\"/><path d=\"M17.41 7.96l-1.37-1.37c-.4-.4-.92-.59-1.43-.59-.52 0-1.04.2-1.43.59L10.3 9.45l-7.72 7.72c-.78.78-.78 2.05 0 2.83L4 21.41c.39.39.9.59 1.41.59.51 0 1.02-.2 1.41-.59l7.78-7.78 2.81-2.81c.8-.78.8-2.07 0-2.86zM5.41 20L4 18.59l7.72-7.72 1.47 1.35L5.41 20z\"/>\n",
              "  </svg>\n",
              "      </button>\n",
              "      \n",
              "  <style>\n",
              "    .colab-df-container {\n",
              "      display:flex;\n",
              "      flex-wrap:wrap;\n",
              "      gap: 12px;\n",
              "    }\n",
              "\n",
              "    .colab-df-convert {\n",
              "      background-color: #E8F0FE;\n",
              "      border: none;\n",
              "      border-radius: 50%;\n",
              "      cursor: pointer;\n",
              "      display: none;\n",
              "      fill: #1967D2;\n",
              "      height: 32px;\n",
              "      padding: 0 0 0 0;\n",
              "      width: 32px;\n",
              "    }\n",
              "\n",
              "    .colab-df-convert:hover {\n",
              "      background-color: #E2EBFA;\n",
              "      box-shadow: 0px 1px 2px rgba(60, 64, 67, 0.3), 0px 1px 3px 1px rgba(60, 64, 67, 0.15);\n",
              "      fill: #174EA6;\n",
              "    }\n",
              "\n",
              "    [theme=dark] .colab-df-convert {\n",
              "      background-color: #3B4455;\n",
              "      fill: #D2E3FC;\n",
              "    }\n",
              "\n",
              "    [theme=dark] .colab-df-convert:hover {\n",
              "      background-color: #434B5C;\n",
              "      box-shadow: 0px 1px 3px 1px rgba(0, 0, 0, 0.15);\n",
              "      filter: drop-shadow(0px 1px 2px rgba(0, 0, 0, 0.3));\n",
              "      fill: #FFFFFF;\n",
              "    }\n",
              "  </style>\n",
              "\n",
              "      <script>\n",
              "        const buttonEl =\n",
              "          document.querySelector('#df-873de30a-5b52-447e-a6e5-ba72fa715a8c button.colab-df-convert');\n",
              "        buttonEl.style.display =\n",
              "          google.colab.kernel.accessAllowed ? 'block' : 'none';\n",
              "\n",
              "        async function convertToInteractive(key) {\n",
              "          const element = document.querySelector('#df-873de30a-5b52-447e-a6e5-ba72fa715a8c');\n",
              "          const dataTable =\n",
              "            await google.colab.kernel.invokeFunction('convertToInteractive',\n",
              "                                                     [key], {});\n",
              "          if (!dataTable) return;\n",
              "\n",
              "          const docLinkHtml = 'Like what you see? Visit the ' +\n",
              "            '<a target=\"_blank\" href=https://colab.research.google.com/notebooks/data_table.ipynb>data table notebook</a>'\n",
              "            + ' to learn more about interactive tables.';\n",
              "          element.innerHTML = '';\n",
              "          dataTable['output_type'] = 'display_data';\n",
              "          await google.colab.output.renderOutput(dataTable, element);\n",
              "          const docLink = document.createElement('div');\n",
              "          docLink.innerHTML = docLinkHtml;\n",
              "          element.appendChild(docLink);\n",
              "        }\n",
              "      </script>\n",
              "    </div>\n",
              "  </div>\n",
              "  "
            ]
          },
          "metadata": {},
          "execution_count": 15
        }
      ]
    },
    {
      "cell_type": "markdown",
      "source": [
        "* Veamos las relaciones con el promedio de las ventas que son valores numericos "
      ],
      "metadata": {
        "id": "bZFsHHfhu3dy"
      }
    },
    {
      "cell_type": "code",
      "source": [
        "df.groupby([\"Outlet_Size\", \"Outlet_Location_Type\", \"Outlet_Type\"])[\"Item_Outlet_Sales\"].mean()"
      ],
      "metadata": {
        "id": "rxga9Zd6wAc-",
        "colab": {
          "base_uri": "https://localhost:8080/"
        },
        "outputId": "52a24e80-4d3a-47fb-e3be-3d6a86cb30f5"
      },
      "execution_count": null,
      "outputs": [
        {
          "output_type": "execute_result",
          "data": {
            "text/plain": [
              "Outlet_Size  Outlet_Location_Type  Outlet_Type      \n",
              "High         Tier 3                Supermarket Type1    2298.995256\n",
              "Medium       Tier 1                Supermarket Type1    2348.354635\n",
              "             Tier 3                Supermarket Type2    1995.498739\n",
              "                                   Supermarket Type3    3694.038558\n",
              "Small        Tier 1                Grocery Store         340.329723\n",
              "                                   Supermarket Type1    2277.844267\n",
              "             Tier 2                Supermarket Type1    2438.841866\n",
              "Name: Item_Outlet_Sales, dtype: float64"
            ]
          },
          "metadata": {},
          "execution_count": 16
        }
      ]
    },
    {
      "cell_type": "markdown",
      "source": [
        "* Encabezaremos el agrupamiento con la categoria de mas valores, poniendo al final la de Tamaño"
      ],
      "metadata": {
        "id": "MGWuTUG7u-A0"
      }
    },
    {
      "cell_type": "code",
      "source": [
        "df.groupby([\"Outlet_Type\",\"Outlet_Location_Type\",\"Outlet_Size\"])[\"Item_Outlet_Sales\"].mean()"
      ],
      "metadata": {
        "id": "QaHazuwwJ3N-",
        "colab": {
          "base_uri": "https://localhost:8080/"
        },
        "outputId": "26f53fd6-3486-4e3b-87b1-411c0960ffc4"
      },
      "execution_count": null,
      "outputs": [
        {
          "output_type": "execute_result",
          "data": {
            "text/plain": [
              "Outlet_Type        Outlet_Location_Type  Outlet_Size\n",
              "Grocery Store      Tier 1                Small           340.329723\n",
              "Supermarket Type1  Tier 1                Medium         2348.354635\n",
              "                                         Small          2277.844267\n",
              "                   Tier 2                Small          2438.841866\n",
              "                   Tier 3                High           2298.995256\n",
              "Supermarket Type2  Tier 3                Medium         1995.498739\n",
              "Supermarket Type3  Tier 3                Medium         3694.038558\n",
              "Name: Item_Outlet_Sales, dtype: float64"
            ]
          },
          "metadata": {},
          "execution_count": 17
        }
      ]
    },
    {
      "cell_type": "markdown",
      "source": [
        "* parece que el tipo de locacion no ayuda mucho, asi que no lo consideraremos y se evaluaran tanto juntas como por separado las otras dos:"
      ],
      "metadata": {
        "id": "01DF0POgvFm3"
      }
    },
    {
      "cell_type": "code",
      "source": [
        "df.groupby([\"Outlet_Location_Type\",\"Outlet_Size\"])[\"Item_Outlet_Sales\"].mean()"
      ],
      "metadata": {
        "id": "oy5743AneIne",
        "colab": {
          "base_uri": "https://localhost:8080/"
        },
        "outputId": "ae94808b-5a05-4d5b-f15b-2ed0bfe731a2"
      },
      "execution_count": null,
      "outputs": [
        {
          "output_type": "execute_result",
          "data": {
            "text/plain": [
              "Outlet_Location_Type  Outlet_Size\n",
              "Tier 1                Medium         2348.354635\n",
              "                      Small          1576.192909\n",
              "Tier 2                Small          2438.841866\n",
              "Tier 3                High           2298.995256\n",
              "                      Medium         2847.959679\n",
              "Name: Item_Outlet_Sales, dtype: float64"
            ]
          },
          "metadata": {},
          "execution_count": 18
        }
      ]
    },
    {
      "cell_type": "code",
      "source": [
        "df.groupby(\"Outlet_Size\")[\"Item_Outlet_Sales\"].mean()"
      ],
      "metadata": {
        "id": "bM_VHJAEJKJE",
        "colab": {
          "base_uri": "https://localhost:8080/"
        },
        "outputId": "8564c399-6d29-4279-e113-072a9160d570"
      },
      "execution_count": null,
      "outputs": [
        {
          "output_type": "execute_result",
          "data": {
            "text/plain": [
              "Outlet_Size\n",
              "High      2298.995256\n",
              "Medium    2681.603542\n",
              "Small     1912.149161\n",
              "Name: Item_Outlet_Sales, dtype: float64"
            ]
          },
          "metadata": {},
          "execution_count": 19
        }
      ]
    },
    {
      "cell_type": "code",
      "source": [
        "df.groupby(\"Outlet_Location_Type\")[\"Item_Outlet_Sales\"].mean()"
      ],
      "metadata": {
        "id": "3zH_UUeSIVRu",
        "colab": {
          "base_uri": "https://localhost:8080/"
        },
        "outputId": "d4e7d169-f9d5-457a-96ee-512d272e849c"
      },
      "execution_count": null,
      "outputs": [
        {
          "output_type": "execute_result",
          "data": {
            "text/plain": [
              "Outlet_Location_Type\n",
              "Tier 1    1876.909159\n",
              "Tier 2    2323.990559\n",
              "Tier 3    2279.627651\n",
              "Name: Item_Outlet_Sales, dtype: float64"
            ]
          },
          "metadata": {},
          "execution_count": 20
        }
      ]
    },
    {
      "cell_type": "markdown",
      "source": [
        "* Se observa que los valores promedio del volumen de ventas en ambas categorias son similares relacionando a High con Tier 3, Medium con Tier 1 y Small con Tier 2 por lo tanto se completara los datos faltantes de la categoria Outlet_Size con el valor High, Medium o Small segun la tabla siguiente:\n",
        "\n",
        " - High, si el valor de ventas correspondiente esta entre 2,500 y mas dolares (similar a Tier 2)\n",
        "\n",
        " - Medium si el valor promedio de ventas esta entre 2,000 y 2,500)\n",
        "\n",
        " - Small si el valor del promedio de ventas correspondiente al indice de Outlet_Location_Type esta entre 0 y 2000 dolares"
      ],
      "metadata": {
        "id": "yPxSWzMsvQmJ"
      }
    },
    {
      "cell_type": "code",
      "source": [
        "largo = len(df[\"Outlet_Location_Type\"])\n",
        "x=0\n",
        "for x in range(0,largo):\n",
        "  valor = df[\"Outlet_Size\"][x]\n",
        "  ventas=df[\"Item_Outlet_Sales\"][x]\n",
        "  anterior=valor\n",
        "  if valor==\"High\" or valor==\"Medium\" or valor==\"Small\":\n",
        "     valor=anterior       # instruccion para poder usar el else \n",
        "  else:                   # para trabajar los datos faltantes\n",
        "    if ventas<2000:\n",
        "      valor=\"Small\"\n",
        "    elif ventas<=2500:\n",
        "      valor=\"Medium\"\n",
        "    else:\n",
        "      valor=\"High\"\n",
        "  df[\"Outlet_Size\"]=df[\"Outlet_Size\"].replace(anterior,valor)\n",
        "  x=x+1"
      ],
      "metadata": {
        "id": "M_lK0HkDjfUk"
      },
      "execution_count": null,
      "outputs": []
    },
    {
      "cell_type": "markdown",
      "source": [
        "6) Confirmen que no hay valores faltantes después de abordarlos"
      ],
      "metadata": {
        "id": "u1CL7Kh_M_JL"
      }
    },
    {
      "cell_type": "code",
      "source": [
        "df[\"Outlet_Size\"].isna().sum()"
      ],
      "metadata": {
        "id": "etYnQK6tdesv",
        "colab": {
          "base_uri": "https://localhost:8080/"
        },
        "outputId": "ddb835b3-f43e-4bf7-efbd-4e0c69d3c405"
      },
      "execution_count": null,
      "outputs": [
        {
          "output_type": "execute_result",
          "data": {
            "text/plain": [
              "0"
            ]
          },
          "metadata": {},
          "execution_count": 22
        }
      ]
    },
    {
      "cell_type": "markdown",
      "source": [
        "7) Encuentren y arreglen alguna categoría inconsistente de datos "
      ],
      "metadata": {
        "id": "zZX3EtJfNCvM"
      }
    },
    {
      "cell_type": "code",
      "source": [
        "df[\"Item_Identifier\"].unique()"
      ],
      "metadata": {
        "id": "lrW_3BVurT_3",
        "colab": {
          "base_uri": "https://localhost:8080/"
        },
        "outputId": "6e516d82-4534-4dea-84cf-acf0453f1322"
      },
      "execution_count": null,
      "outputs": [
        {
          "output_type": "execute_result",
          "data": {
            "text/plain": [
              "array(['FDA15', 'DRC01', 'FDN15', ..., 'NCF55', 'NCW30', 'NCW05'],\n",
              "      dtype=object)"
            ]
          },
          "metadata": {},
          "execution_count": 23
        }
      ]
    },
    {
      "cell_type": "code",
      "source": [
        "df[\"Item_Fat_Content\"].unique()"
      ],
      "metadata": {
        "id": "LV9bFphZVWyC",
        "colab": {
          "base_uri": "https://localhost:8080/"
        },
        "outputId": "d1cc2f03-78b3-4904-cb11-7c5d3a405444"
      },
      "execution_count": null,
      "outputs": [
        {
          "output_type": "execute_result",
          "data": {
            "text/plain": [
              "array(['Low Fat', 'Regular', 'low fat', 'LF', 'reg'], dtype=object)"
            ]
          },
          "metadata": {},
          "execution_count": 24
        }
      ]
    },
    {
      "cell_type": "markdown",
      "source": [
        "* Esta categoria tiene inconsistencia en los valores low fat, LF y reg que se procede a corregir"
      ],
      "metadata": {
        "id": "pBwjXcBEv3J7"
      }
    },
    {
      "cell_type": "code",
      "source": [
        "df[\"Item_Fat_Content\"] = df[\"Item_Fat_Content\"].replace(\"low fat\",\"Low Fat\")\n",
        "df[\"Item_Fat_Content\"] = df[\"Item_Fat_Content\"].replace(\"LF\",\"Low Fat\")\n",
        "df[\"Item_Fat_Content\"] = df[\"Item_Fat_Content\"].replace(\"reg\",\"Regular\")"
      ],
      "metadata": {
        "id": "coP7qvIVrsnu"
      },
      "execution_count": null,
      "outputs": []
    },
    {
      "cell_type": "code",
      "source": [
        "# comprobacion:\n",
        "df[\"Item_Fat_Content\"].unique()"
      ],
      "metadata": {
        "id": "Y1mj5POhtKoN",
        "colab": {
          "base_uri": "https://localhost:8080/"
        },
        "outputId": "dfe3ab46-15b7-495c-adaf-d7d275225e07"
      },
      "execution_count": null,
      "outputs": [
        {
          "output_type": "execute_result",
          "data": {
            "text/plain": [
              "array(['Low Fat', 'Regular'], dtype=object)"
            ]
          },
          "metadata": {},
          "execution_count": 26
        }
      ]
    },
    {
      "cell_type": "markdown",
      "source": [
        "8) Obtencion de las estadísticas de una categoria resumidas para cada uno (mínimo, máximo y media)"
      ],
      "metadata": {
        "id": "nBwgU9JKNN-D"
      }
    },
    {
      "cell_type": "code",
      "source": [
        "df[\"Item_Outlet_Sales\"].describe()"
      ],
      "metadata": {
        "id": "Qq2YsJDbsJTn",
        "colab": {
          "base_uri": "https://localhost:8080/"
        },
        "outputId": "64c05544-c6dd-4dc8-e459-54861773bbd0"
      },
      "execution_count": null,
      "outputs": [
        {
          "output_type": "execute_result",
          "data": {
            "text/plain": [
              "count     8523.000000\n",
              "mean      2181.288914\n",
              "std       1706.499616\n",
              "min         33.290000\n",
              "25%        834.247400\n",
              "50%       1794.331000\n",
              "75%       3101.296400\n",
              "max      13086.964800\n",
              "Name: Item_Outlet_Sales, dtype: float64"
            ]
          },
          "metadata": {},
          "execution_count": 27
        }
      ]
    },
    {
      "cell_type": "markdown",
      "source": [
        "## Conclusiones a Parte 2:"
      ],
      "metadata": {
        "id": "bAo2Gi3jPaJf"
      }
    },
    {
      "cell_type": "markdown",
      "source": [
        "Del analisis exploratorio de la data, podemos concluir en lo siguiente:\n",
        "\n",
        " - Se identificaron a las categorias \"Item_Weight\" y \"Outlet_Size\" como unicas con valores faltantes. Al no superar en ninguno de los dos casos el 50% de la data y ante la posibilidad de ser posiblemente relevantes para las predicciones de ventas se decide completar estos valores faltantes con la media aritmetica en el caso de \"Item_Weight\" y en el caso de \"Outlet_Size\" con un valor de HIgh, Medium o Low en funcion a una escala del valor promedio de las ventas y su ubicacion en el indice de la categoria Outlet_Location_Type\n",
        "\n",
        "- Se vio que no hay duplicados ni de filas ni de columnas en la data\n",
        "\n",
        "- La categoria \"Item_Fat_Content\" presenta inconsistencia en los valores low fat, LF y reg, los cuales se corrigieron correspondientemente\n"
      ],
      "metadata": {
        "id": "h1l6Q1rNPrOU"
      }
    },
    {
      "cell_type": "markdown",
      "source": [
        "# PARTE 3 (base)\n",
        "\n",
        "Para la tercera parte, la tarea es completar cualquier análisis estadístico que los puedan a ayudar a comprender, explicar o moldear sus datos. Esto debe incluir al menos uno de cada:\n",
        "\n",
        " - Histograma para ver las distribuciones de diversas características en el conjunto de datos.\n",
        "\n",
        " - Boxplot para ver resúmenes estadísticos de diversas características en el conjunto de datos.\n",
        "\n",
        " - Mapa de calor de la correlación entre las características."
      ],
      "metadata": {
        "id": "cMM9JHUyzCaJ"
      }
    },
    {
      "cell_type": "markdown",
      "source": [
        "## Visualizaciones"
      ],
      "metadata": {
        "id": "oLI36ai-FkiD"
      }
    },
    {
      "cell_type": "code",
      "source": [
        "# carga de librerias adicionales a pandas para hacer lsa visualizaciones"
      ],
      "metadata": {
        "id": "_bTu-45_F8Mk"
      },
      "execution_count": null,
      "outputs": []
    },
    {
      "cell_type": "code",
      "source": [
        "import matplotlib.pyplot as plt\n",
        "import seaborn as sns\n",
        "import numpy as np"
      ],
      "metadata": {
        "id": "2eRkafmf4pFD"
      },
      "execution_count": null,
      "outputs": []
    },
    {
      "cell_type": "markdown",
      "source": [
        "* Se mostrara un histograma para mostrar la distribucion de los datos de todas las caracteristicas con informacion numerica:\n",
        "\n",
        " - Item_Weight                  (float64)\n",
        " - Item_Visibility              (float64)\n",
        " - Item_MRP                     (float64)\n",
        " - Outlet_Establishment_Year      (int64)\n",
        " - Item_Outlet_Sales            (float64)\n",
        "\n",
        "* Para la visualizacion en Boxplot, se compararan las dos primeras (peso y veisibilidad) y la tercera y la ultimas (precios y ventas)"
      ],
      "metadata": {
        "id": "ntM2mv4N3D9y"
      }
    },
    {
      "cell_type": "code",
      "source": [
        "# Histogramas"
      ],
      "metadata": {
        "id": "IYDpzmiAzvRj"
      },
      "execution_count": null,
      "outputs": []
    },
    {
      "cell_type": "code",
      "source": [
        "lista=np.array([\"Item_Weight\", \"Item_Visibility\", \"Item_MRP\", \"Outlet_Establishment_Year\", \"Item_Outlet_Sales\"])  # columnas a usar\n",
        "colores=np.array([\"blue\", \"red\", \"green\", \"yellow\", \"orange\"])     # se dara un color a cada histograma"
      ],
      "metadata": {
        "id": "0W7s68JF8LpW"
      },
      "execution_count": null,
      "outputs": []
    },
    {
      "cell_type": "markdown",
      "source": [
        "* Dado que los codigos son practiamente los mismos, se usara un bucle for para hacerlo"
      ],
      "metadata": {
        "id": "aOLE7gleVIAu"
      }
    },
    {
      "cell_type": "code",
      "source": [
        "for x in range(0, len(lista)):\n",
        "  fig = plt.figure(figsize=(10, 5))\n",
        "  plt.subplot(x+1, 1, 1)\n",
        "  variable=\"Histograma de la Categoria \"+lista[x]\n",
        "  plt.title(variable)\n",
        "  plt.xlabel(lista[x])     # agrega sub-titulo al eje x\n",
        "  plt.ylabel(\"Frecuencia\") # agrega sub-titulo al eje y\n",
        "  plt.style.use('seaborn')\n",
        "  df.loc[:, lista[x]].hist(bins = 30, legend=\" \", color=colores[x], edgecolor='black', alpha=0.5) \n",
        "  plt.xticks(rotation = 45) # rotacion de los valores del eje x para que no se monten\n",
        "  plt.ticklabel_format(useOffset=False, style='plain')  # quitamos la notacion cientifica inicial"
      ],
      "metadata": {
        "colab": {
          "base_uri": "https://localhost:8080/",
          "height": 959
        },
        "id": "VNC0SGP0713O",
        "outputId": "8cfeea6d-a45e-4072-bea7-092a24776095"
      },
      "execution_count": null,
      "outputs": [
        {
          "output_type": "display_data",
          "data": {
            "text/plain": [
              "<Figure size 720x360 with 1 Axes>"
            ],
            "image/png": "[encoded data removed]"
          },
          "metadata": {
            "needs_background": "light"
          }
        },
        {
          "output_type": "display_data",
          "data": {
            "text/plain": [
              "<Figure size 720x360 with 1 Axes>"
            ],
            "image/png": "[encoded data removed]"
          },
          "metadata": {}
        },
        {
          "output_type": "display_data",
          "data": {
            "text/plain": [
              "<Figure size 720x360 with 1 Axes>"
            ],
            "image/png": "[encoded data removed]"
          },
          "metadata": {}
        },
        {
          "output_type": "display_data",
          "data": {
            "text/plain": [
              "<Figure size 720x360 with 1 Axes>"
            ],
            "image/png": "[encoded data removed]"
          },
          "metadata": {}
        },
        {
          "output_type": "display_data",
          "data": {
            "text/plain": [
              "<Figure size 720x360 with 1 Axes>"
            ],
            "image/png": "[encoded data removed]"
          },
          "metadata": {}
        }
      ]
    },
    {
      "cell_type": "markdown",
      "source": [
        " - De los histogramas mostrados, podemos concluir que la categoria Item Weighs es la unica que presenta una distribucion normal con un desviacion estandar corta entre sus valores respecto a la media. \n",
        "\n",
        " - Los histogramas de la categorias Item_Visibility e Item_Outlet_Sales estan sesgados hacia la derecha de la media.\n",
        "\n",
        " - El histograma de la categoria Item_MRP tambien es parecido a una distribucion normal tambien con desviacion estandar corta \n",
        "\n",
        " - El histograma de la categoria Outlet_Establishment_Year, muestra un dispersion total de datos dado que se trata de años"
      ],
      "metadata": {
        "id": "FRgbZCVGP4Kn"
      }
    },
    {
      "cell_type": "code",
      "source": [
        "# Boxplots"
      ],
      "metadata": {
        "id": "1hvAGobPV1Bc"
      },
      "execution_count": null,
      "outputs": []
    },
    {
      "cell_type": "markdown",
      "source": [
        "* Pesos y Visibilidad:"
      ],
      "metadata": {
        "id": "zZ2mOMtCZ5Z4"
      }
    },
    {
      "cell_type": "code",
      "source": [
        "peso = df.loc[:,\"Item_Weight\"]\n",
        "visibilidad = np.array(df.loc[:,\"Item_Visibility\"])*100  # para llevar los indices a porcentajes para mejorar el boxplot\n",
        "fig, axes = plt.subplots(nrows = 1, ncols = 1, figsize = (8,5))\n",
        "boxplots = axes.boxplot([peso, visibilidad],\n",
        "           notch = True,\n",
        "           labels=[\"Item_Weight\", \"Item_Visibility (%)\"],\n",
        "           widths = .7,\n",
        "           patch_artist=True,\n",
        "           medianprops = dict(linestyle='-', linewidth=2, color='Yellow'),\n",
        "           boxprops = dict(linestyle='--', linewidth=2, color='Black', facecolor = 'blue', alpha = .4)\n",
        "          );\n",
        "boxplot1 = boxplots['boxes'][0]\n",
        "boxplot1.set_facecolor('red')\n",
        "plt.xlabel(\"Item_Weight vs. Item_Visibility\", fontsize = 15);\n",
        "plt.ylabel(\"Quantity\", fontsize = 15);\n",
        "plt.xticks(fontsize = 15);\n",
        "plt.yticks(fontsize = 15);"
      ],
      "metadata": {
        "colab": {
          "base_uri": "https://localhost:8080/",
          "height": 342
        },
        "id": "phjPaPPgXbup",
        "outputId": "31a030ec-ecbd-4402-da2f-905c80f5fca4"
      },
      "execution_count": null,
      "outputs": [
        {
          "output_type": "display_data",
          "data": {
            "text/plain": [
              "<Figure size 576x360 with 1 Axes>"
            ],
            "image/png": "[encoded data removed]"
          },
          "metadata": {}
        }
      ]
    },
    {
      "cell_type": "markdown",
      "source": [
        "* Precios y Ventas:"
      ],
      "metadata": {
        "id": "WEpI67vZaDZr"
      }
    },
    {
      "cell_type": "markdown",
      "source": [
        "La caracteristica Item_Visibililty se ha llevado a porcentajes para poder visualizar mejor ambas caracteristicas, en este caso nuevamente se refleja al igual que el histograma que la caracteristica Item_Weight presenta una distribicion normal de los datos con corta desviacion estandar. En cambio los datos de Item_Visibility tienden a ubicarse hacia la derecha. "
      ],
      "metadata": {
        "id": "tXgCoqjsXKZ2"
      }
    },
    {
      "cell_type": "code",
      "source": [
        "precios = df.loc[:,\"Item_MRP\"]\n",
        "ventas = np.array(df.loc[:,\"Item_Outlet_Sales\"])/10 # para trabajar las ventas en decimas\n",
        "fig, axes = plt.subplots(nrows = 1, ncols = 1, figsize = (8,5))\n",
        "boxplots = axes.boxplot([precios, ventas],\n",
        "           notch = True,\n",
        "           labels=[\"Item_MRP\", \"Item_Outlet_Sales\"],\n",
        "           widths = .7,\n",
        "           patch_artist=True,\n",
        "           medianprops = dict(linestyle='-', linewidth=2, color='Yellow'),\n",
        "           boxprops = dict(linestyle='--', linewidth=2, color='Black', facecolor = 'green', alpha = .4)\n",
        "          );\n",
        "boxplot1 = boxplots['boxes'][0]\n",
        "boxplot1.set_facecolor('red')\n",
        "plt.xlabel(\"Item_MRP vs. Item_Outlet_Sales (in Tenths)\", fontsize = 15);\n",
        "plt.ylabel(\"Quantity\", fontsize = 15);\n",
        "plt.xticks(fontsize = 15);\n",
        "plt.yticks(fontsize = 15);"
      ],
      "metadata": {
        "colab": {
          "base_uri": "https://localhost:8080/",
          "height": 342
        },
        "id": "REOtNI9haCbe",
        "outputId": "d4d47214-bedb-4f27-ada9-b3a73edb442f"
      },
      "execution_count": null,
      "outputs": [
        {
          "output_type": "display_data",
          "data": {
            "text/plain": [
              "<Figure size 576x360 with 1 Axes>"
            ],
            "image/png": "[encoded data removed]"
          },
          "metadata": {}
        }
      ]
    },
    {
      "cell_type": "markdown",
      "source": [
        " - La caracteristica Item_Outlet_Sales se ha llevado a porcentajes para poder visualizar mejor ambas caracteristicas, en este caso nuevamente se refleja al igual que el histograma un sesgo de los datos hacia la derecha, en cambio la de Item_MRP muestra una distribicion normal de los datos con corta desviacion estandar. "
      ],
      "metadata": {
        "id": "ek_xII3PYlLX"
      }
    },
    {
      "cell_type": "code",
      "source": [
        "# Mapa de calor de la correlación entre las características."
      ],
      "metadata": {
        "id": "2WAkqVEDNdZq"
      },
      "execution_count": null,
      "outputs": []
    },
    {
      "cell_type": "code",
      "source": [
        "corr = df.corr()\n",
        "sns.set(rc = {'figure.figsize':(8,8)})\n",
        "sns.heatmap(corr, cmap = 'Blues', annot = True)"
      ],
      "metadata": {
        "colab": {
          "base_uri": "https://localhost:8080/",
          "height": 648
        },
        "id": "fZMhNBkENfje",
        "outputId": "98a415be-6d5b-4fa2-9def-7ebb8421312b"
      },
      "execution_count": null,
      "outputs": [
        {
          "output_type": "execute_result",
          "data": {
            "text/plain": [
              "<matplotlib.axes._subplots.AxesSubplot at 0x7fa2bd3c46d0>"
            ]
          },
          "metadata": {},
          "execution_count": 37
        },
        {
          "output_type": "display_data",
          "data": {
            "text/plain": [
              "<Figure size 576x576 with 2 Axes>"
            ],
            "image/png": "[encoded data removed]"
          },
          "metadata": {}
        }
      ]
    },
    {
      "cell_type": "markdown",
      "source": [
        " - Del mapa de calor mostrado, podemos indicar que hay caracteristicas cuyos datos van en el mismo sentido que otros y otras en sentido contrario: sin embargo, respecto a los valores solo se encuentra una correlacion moderada entre las variables de precios y ventas, lo cual es razonable, ya que las ventas esta en funcion a los precios. Las demas variable no tienen correlacion ya que sus valores son menores a 0.3."
      ],
      "metadata": {
        "id": "IiwwUIB-ZF_G"
      }
    },
    {
      "cell_type": "markdown",
      "source": [
        "## Conclusiones a Parte 3:"
      ],
      "metadata": {
        "id": "G_qfty5bTebd"
      }
    },
    {
      "cell_type": "markdown",
      "source": [
        "De las visualizaciones mostradas en esta parte del proyecto, se puede concluir lo siguiente:\n",
        "\n",
        " - Tanto los histogramas mostrados, como los graficos de las estadisticas boxplot nos muestran la distribucion de la data de las categorias \"Item_Weight\" e \"Item_MRP\" como una distribucion normal con un desviacion estandar corta, miestras que el resto estan sesgados hacia la derecha de la media, a excepcion de la categoria Outlet_Establishment_Year, que muestra un dispersion total de datos dado que se trata de años.\n",
        "\n",
        "- El mapa de calor muestra la relacion de las caracteristicas de data numerica, encontrandose una correlacion moderada entre las variables de precios y ventas, lo cual parece ser razonable, ya que las ventas esta en funcion a los precios. Las demas variable no tienen correlacion ya que sus valores son menores a 0.3."
      ],
      "metadata": {
        "id": "ZAPibaHhTo0B"
      }
    },
    {
      "cell_type": "markdown",
      "source": [
        "# Parte 4 (base)\n",
        "\n",
        "El objetivo de esto es ayudar al minorista a comprender las propiedades de los productos y los puntos de venta que desempeñan un papel crucial en el aumento de las ventas.\n",
        "\n",
        "La tarea es crear numerosas visualizaciones de datos para ayudar a las partes interesadas a comprender mejor las tendencias de los datos. \n",
        "\n",
        "• Creen un mínimo de dos visualizaciones de datos para ayudar a otros comprender las tendencias en los datos (análisis de datos explicativos).\n",
        "\n",
        "• Puesto que estos gráficos son para la elaboración de informes, asegúrense de que tengan un buen aspecto incluyendo títulos, leyendas, etc."
      ],
      "metadata": {
        "id": "rPI-Be5oniS7"
      }
    },
    {
      "cell_type": "code",
      "source": [
        "# revision de columnas para analisis"
      ],
      "metadata": {
        "id": "Esk-T6RkwUBg"
      },
      "execution_count": null,
      "outputs": []
    },
    {
      "cell_type": "code",
      "source": [
        "df.columns"
      ],
      "metadata": {
        "colab": {
          "base_uri": "https://localhost:8080/"
        },
        "id": "yDcs3CSXsOVQ",
        "outputId": "5315767c-0f5b-478d-c8f9-74fef496d530"
      },
      "execution_count": null,
      "outputs": [
        {
          "output_type": "execute_result",
          "data": {
            "text/plain": [
              "Index(['Item_Identifier', 'Item_Weight', 'Item_Fat_Content', 'Item_Visibility',\n",
              "       'Item_Type', 'Item_MRP', 'Outlet_Identifier',\n",
              "       'Outlet_Establishment_Year', 'Outlet_Size', 'Outlet_Location_Type',\n",
              "       'Outlet_Type', 'Item_Outlet_Sales'],\n",
              "      dtype='object')"
            ]
          },
          "metadata": {},
          "execution_count": 39
        }
      ]
    },
    {
      "cell_type": "markdown",
      "source": [
        "## Analisis de las ventas de productos de cada categoria segun contenido graso por tipo de Tienda \n",
        "\n",
        "Para esta finalidad vamos a identificar los productos Low Fat y Regular por separado y mostrar la suma de las ventas (en miles de dolares) de estos en cada tipo de tienda. Esto permitira identificar la preferencia de compra de estos tipos de productos en cada tipo de tienda."
      ],
      "metadata": {
        "id": "tewLexar9IqA"
      }
    },
    {
      "cell_type": "code",
      "source": [
        "# Grafico de Barras"
      ],
      "metadata": {
        "id": "7frPIor84rEk"
      },
      "execution_count": null,
      "outputs": []
    },
    {
      "cell_type": "code",
      "source": [
        "LowFatFilter = df[\"Item_Fat_Content\"] == \"Low Fat\"\n",
        "GrupoLowFat = df.loc[LowFatFilter, :].groupby([\"Outlet_Type\"])[\"Item_Outlet_Sales\"].sum()/1000\n",
        "GrupoLowFat"
      ],
      "metadata": {
        "id": "EnrBm05woB0S",
        "colab": {
          "base_uri": "https://localhost:8080/"
        },
        "outputId": "742de39d-26a6-479f-f215-08600beb8ccd"
      },
      "execution_count": null,
      "outputs": [
        {
          "output_type": "execute_result",
          "data": {
            "text/plain": [
              "Outlet_Type\n",
              "Grocery Store         240.681374\n",
              "Supermarket Type1    8257.520583\n",
              "Supermarket Type2    1201.304937\n",
              "Supermarket Type3    2204.587639\n",
              "Name: Item_Outlet_Sales, dtype: float64"
            ]
          },
          "metadata": {},
          "execution_count": 41
        }
      ]
    },
    {
      "cell_type": "code",
      "source": [
        "RegularFilter = df[\"Item_Fat_Content\"] == \"Regular\"\n",
        "GrupoRegular = df.loc[RegularFilter, :].groupby([\"Outlet_Type\"])[\"Item_Outlet_Sales\"].sum()/1000\n",
        "GrupoRegular"
      ],
      "metadata": {
        "id": "IIqy4xBAviRl",
        "colab": {
          "base_uri": "https://localhost:8080/"
        },
        "outputId": "5a9ac274-09e1-4a08-85ea-529f2cb7800d"
      },
      "execution_count": null,
      "outputs": [
        {
          "output_type": "execute_result",
          "data": {
            "text/plain": [
              "Outlet_Type\n",
              "Grocery Store         127.352892\n",
              "Supermarket Type1    4659.821680\n",
              "Supermarket Type2     650.517893\n",
              "Supermarket Type3    1249.338413\n",
              "Name: Item_Outlet_Sales, dtype: float64"
            ]
          },
          "metadata": {},
          "execution_count": 42
        }
      ]
    },
    {
      "cell_type": "code",
      "source": [
        "plt.figure(figsize=(12, 6))\n",
        "# Subplot 1 \n",
        "plt.subplot(1, 2, 1);\n",
        "sns.barplot(x = GrupoLowFat.index, y = GrupoLowFat.values);\n",
        "plt.xticks(rotation = 90);\n",
        "plt.title(\"Ventas de Productos Low Fat (en miles de dolares)\\n\\n\", fontsize = 14);\n",
        "# Subplot 2\n",
        "plt.subplot(1, 2, 2);\n",
        "sns.barplot(x = GrupoRegular.index, y = GrupoRegular.values);\n",
        "plt.xticks(rotation = 90);\n",
        "plt.title(\"Ventas de Productos Regular (en miles de dolares)\\n\\n\", fontsize = 14);"
      ],
      "metadata": {
        "id": "avGtsAAawCoP",
        "colab": {
          "base_uri": "https://localhost:8080/",
          "height": 544
        },
        "outputId": "663742e2-00a1-4804-b859-dab5d2b5a010"
      },
      "execution_count": null,
      "outputs": [
        {
          "output_type": "display_data",
          "data": {
            "text/plain": [
              "<Figure size 864x432 with 2 Axes>"
            ],
            "image/png": "[encoded data removed]"
          },
          "metadata": {}
        }
      ]
    },
    {
      "cell_type": "markdown",
      "source": [
        " - Por los resultados mostrados, podemos concluir que en los Supermercados Tipo 1 hay una preferenica mucho mayor por los productos de menor contenido graso, no tanto asi para los demas tipo de tienda, excpto en el Supermercado Tipo 3 pero con una diferencia no muy marcada."
      ],
      "metadata": {
        "id": "s0URNXJT-UZQ"
      }
    },
    {
      "cell_type": "markdown",
      "source": [
        " - Para complementar este analisis vemoas como se distribuye el porcentaje de las ventas por cada tipo de tienda, para ver donde debemos concentrar el esfuerzo en la clasificacion de productos."
      ],
      "metadata": {
        "id": "YXbw3zXRAG_M"
      }
    },
    {
      "cell_type": "code",
      "source": [
        "VentasTiendas = df.groupby([\"Outlet_Type\"])[\"Item_Outlet_Sales\"].sum()\n",
        "VentasTiendas"
      ],
      "metadata": {
        "id": "J8SR_E_G1iSE",
        "colab": {
          "base_uri": "https://localhost:8080/"
        },
        "outputId": "115d39cc-9338-4ad0-bfeb-a5021bbd1f2a"
      },
      "execution_count": null,
      "outputs": [
        {
          "output_type": "execute_result",
          "data": {
            "text/plain": [
              "Outlet_Type\n",
              "Grocery Store        3.680343e+05\n",
              "Supermarket Type1    1.291734e+07\n",
              "Supermarket Type2    1.851823e+06\n",
              "Supermarket Type3    3.453926e+06\n",
              "Name: Item_Outlet_Sales, dtype: float64"
            ]
          },
          "metadata": {},
          "execution_count": 44
        }
      ]
    },
    {
      "cell_type": "code",
      "source": [
        "# Grafico Pie"
      ],
      "metadata": {
        "id": "WDSvusqh4wc7"
      },
      "execution_count": null,
      "outputs": []
    },
    {
      "cell_type": "code",
      "source": [
        "Tipo = VentasTiendas.keys()\n",
        "Ventas = VentasTiendas.values\n",
        "explode = (0, 0, 0, 0) \n",
        "fig1, ax1 = plt.subplots(figsize=(6, 6))\n",
        "plt.title(\"Porcentaje de Ventas por Tipo de Tienda\\n\\n\", fontsize=14)\n",
        "ax1.pie(Ventas, explode=explode, labels=Tipo, autopct='%1.1f%%', shadow=True, startangle=90)\n",
        "ax1.axis(\"equal\") \n",
        "plt.show()"
      ],
      "metadata": {
        "id": "QD3DLsI434Xh",
        "colab": {
          "base_uri": "https://localhost:8080/",
          "height": 406
        },
        "outputId": "a11c02a7-c385-4adf-d8a8-bcaf57c500e3"
      },
      "execution_count": null,
      "outputs": [
        {
          "output_type": "display_data",
          "data": {
            "text/plain": [
              "<Figure size 432x432 with 1 Axes>"
            ],
            "image/png": "[encoded data removed]"
          },
          "metadata": {}
        }
      ]
    },
    {
      "cell_type": "markdown",
      "source": [
        " - Las ventas en el Supermercado Tipo 1 son sumamente importantes ya que representan el 69.5% del total de las ventas, seguido por los Supermercados tipo 3, considerando ambos se supera el 80% de las ventas totales que requieren un mayor control del abastecimiento de productos de bajo contenido calorico frente a los del tipo regular."
      ],
      "metadata": {
        "id": "lxLfcBIDAcP0"
      }
    },
    {
      "cell_type": "markdown",
      "source": [
        "## Analisis de las ventas por cada tipo de tienda y año en que se establecio.\n",
        "\n",
        "Para esta finalidad vamos a visualizar las ventas en miles de dolares por tipo de tienda y su total segun año en que se establecio. Esto permitira analizar la antiguedad de los tipos de tienda y sus volumentes de compra."
      ],
      "metadata": {
        "id": "WARfSX4E3it_"
      }
    },
    {
      "cell_type": "code",
      "source": [
        "# Identificaicon de Tipos de Tienda\n",
        "TiposTienda=df[\"Outlet_Type\"].unique()\n",
        "TiposTienda"
      ],
      "metadata": {
        "id": "sXypBjU15Rec",
        "colab": {
          "base_uri": "https://localhost:8080/"
        },
        "outputId": "d7669d0e-d1e8-434c-a684-9a36f94fb758"
      },
      "execution_count": null,
      "outputs": [
        {
          "output_type": "execute_result",
          "data": {
            "text/plain": [
              "array(['Supermarket Type1', 'Supermarket Type2', 'Grocery Store',\n",
              "       'Supermarket Type3'], dtype=object)"
            ]
          },
          "metadata": {},
          "execution_count": 47
        }
      ]
    },
    {
      "cell_type": "code",
      "source": [
        "# Calculo de la escala del eje x\n",
        "minYear=df['Outlet_Establishment_Year'].min()\n",
        "maxYear=df['Outlet_Establishment_Year'].max()\n",
        "print(minYear, maxYear)"
      ],
      "metadata": {
        "id": "QyCyG9e66tJI",
        "colab": {
          "base_uri": "https://localhost:8080/"
        },
        "outputId": "a31e254e-1980-42d2-a82e-97b3d4e41318"
      },
      "execution_count": null,
      "outputs": [
        {
          "output_type": "stream",
          "name": "stdout",
          "text": [
            "1985 2009\n"
          ]
        }
      ]
    },
    {
      "cell_type": "code",
      "source": [
        "# Codigo de Barras"
      ],
      "metadata": {
        "id": "KXH4VqjC6suk"
      },
      "execution_count": null,
      "outputs": []
    },
    {
      "cell_type": "code",
      "source": [
        "for x in range(0, len(TiposTienda)): # para hacer un grafico por cada tipo de tienda\n",
        "  Tienda=TiposTienda[x]    \n",
        "  FiltroTienda=df[\"Outlet_Type\"] == Tienda\n",
        "  GrupoTienda = df.loc[FiltroTienda, :].groupby([\"Outlet_Establishment_Year\"])[\"Item_Outlet_Sales\"].sum()/1000  # Ventas por año\n",
        "  Years=np.array(GrupoTienda.index)\n",
        "  Sales=np.array(GrupoTienda.values)\n",
        "  maxSales=Sales.max()+1000  # para dar un margen superior mas grande para mejorar la visualizacion\n",
        "  fig = plt.figure(figsize=(10, 5))\n",
        "  plt.subplot(x+1, 1, 1)\n",
        "  Variable=\"\\n\\nComparacion de las Ventas Totales segun Tipo de Tienda: \"+Tienda+\"\\n\\n\"\n",
        "  plt.title(Variable, fontsize = 16);\n",
        "  plt.xticks(rotation = 90);\n",
        "  plt.xlim(left=minYear,right=maxYear)\n",
        "  plt.ylim(bottom=0,top=maxSales)\n",
        "  plt.xlabel('Year', fontsize = 16)\n",
        "  plt.ylabel('Ventas (en miles de dolares)', fontsize = 16)\n",
        "  sns.barplot(x = Years, y = Sales);\n",
        "  "
      ],
      "metadata": {
        "id": "NbCTX8xQFVBw",
        "colab": {
          "base_uri": "https://localhost:8080/",
          "height": 1000
        },
        "outputId": "593b557e-b325-429d-ae1f-8dd9719acfec"
      },
      "execution_count": null,
      "outputs": [
        {
          "output_type": "display_data",
          "data": {
            "text/plain": [
              "<Figure size 720x360 with 1 Axes>"
            ],
            "image/png": "[encoded data removed]"
          },
          "metadata": {}
        },
        {
          "output_type": "display_data",
          "data": {
            "text/plain": [
              "<Figure size 720x360 with 1 Axes>"
            ],
            "image/png": "[encoded data removed]"
          },
          "metadata": {}
        },
        {
          "output_type": "display_data",
          "data": {
            "text/plain": [
              "<Figure size 720x360 with 1 Axes>"
            ],
            "image/png": "[encoded data removed]"
          },
          "metadata": {}
        },
        {
          "output_type": "display_data",
          "data": {
            "text/plain": [
              "<Figure size 720x360 with 1 Axes>"
            ],
            "image/png": "[encoded data removed]"
          },
          "metadata": {}
        }
      ]
    },
    {
      "cell_type": "markdown",
      "source": [
        " - De los graficos mostrados, se pude decir que las ventas de los Supermercados tipo 1 y 2, bordean los 2.2 milloners de dolares, las del Supermercado 3 superan los 2.5 millones de dolares y las Grocery Store no llega al cuarto de millon de dolares."
      ],
      "metadata": {
        "id": "kyl7VZhO7s9A"
      }
    },
    {
      "cell_type": "markdown",
      "source": [
        "## Conclusiones a Parte 4:\n"
      ],
      "metadata": {
        "id": "kjOLLb4hGsY7"
      }
    },
    {
      "cell_type": "markdown",
      "source": [
        "\n",
        "* Existe una correlacion moderada entre las variables de precios y ventas\n",
        "* En los Supermercados Tipo 1 hay una preferenica mucho mayor por los productos de menor contenido graso\n",
        "* Las ventas en el Supermercado Tipo 1 son sumamente importantes ya que representan el 69.5% del total de las ventas, seguido por los Supermercados tipo 3, considerando ambos se supera el 80% de las ventas totales que requieren un mayor control del abastecimiento de productos de bajo contenido calorico frente a los del tipo regular.\n",
        "* Como conclusion final, podemos decir que es de esperar, al menos en los Supermercados tipo 1 que las ventas se mantenga o mejoren segun el cuidado que se le de a la atencion de los productos Low Fat.\n",
        "Igualmente podriamos decir sobre los Supermercados tipo 3; sin embargo no hay informacion de otra tienda del mismo tipo que se haya establecido.\n"
      ],
      "metadata": {
        "id": "bF0Dz8AtxJd5"
      }
    },
    {
      "cell_type": "markdown",
      "source": [
        "# Parte 5\n",
        "\n",
        "El objetivo de este paso es ayudar al distribuidor usando el aprendizaje automático para hacer predicciones sobre futuras ventas basándose en los datos proporcionados.\n",
        "\n",
        "Para la parte 5, regresarán al conjunto de datos original con el objetivo de evitar una fuga de datos.  \n",
        "\n",
        "**Nota**: Si imputaron los valores faltantes basados en un cálculo en todo el conjunto de datos (como la media), ahora deben realizar ese paso después de hacer train test split usando SimpleImputer.  \n",
        "\n",
        "* Identifiquen el objetivo (y) y las características (X): Asignen la columna \"Item_Outlet_Sales\" como el objetivo y el resto de las variables relevantes como el matriz de características.  \n",
        "* Realicen un train test split \n",
        "* Creen un pipeline de preprocesamiento para preparar el conjunto de datos para el aprendizaje automático.\n",
        "* Comprometan su trabajo en GitHub. \n"
      ],
      "metadata": {
        "id": "A9R_jo_sP36h"
      }
    },
    {
      "cell_type": "code",
      "source": [
        "# montaje de librerias adicionales y carga de datos nuevamente para obtener el DataFrame original\n",
        "import pandas as pd\n",
        "import numpy as np\n",
        "from sklearn.preprocessing import StandardScaler, OneHotEncoder\n",
        "from sklearn.impute import SimpleImputer\n",
        "from sklearn.compose import make_column_transformer, make_column_selector\n",
        "from sklearn.pipeline import make_pipeline\n",
        "from sklearn.model_selection import train_test_split\n",
        "from sklearn import set_config\n",
        "set_config(display='diagram')\n",
        "filename=\"/content/sales_predictions.csv\"\n",
        "df = pd.read_csv(filename)\n",
        "df.head()"
      ],
      "metadata": {
        "colab": {
          "base_uri": "https://localhost:8080/",
          "height": 357
        },
        "id": "MSbF7_JgQgb8",
        "outputId": "3081006c-25f3-48f0-a3f7-51098f9e2bd2"
      },
      "execution_count": null,
      "outputs": [
        {
          "output_type": "execute_result",
          "data": {
            "text/plain": [
              "  Item_Identifier  Item_Weight Item_Fat_Content  Item_Visibility  \\\n",
              "0           FDA15         9.30          Low Fat         0.016047   \n",
              "1           DRC01         5.92          Regular         0.019278   \n",
              "2           FDN15        17.50          Low Fat         0.016760   \n",
              "3           FDX07        19.20          Regular         0.000000   \n",
              "4           NCD19         8.93          Low Fat         0.000000   \n",
              "\n",
              "               Item_Type  Item_MRP Outlet_Identifier  \\\n",
              "0                  Dairy  249.8092            OUT049   \n",
              "1            Soft Drinks   48.2692            OUT018   \n",
              "2                   Meat  141.6180            OUT049   \n",
              "3  Fruits and Vegetables  182.0950            OUT010   \n",
              "4              Household   53.8614            OUT013   \n",
              "\n",
              "   Outlet_Establishment_Year Outlet_Size Outlet_Location_Type  \\\n",
              "0                       1999      Medium               Tier 1   \n",
              "1                       2009      Medium               Tier 3   \n",
              "2                       1999      Medium               Tier 1   \n",
              "3                       1998         NaN               Tier 3   \n",
              "4                       1987        High               Tier 3   \n",
              "\n",
              "         Outlet_Type  Item_Outlet_Sales  \n",
              "0  Supermarket Type1          3735.1380  \n",
              "1  Supermarket Type2           443.4228  \n",
              "2  Supermarket Type1          2097.2700  \n",
              "3      Grocery Store           732.3800  \n",
              "4  Supermarket Type1           994.7052  "
            ],
            "text/html": [
              "\n",
              "  <div id=\"df-ee592671-2f56-4f17-91b9-f63be44a36f2\">\n",
              "    <div class=\"colab-df-container\">\n",
              "      <div>\n",
              "<style scoped>\n",
              "    .dataframe tbody tr th:only-of-type {\n",
              "        vertical-align: middle;\n",
              "    }\n",
              "\n",
              "    .dataframe tbody tr th {\n",
              "        vertical-align: top;\n",
              "    }\n",
              "\n",
              "    .dataframe thead th {\n",
              "        text-align: right;\n",
              "    }\n",
              "</style>\n",
              "<table border=\"1\" class=\"dataframe\">\n",
              "  <thead>\n",
              "    <tr style=\"text-align: right;\">\n",
              "      <th></th>\n",
              "      <th>Item_Identifier</th>\n",
              "      <th>Item_Weight</th>\n",
              "      <th>Item_Fat_Content</th>\n",
              "      <th>Item_Visibility</th>\n",
              "      <th>Item_Type</th>\n",
              "      <th>Item_MRP</th>\n",
              "      <th>Outlet_Identifier</th>\n",
              "      <th>Outlet_Establishment_Year</th>\n",
              "      <th>Outlet_Size</th>\n",
              "      <th>Outlet_Location_Type</th>\n",
              "      <th>Outlet_Type</th>\n",
              "      <th>Item_Outlet_Sales</th>\n",
              "    </tr>\n",
              "  </thead>\n",
              "  <tbody>\n",
              "    <tr>\n",
              "      <th>0</th>\n",
              "      <td>FDA15</td>\n",
              "      <td>9.30</td>\n",
              "      <td>Low Fat</td>\n",
              "      <td>0.016047</td>\n",
              "      <td>Dairy</td>\n",
              "      <td>249.8092</td>\n",
              "      <td>OUT049</td>\n",
              "      <td>1999</td>\n",
              "      <td>Medium</td>\n",
              "      <td>Tier 1</td>\n",
              "      <td>Supermarket Type1</td>\n",
              "      <td>3735.1380</td>\n",
              "    </tr>\n",
              "    <tr>\n",
              "      <th>1</th>\n",
              "      <td>DRC01</td>\n",
              "      <td>5.92</td>\n",
              "      <td>Regular</td>\n",
              "      <td>0.019278</td>\n",
              "      <td>Soft Drinks</td>\n",
              "      <td>48.2692</td>\n",
              "      <td>OUT018</td>\n",
              "      <td>2009</td>\n",
              "      <td>Medium</td>\n",
              "      <td>Tier 3</td>\n",
              "      <td>Supermarket Type2</td>\n",
              "      <td>443.4228</td>\n",
              "    </tr>\n",
              "    <tr>\n",
              "      <th>2</th>\n",
              "      <td>FDN15</td>\n",
              "      <td>17.50</td>\n",
              "      <td>Low Fat</td>\n",
              "      <td>0.016760</td>\n",
              "      <td>Meat</td>\n",
              "      <td>141.6180</td>\n",
              "      <td>OUT049</td>\n",
              "      <td>1999</td>\n",
              "      <td>Medium</td>\n",
              "      <td>Tier 1</td>\n",
              "      <td>Supermarket Type1</td>\n",
              "      <td>2097.2700</td>\n",
              "    </tr>\n",
              "    <tr>\n",
              "      <th>3</th>\n",
              "      <td>FDX07</td>\n",
              "      <td>19.20</td>\n",
              "      <td>Regular</td>\n",
              "      <td>0.000000</td>\n",
              "      <td>Fruits and Vegetables</td>\n",
              "      <td>182.0950</td>\n",
              "      <td>OUT010</td>\n",
              "      <td>1998</td>\n",
              "      <td>NaN</td>\n",
              "      <td>Tier 3</td>\n",
              "      <td>Grocery Store</td>\n",
              "      <td>732.3800</td>\n",
              "    </tr>\n",
              "    <tr>\n",
              "      <th>4</th>\n",
              "      <td>NCD19</td>\n",
              "      <td>8.93</td>\n",
              "      <td>Low Fat</td>\n",
              "      <td>0.000000</td>\n",
              "      <td>Household</td>\n",
              "      <td>53.8614</td>\n",
              "      <td>OUT013</td>\n",
              "      <td>1987</td>\n",
              "      <td>High</td>\n",
              "      <td>Tier 3</td>\n",
              "      <td>Supermarket Type1</td>\n",
              "      <td>994.7052</td>\n",
              "    </tr>\n",
              "  </tbody>\n",
              "</table>\n",
              "</div>\n",
              "      <button class=\"colab-df-convert\" onclick=\"convertToInteractive('df-ee592671-2f56-4f17-91b9-f63be44a36f2')\"\n",
              "              title=\"Convert this dataframe to an interactive table.\"\n",
              "              style=\"display:none;\">\n",
              "        \n",
              "  <svg xmlns=\"http://www.w3.org/2000/svg\" height=\"24px\"viewBox=\"0 0 24 24\"\n",
              "       width=\"24px\">\n",
              "    <path d=\"M0 0h24v24H0V0z\" fill=\"none\"/>\n",
              "    <path d=\"M18.56 5.44l.94 2.06.94-2.06 2.06-.94-2.06-.94-.94-2.06-.94 2.06-2.06.94zm-11 1L8.5 8.5l.94-2.06 2.06-.94-2.06-.94L8.5 2.5l-.94 2.06-2.06.94zm10 10l.94 2.06.94-2.06 2.06-.94-2.06-.94-.94-2.06-.94 2.06-2.06.94z\"/><path d=\"M17.41 7.96l-1.37-1.37c-.4-.4-.92-.59-1.43-.59-.52 0-1.04.2-1.43.59L10.3 9.45l-7.72 7.72c-.78.78-.78 2.05 0 2.83L4 21.41c.39.39.9.59 1.41.59.51 0 1.02-.2 1.41-.59l7.78-7.78 2.81-2.81c.8-.78.8-2.07 0-2.86zM5.41 20L4 18.59l7.72-7.72 1.47 1.35L5.41 20z\"/>\n",
              "  </svg>\n",
              "      </button>\n",
              "      \n",
              "  <style>\n",
              "    .colab-df-container {\n",
              "      display:flex;\n",
              "      flex-wrap:wrap;\n",
              "      gap: 12px;\n",
              "    }\n",
              "\n",
              "    .colab-df-convert {\n",
              "      background-color: #E8F0FE;\n",
              "      border: none;\n",
              "      border-radius: 50%;\n",
              "      cursor: pointer;\n",
              "      display: none;\n",
              "      fill: #1967D2;\n",
              "      height: 32px;\n",
              "      padding: 0 0 0 0;\n",
              "      width: 32px;\n",
              "    }\n",
              "\n",
              "    .colab-df-convert:hover {\n",
              "      background-color: #E2EBFA;\n",
              "      box-shadow: 0px 1px 2px rgba(60, 64, 67, 0.3), 0px 1px 3px 1px rgba(60, 64, 67, 0.15);\n",
              "      fill: #174EA6;\n",
              "    }\n",
              "\n",
              "    [theme=dark] .colab-df-convert {\n",
              "      background-color: #3B4455;\n",
              "      fill: #D2E3FC;\n",
              "    }\n",
              "\n",
              "    [theme=dark] .colab-df-convert:hover {\n",
              "      background-color: #434B5C;\n",
              "      box-shadow: 0px 1px 3px 1px rgba(0, 0, 0, 0.15);\n",
              "      filter: drop-shadow(0px 1px 2px rgba(0, 0, 0, 0.3));\n",
              "      fill: #FFFFFF;\n",
              "    }\n",
              "  </style>\n",
              "\n",
              "      <script>\n",
              "        const buttonEl =\n",
              "          document.querySelector('#df-ee592671-2f56-4f17-91b9-f63be44a36f2 button.colab-df-convert');\n",
              "        buttonEl.style.display =\n",
              "          google.colab.kernel.accessAllowed ? 'block' : 'none';\n",
              "\n",
              "        async function convertToInteractive(key) {\n",
              "          const element = document.querySelector('#df-ee592671-2f56-4f17-91b9-f63be44a36f2');\n",
              "          const dataTable =\n",
              "            await google.colab.kernel.invokeFunction('convertToInteractive',\n",
              "                                                     [key], {});\n",
              "          if (!dataTable) return;\n",
              "\n",
              "          const docLinkHtml = 'Like what you see? Visit the ' +\n",
              "            '<a target=\"_blank\" href=https://colab.research.google.com/notebooks/data_table.ipynb>data table notebook</a>'\n",
              "            + ' to learn more about interactive tables.';\n",
              "          element.innerHTML = '';\n",
              "          dataTable['output_type'] = 'display_data';\n",
              "          await google.colab.output.renderOutput(dataTable, element);\n",
              "          const docLink = document.createElement('div');\n",
              "          docLink.innerHTML = docLinkHtml;\n",
              "          element.appendChild(docLink);\n",
              "        }\n",
              "      </script>\n",
              "    </div>\n",
              "  </div>\n",
              "  "
            ]
          },
          "metadata": {},
          "execution_count": 51
        }
      ]
    },
    {
      "cell_type": "markdown",
      "source": [
        "## * Identifiquen el objetivo (X) y las características (y): Asignen la columna \"Item_Outlet_Sales\" como el objetivo y el resto de las variables relevantes como el matriz de características."
      ],
      "metadata": {
        "id": "56E3eL5UTv-3"
      }
    },
    {
      "cell_type": "code",
      "source": [
        "# Revision nuevamente de la informacion de las columnas\n",
        "df.info()"
      ],
      "metadata": {
        "colab": {
          "base_uri": "https://localhost:8080/"
        },
        "id": "o-Pmil625gDN",
        "outputId": "e237f701-d236-4c25-eb32-391b7d979f45"
      },
      "execution_count": null,
      "outputs": [
        {
          "output_type": "stream",
          "name": "stdout",
          "text": [
            "<class 'pandas.core.frame.DataFrame'>\n",
            "RangeIndex: 8523 entries, 0 to 8522\n",
            "Data columns (total 12 columns):\n",
            " #   Column                     Non-Null Count  Dtype  \n",
            "---  ------                     --------------  -----  \n",
            " 0   Item_Identifier            8523 non-null   object \n",
            " 1   Item_Weight                7060 non-null   float64\n",
            " 2   Item_Fat_Content           8523 non-null   object \n",
            " 3   Item_Visibility            8523 non-null   float64\n",
            " 4   Item_Type                  8523 non-null   object \n",
            " 5   Item_MRP                   8523 non-null   float64\n",
            " 6   Outlet_Identifier          8523 non-null   object \n",
            " 7   Outlet_Establishment_Year  8523 non-null   int64  \n",
            " 8   Outlet_Size                6113 non-null   object \n",
            " 9   Outlet_Location_Type       8523 non-null   object \n",
            " 10  Outlet_Type                8523 non-null   object \n",
            " 11  Item_Outlet_Sales          8523 non-null   float64\n",
            "dtypes: float64(4), int64(1), object(7)\n",
            "memory usage: 799.2+ KB\n"
          ]
        }
      ]
    },
    {
      "cell_type": "markdown",
      "source": [
        "**Observacion**\n",
        "\n",
        " - Antes de proceder a la identificacion de la variables objetivo y resto de variables recordemos que segun las conclusiones de la parte 2 del proyecto se identificaron a las categorias \"Item_Weight\" y \"Outlet_Size\" como unicas con valores faltantes que habria que completar.\n",
        " - Tambien se vio que la categoria \"Item_Fat_Content\" presenta inconsistencia en los valores low fat, LF y reg, los cuales tendra que ser nuevamente corregidos ya que se esta cargado nuevamente la data\n",
        " - Por ultimo, segun lo que se indico en las conclusiones de la parte 3, el mapa de calor mostro la relacion de las caracteristicas de data numerica, encontrandose solo a la variable precios \"Item_MRP\" y la variable objetivo  \"Item_Outlet_Sales\" con una correlacion entre ambas de 0.57, en consecuencia, salvo la cariable \"Item_MRP\", el resto de variables numericas no se consideraran para la elaboracion del modelo las valores numerica, por lo que no sera necesario completar los datos faltantes de la categoria \"Item_Weight\"."
      ],
      "metadata": {
        "id": "3pY3BTBCVT1O"
      }
    },
    {
      "cell_type": "code",
      "source": [
        "# Revision de la columna con data faltante Outlet_Size\n",
        "variables_unicas = df['Outlet_Size'].unique()\n",
        "variables_nounicas = df['Outlet_Size'].nunique()\n",
        "variables_cantidades = df['Outlet_Size'].value_counts()\n",
        "print (f\"Variables unicas:\\{variables_unicas}\\nVariables no unicas:\\n{variables_nounicas}:\\nCantidades:\\n{variables_cantidades}\")"
      ],
      "metadata": {
        "colab": {
          "base_uri": "https://localhost:8080/"
        },
        "id": "fVQyroOVG7M6",
        "outputId": "dce14d60-9ffd-4560-90e0-589d0365aabe"
      },
      "execution_count": null,
      "outputs": [
        {
          "output_type": "stream",
          "name": "stdout",
          "text": [
            "Variables unicas:\\['Medium' nan 'High' 'Small']\n",
            "Variables no unicas:\n",
            "3:\n",
            "Cantidades:\n",
            "Medium    2793\n",
            "Small     2388\n",
            "High       932\n",
            "Name: Outlet_Size, dtype: int64\n"
          ]
        }
      ]
    },
    {
      "cell_type": "markdown",
      "source": [
        "- La variable \"Outlet Size\" tiene datos faltantes, se completara la data faltante siguiendo el mismo criterio que se uso en la parte 2 del proyecto y se le asignara la codificacion correspondiente a traves de un pipeline."
      ],
      "metadata": {
        "id": "D6cs-ER18Bsp"
      }
    },
    {
      "cell_type": "code",
      "source": [
        "# repetimos el codigo de la Parte 2\n",
        "largo = len(df[\"Outlet_Location_Type\"])\n",
        "x=0\n",
        "for x in range(0,largo):\n",
        "  valor = df[\"Outlet_Size\"][x]\n",
        "  ventas=df[\"Item_Outlet_Sales\"][x]\n",
        "  anterior=valor\n",
        "  if valor==\"High\" or valor==\"Medium\" or valor==\"Small\":\n",
        "     valor=anterior       # instruccion para poder usar el else \n",
        "  else:                   # para trabajar los datos faltantes\n",
        "    if ventas<2000:\n",
        "      valor=\"Small\"\n",
        "    elif ventas<=2500:\n",
        "      valor=\"Medium\"\n",
        "    else:\n",
        "      valor=\"High\"\n",
        "  df[\"Outlet_Size\"]=df[\"Outlet_Size\"].replace(anterior,valor)\n",
        "  x=x+1\n",
        "  df['Outlet_Size'].value_counts() # verificacion"
      ],
      "metadata": {
        "id": "2m7iXo95wpyu"
      },
      "execution_count": null,
      "outputs": []
    },
    {
      "cell_type": "code",
      "source": [
        "# Revision de la columna con data faltante Item_Fat_Content\n",
        "variables_unicas = df['Item_Fat_Content'].unique()\n",
        "variables_nounicas = df['Item_Fat_Content'].nunique()\n",
        "variables_cantidades = df['Item_Fat_Content'].value_counts()\n",
        "print (f\"Variables unicas:\\{variables_unicas}\\nVariables no unicas:\\n{variables_nounicas}:\\nCantidades:\\n{variables_cantidades}\")"
      ],
      "metadata": {
        "colab": {
          "base_uri": "https://localhost:8080/"
        },
        "id": "P2PLvhWzcVdr",
        "outputId": "9153ae49-3be4-4936-d5bd-dd447b47e98d"
      },
      "execution_count": null,
      "outputs": [
        {
          "output_type": "stream",
          "name": "stdout",
          "text": [
            "Variables unicas:\\['Low Fat' 'Regular' 'low fat' 'LF' 'reg']\n",
            "Variables no unicas:\n",
            "5:\n",
            "Cantidades:\n",
            "Low Fat    5089\n",
            "Regular    2889\n",
            "LF          316\n",
            "reg         117\n",
            "low fat     112\n",
            "Name: Item_Fat_Content, dtype: int64\n"
          ]
        }
      ]
    },
    {
      "cell_type": "code",
      "source": [
        "# correccion de las inconsistencias LF, reg y low fat a traves de un replace y verificamos\n",
        "df[\"Item_Fat_Content\"] = df[\"Item_Fat_Content\"].replace(\"low fat\",\"Low Fat\")\n",
        "df[\"Item_Fat_Content\"] = df[\"Item_Fat_Content\"].replace(\"LF\",\"Low Fat\")\n",
        "df[\"Item_Fat_Content\"] = df[\"Item_Fat_Content\"].replace(\"reg\",\"Regular\")\n",
        "df['Item_Fat_Content'].value_counts() # verificacion"
      ],
      "metadata": {
        "colab": {
          "base_uri": "https://localhost:8080/"
        },
        "id": "ZDW3p7f79ejE",
        "outputId": "5ce621ef-04be-441f-9961-def896753d50"
      },
      "execution_count": null,
      "outputs": [
        {
          "output_type": "execute_result",
          "data": {
            "text/plain": [
              "Low Fat    5517\n",
              "Regular    3006\n",
              "Name: Item_Fat_Content, dtype: int64"
            ]
          },
          "metadata": {},
          "execution_count": 56
        }
      ]
    },
    {
      "cell_type": "markdown",
      "source": [
        "* La variable \"Item_Fat_Content\" representa una caracteristica del tipo object, tambien sera codificada a traves de un pipeline pero antes de hacerlo se han corregido nuevamente las inconsitencias."
      ],
      "metadata": {
        "id": "3WaAyaIU9BPP"
      }
    },
    {
      "cell_type": "markdown",
      "source": [
        " ## - Asignacion del objetivo y y las caracteristicas X"
      ],
      "metadata": {
        "id": "GsxaIuK5MxCX"
      }
    },
    {
      "cell_type": "code",
      "source": [
        "# asignacion de objetivo y, y las características X\n",
        "y = df['Item_Outlet_Sales']\n",
        "# dropeamos variables objetivo y las numericas que no son relevante segun el mapa de calor \n",
        "X = df.drop(columns = ['Item_Outlet_Sales', 'Item_Weight', 'Item_Visibility', 'Outlet_Establishment_Year', 'Outlet_Size' ])  "
      ],
      "metadata": {
        "id": "8A9RiaFGQgYZ"
      },
      "execution_count": null,
      "outputs": []
    },
    {
      "cell_type": "code",
      "source": [
        "X.head() # revision"
      ],
      "metadata": {
        "colab": {
          "base_uri": "https://localhost:8080/",
          "height": 206
        },
        "id": "a9BO7ODbOnsO",
        "outputId": "c3972bdd-4ccd-4ebe-8706-f3e4efd33786"
      },
      "execution_count": null,
      "outputs": [
        {
          "output_type": "execute_result",
          "data": {
            "text/plain": [
              "  Item_Identifier Item_Fat_Content              Item_Type  Item_MRP  \\\n",
              "0           FDA15          Low Fat                  Dairy  249.8092   \n",
              "1           DRC01          Regular            Soft Drinks   48.2692   \n",
              "2           FDN15          Low Fat                   Meat  141.6180   \n",
              "3           FDX07          Regular  Fruits and Vegetables  182.0950   \n",
              "4           NCD19          Low Fat              Household   53.8614   \n",
              "\n",
              "  Outlet_Identifier Outlet_Location_Type        Outlet_Type  \n",
              "0            OUT049               Tier 1  Supermarket Type1  \n",
              "1            OUT018               Tier 3  Supermarket Type2  \n",
              "2            OUT049               Tier 1  Supermarket Type1  \n",
              "3            OUT010               Tier 3      Grocery Store  \n",
              "4            OUT013               Tier 3  Supermarket Type1  "
            ],
            "text/html": [
              "\n",
              "  <div id=\"df-9c99a108-1f74-43e5-a941-6889503d4a4a\">\n",
              "    <div class=\"colab-df-container\">\n",
              "      <div>\n",
              "<style scoped>\n",
              "    .dataframe tbody tr th:only-of-type {\n",
              "        vertical-align: middle;\n",
              "    }\n",
              "\n",
              "    .dataframe tbody tr th {\n",
              "        vertical-align: top;\n",
              "    }\n",
              "\n",
              "    .dataframe thead th {\n",
              "        text-align: right;\n",
              "    }\n",
              "</style>\n",
              "<table border=\"1\" class=\"dataframe\">\n",
              "  <thead>\n",
              "    <tr style=\"text-align: right;\">\n",
              "      <th></th>\n",
              "      <th>Item_Identifier</th>\n",
              "      <th>Item_Fat_Content</th>\n",
              "      <th>Item_Type</th>\n",
              "      <th>Item_MRP</th>\n",
              "      <th>Outlet_Identifier</th>\n",
              "      <th>Outlet_Location_Type</th>\n",
              "      <th>Outlet_Type</th>\n",
              "    </tr>\n",
              "  </thead>\n",
              "  <tbody>\n",
              "    <tr>\n",
              "      <th>0</th>\n",
              "      <td>FDA15</td>\n",
              "      <td>Low Fat</td>\n",
              "      <td>Dairy</td>\n",
              "      <td>249.8092</td>\n",
              "      <td>OUT049</td>\n",
              "      <td>Tier 1</td>\n",
              "      <td>Supermarket Type1</td>\n",
              "    </tr>\n",
              "    <tr>\n",
              "      <th>1</th>\n",
              "      <td>DRC01</td>\n",
              "      <td>Regular</td>\n",
              "      <td>Soft Drinks</td>\n",
              "      <td>48.2692</td>\n",
              "      <td>OUT018</td>\n",
              "      <td>Tier 3</td>\n",
              "      <td>Supermarket Type2</td>\n",
              "    </tr>\n",
              "    <tr>\n",
              "      <th>2</th>\n",
              "      <td>FDN15</td>\n",
              "      <td>Low Fat</td>\n",
              "      <td>Meat</td>\n",
              "      <td>141.6180</td>\n",
              "      <td>OUT049</td>\n",
              "      <td>Tier 1</td>\n",
              "      <td>Supermarket Type1</td>\n",
              "    </tr>\n",
              "    <tr>\n",
              "      <th>3</th>\n",
              "      <td>FDX07</td>\n",
              "      <td>Regular</td>\n",
              "      <td>Fruits and Vegetables</td>\n",
              "      <td>182.0950</td>\n",
              "      <td>OUT010</td>\n",
              "      <td>Tier 3</td>\n",
              "      <td>Grocery Store</td>\n",
              "    </tr>\n",
              "    <tr>\n",
              "      <th>4</th>\n",
              "      <td>NCD19</td>\n",
              "      <td>Low Fat</td>\n",
              "      <td>Household</td>\n",
              "      <td>53.8614</td>\n",
              "      <td>OUT013</td>\n",
              "      <td>Tier 3</td>\n",
              "      <td>Supermarket Type1</td>\n",
              "    </tr>\n",
              "  </tbody>\n",
              "</table>\n",
              "</div>\n",
              "      <button class=\"colab-df-convert\" onclick=\"convertToInteractive('df-9c99a108-1f74-43e5-a941-6889503d4a4a')\"\n",
              "              title=\"Convert this dataframe to an interactive table.\"\n",
              "              style=\"display:none;\">\n",
              "        \n",
              "  <svg xmlns=\"http://www.w3.org/2000/svg\" height=\"24px\"viewBox=\"0 0 24 24\"\n",
              "       width=\"24px\">\n",
              "    <path d=\"M0 0h24v24H0V0z\" fill=\"none\"/>\n",
              "    <path d=\"M18.56 5.44l.94 2.06.94-2.06 2.06-.94-2.06-.94-.94-2.06-.94 2.06-2.06.94zm-11 1L8.5 8.5l.94-2.06 2.06-.94-2.06-.94L8.5 2.5l-.94 2.06-2.06.94zm10 10l.94 2.06.94-2.06 2.06-.94-2.06-.94-.94-2.06-.94 2.06-2.06.94z\"/><path d=\"M17.41 7.96l-1.37-1.37c-.4-.4-.92-.59-1.43-.59-.52 0-1.04.2-1.43.59L10.3 9.45l-7.72 7.72c-.78.78-.78 2.05 0 2.83L4 21.41c.39.39.9.59 1.41.59.51 0 1.02-.2 1.41-.59l7.78-7.78 2.81-2.81c.8-.78.8-2.07 0-2.86zM5.41 20L4 18.59l7.72-7.72 1.47 1.35L5.41 20z\"/>\n",
              "  </svg>\n",
              "      </button>\n",
              "      \n",
              "  <style>\n",
              "    .colab-df-container {\n",
              "      display:flex;\n",
              "      flex-wrap:wrap;\n",
              "      gap: 12px;\n",
              "    }\n",
              "\n",
              "    .colab-df-convert {\n",
              "      background-color: #E8F0FE;\n",
              "      border: none;\n",
              "      border-radius: 50%;\n",
              "      cursor: pointer;\n",
              "      display: none;\n",
              "      fill: #1967D2;\n",
              "      height: 32px;\n",
              "      padding: 0 0 0 0;\n",
              "      width: 32px;\n",
              "    }\n",
              "\n",
              "    .colab-df-convert:hover {\n",
              "      background-color: #E2EBFA;\n",
              "      box-shadow: 0px 1px 2px rgba(60, 64, 67, 0.3), 0px 1px 3px 1px rgba(60, 64, 67, 0.15);\n",
              "      fill: #174EA6;\n",
              "    }\n",
              "\n",
              "    [theme=dark] .colab-df-convert {\n",
              "      background-color: #3B4455;\n",
              "      fill: #D2E3FC;\n",
              "    }\n",
              "\n",
              "    [theme=dark] .colab-df-convert:hover {\n",
              "      background-color: #434B5C;\n",
              "      box-shadow: 0px 1px 3px 1px rgba(0, 0, 0, 0.15);\n",
              "      filter: drop-shadow(0px 1px 2px rgba(0, 0, 0, 0.3));\n",
              "      fill: #FFFFFF;\n",
              "    }\n",
              "  </style>\n",
              "\n",
              "      <script>\n",
              "        const buttonEl =\n",
              "          document.querySelector('#df-9c99a108-1f74-43e5-a941-6889503d4a4a button.colab-df-convert');\n",
              "        buttonEl.style.display =\n",
              "          google.colab.kernel.accessAllowed ? 'block' : 'none';\n",
              "\n",
              "        async function convertToInteractive(key) {\n",
              "          const element = document.querySelector('#df-9c99a108-1f74-43e5-a941-6889503d4a4a');\n",
              "          const dataTable =\n",
              "            await google.colab.kernel.invokeFunction('convertToInteractive',\n",
              "                                                     [key], {});\n",
              "          if (!dataTable) return;\n",
              "\n",
              "          const docLinkHtml = 'Like what you see? Visit the ' +\n",
              "            '<a target=\"_blank\" href=https://colab.research.google.com/notebooks/data_table.ipynb>data table notebook</a>'\n",
              "            + ' to learn more about interactive tables.';\n",
              "          element.innerHTML = '';\n",
              "          dataTable['output_type'] = 'display_data';\n",
              "          await google.colab.output.renderOutput(dataTable, element);\n",
              "          const docLink = document.createElement('div');\n",
              "          docLink.innerHTML = docLinkHtml;\n",
              "          element.appendChild(docLink);\n",
              "        }\n",
              "      </script>\n",
              "    </div>\n",
              "  </div>\n",
              "  "
            ]
          },
          "metadata": {},
          "execution_count": 58
        }
      ]
    },
    {
      "cell_type": "markdown",
      "source": [
        "## - Realicen un train test split"
      ],
      "metadata": {
        "id": "_u_jgEMfVNky"
      }
    },
    {
      "cell_type": "code",
      "source": [
        "# Train test split\n",
        "X_train, X_test, y_train, y_test = train_test_split(X, y, random_state = 42)"
      ],
      "metadata": {
        "id": "c3vX0xA1QgRa"
      },
      "execution_count": null,
      "outputs": []
    },
    {
      "cell_type": "markdown",
      "source": [
        "## *   Creen un pipeline de preprocesamiento para preparar el conjunto de datos para el aprendizaje automático\n",
        "\n",
        "\n",
        "\n",
        "\n"
      ],
      "metadata": {
        "id": "UmVSoiNGVbO4"
      }
    },
    {
      "cell_type": "markdown",
      "source": [
        " - **Revision de la informacion de la data de entrenamiento y prueba**"
      ],
      "metadata": {
        "id": "zOG0oPU1QI82"
      }
    },
    {
      "cell_type": "code",
      "source": [
        "X_train.info() # data de entrenamiento"
      ],
      "metadata": {
        "colab": {
          "base_uri": "https://localhost:8080/"
        },
        "id": "j5kEbZwHQUTz",
        "outputId": "08007476-fca9-45eb-b389-3dc2a5ef699f"
      },
      "execution_count": null,
      "outputs": [
        {
          "output_type": "stream",
          "name": "stdout",
          "text": [
            "<class 'pandas.core.frame.DataFrame'>\n",
            "Int64Index: 6392 entries, 4776 to 7270\n",
            "Data columns (total 7 columns):\n",
            " #   Column                Non-Null Count  Dtype  \n",
            "---  ------                --------------  -----  \n",
            " 0   Item_Identifier       6392 non-null   object \n",
            " 1   Item_Fat_Content      6392 non-null   object \n",
            " 2   Item_Type             6392 non-null   object \n",
            " 3   Item_MRP              6392 non-null   float64\n",
            " 4   Outlet_Identifier     6392 non-null   object \n",
            " 5   Outlet_Location_Type  6392 non-null   object \n",
            " 6   Outlet_Type           6392 non-null   object \n",
            "dtypes: float64(1), object(6)\n",
            "memory usage: 399.5+ KB\n"
          ]
        }
      ]
    },
    {
      "cell_type": "code",
      "source": [
        "X_test.info()  # data de prueba"
      ],
      "metadata": {
        "colab": {
          "base_uri": "https://localhost:8080/"
        },
        "id": "2P865oDVQrY3",
        "outputId": "17798f6a-e544-43b0-87d8-f5a37644d8b7"
      },
      "execution_count": null,
      "outputs": [
        {
          "output_type": "stream",
          "name": "stdout",
          "text": [
            "<class 'pandas.core.frame.DataFrame'>\n",
            "Int64Index: 2131 entries, 7503 to 1784\n",
            "Data columns (total 7 columns):\n",
            " #   Column                Non-Null Count  Dtype  \n",
            "---  ------                --------------  -----  \n",
            " 0   Item_Identifier       2131 non-null   object \n",
            " 1   Item_Fat_Content      2131 non-null   object \n",
            " 2   Item_Type             2131 non-null   object \n",
            " 3   Item_MRP              2131 non-null   float64\n",
            " 4   Outlet_Identifier     2131 non-null   object \n",
            " 5   Outlet_Location_Type  2131 non-null   object \n",
            " 6   Outlet_Type           2131 non-null   object \n",
            "dtypes: float64(1), object(6)\n",
            "memory usage: 133.2+ KB\n"
          ]
        }
      ]
    },
    {
      "cell_type": "markdown",
      "source": [
        "**Observacion**\n",
        "\n",
        " - Se realizaran dos pipelines: uno para el escalamiento de la variable numerica Item_MRP con el transformador StandardScaler() y otro para las variables categoricas, con el transformador OneHotEncoder(), para aplicarlos a las variables de entrenamiento. "
      ],
      "metadata": {
        "id": "AuPyOqmb5N-N"
      }
    },
    {
      "cell_type": "code",
      "source": [
        "# Selector de columnas\n",
        "cat_selector = make_column_selector(dtype_include='object') # categoricas\n",
        "num_selector = make_column_selector(dtype_include='number') # numericas\n"
      ],
      "metadata": {
        "id": "GqtUYou2HFFX"
      },
      "execution_count": null,
      "outputs": []
    },
    {
      "cell_type": "code",
      "source": [
        "# Usaremos tres diferentes transformadores: SimpleImputer, StandardScaler y OneHotEncoder.\n",
        "# Habrá un solo SimpleImputer con la estrategias de imputación: \"most_frequent\"\n",
        "# Imputers\n",
        "freq_imputer = SimpleImputer(strategy='most_frequent')\n",
        "# One-hot encoder\n",
        "ohe = OneHotEncoder(handle_unknown='ignore', sparse=False)\n",
        "# Scaler\n",
        "scaler = StandardScaler()"
      ],
      "metadata": {
        "id": "x0YddeFnjkzE"
      },
      "execution_count": null,
      "outputs": []
    },
    {
      "cell_type": "code",
      "source": [
        "# Instanciamiento del Pipeline numerico\n",
        "numeric_pipe = make_pipeline(scaler)\n",
        "numeric_pipe\n"
      ],
      "metadata": {
        "colab": {
          "base_uri": "https://localhost:8080/",
          "height": 92
        },
        "id": "so5ElQ9qmUDO",
        "outputId": "218e61a5-3ac8-4c26-954b-d8d59cda0b88"
      },
      "execution_count": null,
      "outputs": [
        {
          "output_type": "execute_result",
          "data": {
            "text/plain": [
              "Pipeline(steps=[('standardscaler', StandardScaler())])"
            ],
            "text/html": [
              "<style>#sk-c53f1f02-d73d-493c-924b-d07cb39e8a4d {color: black;background-color: white;}#sk-c53f1f02-d73d-493c-924b-d07cb39e8a4d pre{padding: 0;}#sk-c53f1f02-d73d-493c-924b-d07cb39e8a4d div.sk-toggleable {background-color: white;}#sk-c53f1f02-d73d-493c-924b-d07cb39e8a4d label.sk-toggleable__label {cursor: pointer;display: block;width: 100%;margin-bottom: 0;padding: 0.3em;box-sizing: border-box;text-align: center;}#sk-c53f1f02-d73d-493c-924b-d07cb39e8a4d label.sk-toggleable__label-arrow:before {content: \"▸\";float: left;margin-right: 0.25em;color: #696969;}#sk-c53f1f02-d73d-493c-924b-d07cb39e8a4d label.sk-toggleable__label-arrow:hover:before {color: black;}#sk-c53f1f02-d73d-493c-924b-d07cb39e8a4d div.sk-estimator:hover label.sk-toggleable__label-arrow:before {color: black;}#sk-c53f1f02-d73d-493c-924b-d07cb39e8a4d div.sk-toggleable__content {max-height: 0;max-width: 0;overflow: hidden;text-align: left;background-color: #f0f8ff;}#sk-c53f1f02-d73d-493c-924b-d07cb39e8a4d div.sk-toggleable__content pre {margin: 0.2em;color: black;border-radius: 0.25em;background-color: #f0f8ff;}#sk-c53f1f02-d73d-493c-924b-d07cb39e8a4d input.sk-toggleable__control:checked~div.sk-toggleable__content {max-height: 200px;max-width: 100%;overflow: auto;}#sk-c53f1f02-d73d-493c-924b-d07cb39e8a4d input.sk-toggleable__control:checked~label.sk-toggleable__label-arrow:before {content: \"▾\";}#sk-c53f1f02-d73d-493c-924b-d07cb39e8a4d div.sk-estimator input.sk-toggleable__control:checked~label.sk-toggleable__label {background-color: #d4ebff;}#sk-c53f1f02-d73d-493c-924b-d07cb39e8a4d div.sk-label input.sk-toggleable__control:checked~label.sk-toggleable__label {background-color: #d4ebff;}#sk-c53f1f02-d73d-493c-924b-d07cb39e8a4d input.sk-hidden--visually {border: 0;clip: rect(1px 1px 1px 1px);clip: rect(1px, 1px, 1px, 1px);height: 1px;margin: -1px;overflow: hidden;padding: 0;position: absolute;width: 1px;}#sk-c53f1f02-d73d-493c-924b-d07cb39e8a4d div.sk-estimator {font-family: monospace;background-color: #f0f8ff;border: 1px dotted black;border-radius: 0.25em;box-sizing: border-box;margin-bottom: 0.5em;}#sk-c53f1f02-d73d-493c-924b-d07cb39e8a4d div.sk-estimator:hover {background-color: #d4ebff;}#sk-c53f1f02-d73d-493c-924b-d07cb39e8a4d div.sk-parallel-item::after {content: \"\";width: 100%;border-bottom: 1px solid gray;flex-grow: 1;}#sk-c53f1f02-d73d-493c-924b-d07cb39e8a4d div.sk-label:hover label.sk-toggleable__label {background-color: #d4ebff;}#sk-c53f1f02-d73d-493c-924b-d07cb39e8a4d div.sk-serial::before {content: \"\";position: absolute;border-left: 1px solid gray;box-sizing: border-box;top: 2em;bottom: 0;left: 50%;}#sk-c53f1f02-d73d-493c-924b-d07cb39e8a4d div.sk-serial {display: flex;flex-direction: column;align-items: center;background-color: white;padding-right: 0.2em;padding-left: 0.2em;}#sk-c53f1f02-d73d-493c-924b-d07cb39e8a4d div.sk-item {z-index: 1;}#sk-c53f1f02-d73d-493c-924b-d07cb39e8a4d div.sk-parallel {display: flex;align-items: stretch;justify-content: center;background-color: white;}#sk-c53f1f02-d73d-493c-924b-d07cb39e8a4d div.sk-parallel::before {content: \"\";position: absolute;border-left: 1px solid gray;box-sizing: border-box;top: 2em;bottom: 0;left: 50%;}#sk-c53f1f02-d73d-493c-924b-d07cb39e8a4d div.sk-parallel-item {display: flex;flex-direction: column;position: relative;background-color: white;}#sk-c53f1f02-d73d-493c-924b-d07cb39e8a4d div.sk-parallel-item:first-child::after {align-self: flex-end;width: 50%;}#sk-c53f1f02-d73d-493c-924b-d07cb39e8a4d div.sk-parallel-item:last-child::after {align-self: flex-start;width: 50%;}#sk-c53f1f02-d73d-493c-924b-d07cb39e8a4d div.sk-parallel-item:only-child::after {width: 0;}#sk-c53f1f02-d73d-493c-924b-d07cb39e8a4d div.sk-dashed-wrapped {border: 1px dashed gray;margin: 0 0.4em 0.5em 0.4em;box-sizing: border-box;padding-bottom: 0.4em;background-color: white;position: relative;}#sk-c53f1f02-d73d-493c-924b-d07cb39e8a4d div.sk-label label {font-family: monospace;font-weight: bold;background-color: white;display: inline-block;line-height: 1.2em;}#sk-c53f1f02-d73d-493c-924b-d07cb39e8a4d div.sk-label-container {position: relative;z-index: 2;text-align: center;}#sk-c53f1f02-d73d-493c-924b-d07cb39e8a4d div.sk-container {/* jupyter's `normalize.less` sets `[hidden] { display: none; }` but bootstrap.min.css set `[hidden] { display: none !important; }` so we also need the `!important` here to be able to override the default hidden behavior on the sphinx rendered scikit-learn.org. See: https://github.com/scikit-learn/scikit-learn/issues/21755 */display: inline-block !important;position: relative;}#sk-c53f1f02-d73d-493c-924b-d07cb39e8a4d div.sk-text-repr-fallback {display: none;}</style><div id=\"sk-c53f1f02-d73d-493c-924b-d07cb39e8a4d\" class=\"sk-top-container\"><div class=\"sk-text-repr-fallback\"><pre>Pipeline(steps=[(&#x27;standardscaler&#x27;, StandardScaler())])</pre><b>Please rerun this cell to show the HTML repr or trust the notebook.</b></div><div class=\"sk-container\" hidden><div class=\"sk-item sk-dashed-wrapped\"><div class=\"sk-label-container\"><div class=\"sk-label sk-toggleable\"><input class=\"sk-toggleable__control sk-hidden--visually\" id=\"8dad769f-48fb-461e-bfed-b5f9f2aa31b2\" type=\"checkbox\" ><label for=\"8dad769f-48fb-461e-bfed-b5f9f2aa31b2\" class=\"sk-toggleable__label sk-toggleable__label-arrow\">Pipeline</label><div class=\"sk-toggleable__content\"><pre>Pipeline(steps=[(&#x27;standardscaler&#x27;, StandardScaler())])</pre></div></div></div><div class=\"sk-serial\"><div class=\"sk-item\"><div class=\"sk-estimator sk-toggleable\"><input class=\"sk-toggleable__control sk-hidden--visually\" id=\"e72904c8-c15e-48af-bbb1-6d76f332c6f9\" type=\"checkbox\" ><label for=\"e72904c8-c15e-48af-bbb1-6d76f332c6f9\" class=\"sk-toggleable__label sk-toggleable__label-arrow\">StandardScaler</label><div class=\"sk-toggleable__content\"><pre>StandardScaler()</pre></div></div></div></div></div></div></div>"
            ]
          },
          "metadata": {},
          "execution_count": 64
        }
      ]
    },
    {
      "cell_type": "code",
      "source": [
        "# Instanciamiento del Pipeline categorico\n",
        "categorical_pipe = make_pipeline(ohe)\n",
        "categorical_pipe"
      ],
      "metadata": {
        "colab": {
          "base_uri": "https://localhost:8080/",
          "height": 92
        },
        "id": "MUICyI88me64",
        "outputId": "971772ad-ed91-45e8-9401-9197cee9bdec"
      },
      "execution_count": null,
      "outputs": [
        {
          "output_type": "execute_result",
          "data": {
            "text/plain": [
              "Pipeline(steps=[('onehotencoder',\n",
              "                 OneHotEncoder(handle_unknown='ignore', sparse=False))])"
            ],
            "text/html": [
              "<style>#sk-1215de58-bc30-4930-9dc1-cf22fae800c4 {color: black;background-color: white;}#sk-1215de58-bc30-4930-9dc1-cf22fae800c4 pre{padding: 0;}#sk-1215de58-bc30-4930-9dc1-cf22fae800c4 div.sk-toggleable {background-color: white;}#sk-1215de58-bc30-4930-9dc1-cf22fae800c4 label.sk-toggleable__label {cursor: pointer;display: block;width: 100%;margin-bottom: 0;padding: 0.3em;box-sizing: border-box;text-align: center;}#sk-1215de58-bc30-4930-9dc1-cf22fae800c4 label.sk-toggleable__label-arrow:before {content: \"▸\";float: left;margin-right: 0.25em;color: #696969;}#sk-1215de58-bc30-4930-9dc1-cf22fae800c4 label.sk-toggleable__label-arrow:hover:before {color: black;}#sk-1215de58-bc30-4930-9dc1-cf22fae800c4 div.sk-estimator:hover label.sk-toggleable__label-arrow:before {color: black;}#sk-1215de58-bc30-4930-9dc1-cf22fae800c4 div.sk-toggleable__content {max-height: 0;max-width: 0;overflow: hidden;text-align: left;background-color: #f0f8ff;}#sk-1215de58-bc30-4930-9dc1-cf22fae800c4 div.sk-toggleable__content pre {margin: 0.2em;color: black;border-radius: 0.25em;background-color: #f0f8ff;}#sk-1215de58-bc30-4930-9dc1-cf22fae800c4 input.sk-toggleable__control:checked~div.sk-toggleable__content {max-height: 200px;max-width: 100%;overflow: auto;}#sk-1215de58-bc30-4930-9dc1-cf22fae800c4 input.sk-toggleable__control:checked~label.sk-toggleable__label-arrow:before {content: \"▾\";}#sk-1215de58-bc30-4930-9dc1-cf22fae800c4 div.sk-estimator input.sk-toggleable__control:checked~label.sk-toggleable__label {background-color: #d4ebff;}#sk-1215de58-bc30-4930-9dc1-cf22fae800c4 div.sk-label input.sk-toggleable__control:checked~label.sk-toggleable__label {background-color: #d4ebff;}#sk-1215de58-bc30-4930-9dc1-cf22fae800c4 input.sk-hidden--visually {border: 0;clip: rect(1px 1px 1px 1px);clip: rect(1px, 1px, 1px, 1px);height: 1px;margin: -1px;overflow: hidden;padding: 0;position: absolute;width: 1px;}#sk-1215de58-bc30-4930-9dc1-cf22fae800c4 div.sk-estimator {font-family: monospace;background-color: #f0f8ff;border: 1px dotted black;border-radius: 0.25em;box-sizing: border-box;margin-bottom: 0.5em;}#sk-1215de58-bc30-4930-9dc1-cf22fae800c4 div.sk-estimator:hover {background-color: #d4ebff;}#sk-1215de58-bc30-4930-9dc1-cf22fae800c4 div.sk-parallel-item::after {content: \"\";width: 100%;border-bottom: 1px solid gray;flex-grow: 1;}#sk-1215de58-bc30-4930-9dc1-cf22fae800c4 div.sk-label:hover label.sk-toggleable__label {background-color: #d4ebff;}#sk-1215de58-bc30-4930-9dc1-cf22fae800c4 div.sk-serial::before {content: \"\";position: absolute;border-left: 1px solid gray;box-sizing: border-box;top: 2em;bottom: 0;left: 50%;}#sk-1215de58-bc30-4930-9dc1-cf22fae800c4 div.sk-serial {display: flex;flex-direction: column;align-items: center;background-color: white;padding-right: 0.2em;padding-left: 0.2em;}#sk-1215de58-bc30-4930-9dc1-cf22fae800c4 div.sk-item {z-index: 1;}#sk-1215de58-bc30-4930-9dc1-cf22fae800c4 div.sk-parallel {display: flex;align-items: stretch;justify-content: center;background-color: white;}#sk-1215de58-bc30-4930-9dc1-cf22fae800c4 div.sk-parallel::before {content: \"\";position: absolute;border-left: 1px solid gray;box-sizing: border-box;top: 2em;bottom: 0;left: 50%;}#sk-1215de58-bc30-4930-9dc1-cf22fae800c4 div.sk-parallel-item {display: flex;flex-direction: column;position: relative;background-color: white;}#sk-1215de58-bc30-4930-9dc1-cf22fae800c4 div.sk-parallel-item:first-child::after {align-self: flex-end;width: 50%;}#sk-1215de58-bc30-4930-9dc1-cf22fae800c4 div.sk-parallel-item:last-child::after {align-self: flex-start;width: 50%;}#sk-1215de58-bc30-4930-9dc1-cf22fae800c4 div.sk-parallel-item:only-child::after {width: 0;}#sk-1215de58-bc30-4930-9dc1-cf22fae800c4 div.sk-dashed-wrapped {border: 1px dashed gray;margin: 0 0.4em 0.5em 0.4em;box-sizing: border-box;padding-bottom: 0.4em;background-color: white;position: relative;}#sk-1215de58-bc30-4930-9dc1-cf22fae800c4 div.sk-label label {font-family: monospace;font-weight: bold;background-color: white;display: inline-block;line-height: 1.2em;}#sk-1215de58-bc30-4930-9dc1-cf22fae800c4 div.sk-label-container {position: relative;z-index: 2;text-align: center;}#sk-1215de58-bc30-4930-9dc1-cf22fae800c4 div.sk-container {/* jupyter's `normalize.less` sets `[hidden] { display: none; }` but bootstrap.min.css set `[hidden] { display: none !important; }` so we also need the `!important` here to be able to override the default hidden behavior on the sphinx rendered scikit-learn.org. See: https://github.com/scikit-learn/scikit-learn/issues/21755 */display: inline-block !important;position: relative;}#sk-1215de58-bc30-4930-9dc1-cf22fae800c4 div.sk-text-repr-fallback {display: none;}</style><div id=\"sk-1215de58-bc30-4930-9dc1-cf22fae800c4\" class=\"sk-top-container\"><div class=\"sk-text-repr-fallback\"><pre>Pipeline(steps=[(&#x27;onehotencoder&#x27;,\n",
              "                 OneHotEncoder(handle_unknown=&#x27;ignore&#x27;, sparse=False))])</pre><b>Please rerun this cell to show the HTML repr or trust the notebook.</b></div><div class=\"sk-container\" hidden><div class=\"sk-item sk-dashed-wrapped\"><div class=\"sk-label-container\"><div class=\"sk-label sk-toggleable\"><input class=\"sk-toggleable__control sk-hidden--visually\" id=\"650cad48-4cdc-4ca9-96cf-ca20c9660436\" type=\"checkbox\" ><label for=\"650cad48-4cdc-4ca9-96cf-ca20c9660436\" class=\"sk-toggleable__label sk-toggleable__label-arrow\">Pipeline</label><div class=\"sk-toggleable__content\"><pre>Pipeline(steps=[(&#x27;onehotencoder&#x27;,\n",
              "                 OneHotEncoder(handle_unknown=&#x27;ignore&#x27;, sparse=False))])</pre></div></div></div><div class=\"sk-serial\"><div class=\"sk-item\"><div class=\"sk-estimator sk-toggleable\"><input class=\"sk-toggleable__control sk-hidden--visually\" id=\"42530c33-647b-4a73-b471-a0987492230e\" type=\"checkbox\" ><label for=\"42530c33-647b-4a73-b471-a0987492230e\" class=\"sk-toggleable__label sk-toggleable__label-arrow\">OneHotEncoder</label><div class=\"sk-toggleable__content\"><pre>OneHotEncoder(handle_unknown=&#x27;ignore&#x27;, sparse=False)</pre></div></div></div></div></div></div></div>"
            ]
          },
          "metadata": {},
          "execution_count": 65
        }
      ]
    },
    {
      "cell_type": "code",
      "source": [
        "# nombres de columnas para aplicar el Column Transformer de los pipelines\n",
        "number_tuple = (numeric_pipe, num_selector)\n",
        "category_tuple = (categorical_pipe, cat_selector)\n",
        "print(f\"Tuplas Numericas:\\n{number_tuple}\\n\\nTuplas Categoricas:{category_tuple}\\n\")"
      ],
      "metadata": {
        "colab": {
          "base_uri": "https://localhost:8080/"
        },
        "id": "3Xz5Tpx06-LA",
        "outputId": "73ff920f-d90c-4d49-f5f2-2690491f691b"
      },
      "execution_count": null,
      "outputs": [
        {
          "output_type": "stream",
          "name": "stdout",
          "text": [
            "Tuplas Numericas:\n",
            "(Pipeline(steps=[('standardscaler', StandardScaler())]), <sklearn.compose._column_transformer.make_column_selector object at 0x7fa2b99b1280>)\n",
            "\n",
            "Tuplas Categoricas:(Pipeline(steps=[('onehotencoder',\n",
            "                 OneHotEncoder(handle_unknown='ignore', sparse=False))]), <sklearn.compose._column_transformer.make_column_selector object at 0x7fa2b99b10a0>)\n",
            "\n"
          ]
        }
      ]
    },
    {
      "cell_type": "code",
      "source": [
        "# Transformacion de Conlumnas con ColumnTransformer\n",
        "preprocessor = make_column_transformer(number_tuple, category_tuple)\n",
        "preprocessor\n"
      ],
      "metadata": {
        "colab": {
          "base_uri": "https://localhost:8080/",
          "height": 118
        },
        "id": "MW2H7AV_m4by",
        "outputId": "1c0b7a55-ba1d-4d0f-b5ef-b169b0571cbf"
      },
      "execution_count": null,
      "outputs": [
        {
          "output_type": "execute_result",
          "data": {
            "text/plain": [
              "ColumnTransformer(transformers=[('pipeline-1',\n",
              "                                 Pipeline(steps=[('standardscaler',\n",
              "                                                  StandardScaler())]),\n",
              "                                 <sklearn.compose._column_transformer.make_column_selector object at 0x7fa2b99b1280>),\n",
              "                                ('pipeline-2',\n",
              "                                 Pipeline(steps=[('onehotencoder',\n",
              "                                                  OneHotEncoder(handle_unknown='ignore',\n",
              "                                                                sparse=False))]),\n",
              "                                 <sklearn.compose._column_transformer.make_column_selector object at 0x7fa2b99b10a0>)])"
            ],
            "text/html": [
              "<style>#sk-f3e6527e-359f-4137-b7c9-85a92f5e9add {color: black;background-color: white;}#sk-f3e6527e-359f-4137-b7c9-85a92f5e9add pre{padding: 0;}#sk-f3e6527e-359f-4137-b7c9-85a92f5e9add div.sk-toggleable {background-color: white;}#sk-f3e6527e-359f-4137-b7c9-85a92f5e9add label.sk-toggleable__label {cursor: pointer;display: block;width: 100%;margin-bottom: 0;padding: 0.3em;box-sizing: border-box;text-align: center;}#sk-f3e6527e-359f-4137-b7c9-85a92f5e9add label.sk-toggleable__label-arrow:before {content: \"▸\";float: left;margin-right: 0.25em;color: #696969;}#sk-f3e6527e-359f-4137-b7c9-85a92f5e9add label.sk-toggleable__label-arrow:hover:before {color: black;}#sk-f3e6527e-359f-4137-b7c9-85a92f5e9add div.sk-estimator:hover label.sk-toggleable__label-arrow:before {color: black;}#sk-f3e6527e-359f-4137-b7c9-85a92f5e9add div.sk-toggleable__content {max-height: 0;max-width: 0;overflow: hidden;text-align: left;background-color: #f0f8ff;}#sk-f3e6527e-359f-4137-b7c9-85a92f5e9add div.sk-toggleable__content pre {margin: 0.2em;color: black;border-radius: 0.25em;background-color: #f0f8ff;}#sk-f3e6527e-359f-4137-b7c9-85a92f5e9add input.sk-toggleable__control:checked~div.sk-toggleable__content {max-height: 200px;max-width: 100%;overflow: auto;}#sk-f3e6527e-359f-4137-b7c9-85a92f5e9add input.sk-toggleable__control:checked~label.sk-toggleable__label-arrow:before {content: \"▾\";}#sk-f3e6527e-359f-4137-b7c9-85a92f5e9add div.sk-estimator input.sk-toggleable__control:checked~label.sk-toggleable__label {background-color: #d4ebff;}#sk-f3e6527e-359f-4137-b7c9-85a92f5e9add div.sk-label input.sk-toggleable__control:checked~label.sk-toggleable__label {background-color: #d4ebff;}#sk-f3e6527e-359f-4137-b7c9-85a92f5e9add input.sk-hidden--visually {border: 0;clip: rect(1px 1px 1px 1px);clip: rect(1px, 1px, 1px, 1px);height: 1px;margin: -1px;overflow: hidden;padding: 0;position: absolute;width: 1px;}#sk-f3e6527e-359f-4137-b7c9-85a92f5e9add div.sk-estimator {font-family: monospace;background-color: #f0f8ff;border: 1px dotted black;border-radius: 0.25em;box-sizing: border-box;margin-bottom: 0.5em;}#sk-f3e6527e-359f-4137-b7c9-85a92f5e9add div.sk-estimator:hover {background-color: #d4ebff;}#sk-f3e6527e-359f-4137-b7c9-85a92f5e9add div.sk-parallel-item::after {content: \"\";width: 100%;border-bottom: 1px solid gray;flex-grow: 1;}#sk-f3e6527e-359f-4137-b7c9-85a92f5e9add div.sk-label:hover label.sk-toggleable__label {background-color: #d4ebff;}#sk-f3e6527e-359f-4137-b7c9-85a92f5e9add div.sk-serial::before {content: \"\";position: absolute;border-left: 1px solid gray;box-sizing: border-box;top: 2em;bottom: 0;left: 50%;}#sk-f3e6527e-359f-4137-b7c9-85a92f5e9add div.sk-serial {display: flex;flex-direction: column;align-items: center;background-color: white;padding-right: 0.2em;padding-left: 0.2em;}#sk-f3e6527e-359f-4137-b7c9-85a92f5e9add div.sk-item {z-index: 1;}#sk-f3e6527e-359f-4137-b7c9-85a92f5e9add div.sk-parallel {display: flex;align-items: stretch;justify-content: center;background-color: white;}#sk-f3e6527e-359f-4137-b7c9-85a92f5e9add div.sk-parallel::before {content: \"\";position: absolute;border-left: 1px solid gray;box-sizing: border-box;top: 2em;bottom: 0;left: 50%;}#sk-f3e6527e-359f-4137-b7c9-85a92f5e9add div.sk-parallel-item {display: flex;flex-direction: column;position: relative;background-color: white;}#sk-f3e6527e-359f-4137-b7c9-85a92f5e9add div.sk-parallel-item:first-child::after {align-self: flex-end;width: 50%;}#sk-f3e6527e-359f-4137-b7c9-85a92f5e9add div.sk-parallel-item:last-child::after {align-self: flex-start;width: 50%;}#sk-f3e6527e-359f-4137-b7c9-85a92f5e9add div.sk-parallel-item:only-child::after {width: 0;}#sk-f3e6527e-359f-4137-b7c9-85a92f5e9add div.sk-dashed-wrapped {border: 1px dashed gray;margin: 0 0.4em 0.5em 0.4em;box-sizing: border-box;padding-bottom: 0.4em;background-color: white;position: relative;}#sk-f3e6527e-359f-4137-b7c9-85a92f5e9add div.sk-label label {font-family: monospace;font-weight: bold;background-color: white;display: inline-block;line-height: 1.2em;}#sk-f3e6527e-359f-4137-b7c9-85a92f5e9add div.sk-label-container {position: relative;z-index: 2;text-align: center;}#sk-f3e6527e-359f-4137-b7c9-85a92f5e9add div.sk-container {/* jupyter's `normalize.less` sets `[hidden] { display: none; }` but bootstrap.min.css set `[hidden] { display: none !important; }` so we also need the `!important` here to be able to override the default hidden behavior on the sphinx rendered scikit-learn.org. See: https://github.com/scikit-learn/scikit-learn/issues/21755 */display: inline-block !important;position: relative;}#sk-f3e6527e-359f-4137-b7c9-85a92f5e9add div.sk-text-repr-fallback {display: none;}</style><div id=\"sk-f3e6527e-359f-4137-b7c9-85a92f5e9add\" class=\"sk-top-container\"><div class=\"sk-text-repr-fallback\"><pre>ColumnTransformer(transformers=[(&#x27;pipeline-1&#x27;,\n",
              "                                 Pipeline(steps=[(&#x27;standardscaler&#x27;,\n",
              "                                                  StandardScaler())]),\n",
              "                                 &lt;sklearn.compose._column_transformer.make_column_selector object at 0x7fa2b99b1280&gt;),\n",
              "                                (&#x27;pipeline-2&#x27;,\n",
              "                                 Pipeline(steps=[(&#x27;onehotencoder&#x27;,\n",
              "                                                  OneHotEncoder(handle_unknown=&#x27;ignore&#x27;,\n",
              "                                                                sparse=False))]),\n",
              "                                 &lt;sklearn.compose._column_transformer.make_column_selector object at 0x7fa2b99b10a0&gt;)])</pre><b>Please rerun this cell to show the HTML repr or trust the notebook.</b></div><div class=\"sk-container\" hidden><div class=\"sk-item sk-dashed-wrapped\"><div class=\"sk-label-container\"><div class=\"sk-label sk-toggleable\"><input class=\"sk-toggleable__control sk-hidden--visually\" id=\"cf358f22-da7a-4044-bd24-76ecb37731c4\" type=\"checkbox\" ><label for=\"cf358f22-da7a-4044-bd24-76ecb37731c4\" class=\"sk-toggleable__label sk-toggleable__label-arrow\">ColumnTransformer</label><div class=\"sk-toggleable__content\"><pre>ColumnTransformer(transformers=[(&#x27;pipeline-1&#x27;,\n",
              "                                 Pipeline(steps=[(&#x27;standardscaler&#x27;,\n",
              "                                                  StandardScaler())]),\n",
              "                                 &lt;sklearn.compose._column_transformer.make_column_selector object at 0x7fa2b99b1280&gt;),\n",
              "                                (&#x27;pipeline-2&#x27;,\n",
              "                                 Pipeline(steps=[(&#x27;onehotencoder&#x27;,\n",
              "                                                  OneHotEncoder(handle_unknown=&#x27;ignore&#x27;,\n",
              "                                                                sparse=False))]),\n",
              "                                 &lt;sklearn.compose._column_transformer.make_column_selector object at 0x7fa2b99b10a0&gt;)])</pre></div></div></div><div class=\"sk-parallel\"><div class=\"sk-parallel-item\"><div class=\"sk-item\"><div class=\"sk-label-container\"><div class=\"sk-label sk-toggleable\"><input class=\"sk-toggleable__control sk-hidden--visually\" id=\"fe2fb337-04e3-4d42-9168-f5ebd10e4d77\" type=\"checkbox\" ><label for=\"fe2fb337-04e3-4d42-9168-f5ebd10e4d77\" class=\"sk-toggleable__label sk-toggleable__label-arrow\">pipeline-1</label><div class=\"sk-toggleable__content\"><pre>&lt;sklearn.compose._column_transformer.make_column_selector object at 0x7fa2b99b1280&gt;</pre></div></div></div><div class=\"sk-serial\"><div class=\"sk-item\"><div class=\"sk-serial\"><div class=\"sk-item\"><div class=\"sk-estimator sk-toggleable\"><input class=\"sk-toggleable__control sk-hidden--visually\" id=\"12e9674e-3e35-4ad7-a75f-239d568c734f\" type=\"checkbox\" ><label for=\"12e9674e-3e35-4ad7-a75f-239d568c734f\" class=\"sk-toggleable__label sk-toggleable__label-arrow\">StandardScaler</label><div class=\"sk-toggleable__content\"><pre>StandardScaler()</pre></div></div></div></div></div></div></div></div><div class=\"sk-parallel-item\"><div class=\"sk-item\"><div class=\"sk-label-container\"><div class=\"sk-label sk-toggleable\"><input class=\"sk-toggleable__control sk-hidden--visually\" id=\"288d7c56-aa7e-41a9-a17d-6d6a2927f351\" type=\"checkbox\" ><label for=\"288d7c56-aa7e-41a9-a17d-6d6a2927f351\" class=\"sk-toggleable__label sk-toggleable__label-arrow\">pipeline-2</label><div class=\"sk-toggleable__content\"><pre>&lt;sklearn.compose._column_transformer.make_column_selector object at 0x7fa2b99b10a0&gt;</pre></div></div></div><div class=\"sk-serial\"><div class=\"sk-item\"><div class=\"sk-serial\"><div class=\"sk-item\"><div class=\"sk-estimator sk-toggleable\"><input class=\"sk-toggleable__control sk-hidden--visually\" id=\"6e8877f8-3245-4fab-8d5c-0f90e88a4546\" type=\"checkbox\" ><label for=\"6e8877f8-3245-4fab-8d5c-0f90e88a4546\" class=\"sk-toggleable__label sk-toggleable__label-arrow\">OneHotEncoder</label><div class=\"sk-toggleable__content\"><pre>OneHotEncoder(handle_unknown=&#x27;ignore&#x27;, sparse=False)</pre></div></div></div></div></div></div></div></div></div></div></div></div>"
            ]
          },
          "metadata": {},
          "execution_count": 67
        }
      ]
    },
    {
      "cell_type": "code",
      "source": [
        "# ajuste de las variables de entrenamiento\n",
        "preprocessor.fit(X_train) "
      ],
      "metadata": {
        "colab": {
          "base_uri": "https://localhost:8080/",
          "height": 118
        },
        "id": "lVaLsOtu8lfM",
        "outputId": "2d03de57-a707-4246-f3a9-1b119d1f352f"
      },
      "execution_count": null,
      "outputs": [
        {
          "output_type": "execute_result",
          "data": {
            "text/plain": [
              "ColumnTransformer(transformers=[('pipeline-1',\n",
              "                                 Pipeline(steps=[('standardscaler',\n",
              "                                                  StandardScaler())]),\n",
              "                                 <sklearn.compose._column_transformer.make_column_selector object at 0x7fa2b99b1280>),\n",
              "                                ('pipeline-2',\n",
              "                                 Pipeline(steps=[('onehotencoder',\n",
              "                                                  OneHotEncoder(handle_unknown='ignore',\n",
              "                                                                sparse=False))]),\n",
              "                                 <sklearn.compose._column_transformer.make_column_selector object at 0x7fa2b99b10a0>)])"
            ],
            "text/html": [
              "<style>#sk-787b98fd-9ec4-49cb-8108-cfc429c0ef98 {color: black;background-color: white;}#sk-787b98fd-9ec4-49cb-8108-cfc429c0ef98 pre{padding: 0;}#sk-787b98fd-9ec4-49cb-8108-cfc429c0ef98 div.sk-toggleable {background-color: white;}#sk-787b98fd-9ec4-49cb-8108-cfc429c0ef98 label.sk-toggleable__label {cursor: pointer;display: block;width: 100%;margin-bottom: 0;padding: 0.3em;box-sizing: border-box;text-align: center;}#sk-787b98fd-9ec4-49cb-8108-cfc429c0ef98 label.sk-toggleable__label-arrow:before {content: \"▸\";float: left;margin-right: 0.25em;color: #696969;}#sk-787b98fd-9ec4-49cb-8108-cfc429c0ef98 label.sk-toggleable__label-arrow:hover:before {color: black;}#sk-787b98fd-9ec4-49cb-8108-cfc429c0ef98 div.sk-estimator:hover label.sk-toggleable__label-arrow:before {color: black;}#sk-787b98fd-9ec4-49cb-8108-cfc429c0ef98 div.sk-toggleable__content {max-height: 0;max-width: 0;overflow: hidden;text-align: left;background-color: #f0f8ff;}#sk-787b98fd-9ec4-49cb-8108-cfc429c0ef98 div.sk-toggleable__content pre {margin: 0.2em;color: black;border-radius: 0.25em;background-color: #f0f8ff;}#sk-787b98fd-9ec4-49cb-8108-cfc429c0ef98 input.sk-toggleable__control:checked~div.sk-toggleable__content {max-height: 200px;max-width: 100%;overflow: auto;}#sk-787b98fd-9ec4-49cb-8108-cfc429c0ef98 input.sk-toggleable__control:checked~label.sk-toggleable__label-arrow:before {content: \"▾\";}#sk-787b98fd-9ec4-49cb-8108-cfc429c0ef98 div.sk-estimator input.sk-toggleable__control:checked~label.sk-toggleable__label {background-color: #d4ebff;}#sk-787b98fd-9ec4-49cb-8108-cfc429c0ef98 div.sk-label input.sk-toggleable__control:checked~label.sk-toggleable__label {background-color: #d4ebff;}#sk-787b98fd-9ec4-49cb-8108-cfc429c0ef98 input.sk-hidden--visually {border: 0;clip: rect(1px 1px 1px 1px);clip: rect(1px, 1px, 1px, 1px);height: 1px;margin: -1px;overflow: hidden;padding: 0;position: absolute;width: 1px;}#sk-787b98fd-9ec4-49cb-8108-cfc429c0ef98 div.sk-estimator {font-family: monospace;background-color: #f0f8ff;border: 1px dotted black;border-radius: 0.25em;box-sizing: border-box;margin-bottom: 0.5em;}#sk-787b98fd-9ec4-49cb-8108-cfc429c0ef98 div.sk-estimator:hover {background-color: #d4ebff;}#sk-787b98fd-9ec4-49cb-8108-cfc429c0ef98 div.sk-parallel-item::after {content: \"\";width: 100%;border-bottom: 1px solid gray;flex-grow: 1;}#sk-787b98fd-9ec4-49cb-8108-cfc429c0ef98 div.sk-label:hover label.sk-toggleable__label {background-color: #d4ebff;}#sk-787b98fd-9ec4-49cb-8108-cfc429c0ef98 div.sk-serial::before {content: \"\";position: absolute;border-left: 1px solid gray;box-sizing: border-box;top: 2em;bottom: 0;left: 50%;}#sk-787b98fd-9ec4-49cb-8108-cfc429c0ef98 div.sk-serial {display: flex;flex-direction: column;align-items: center;background-color: white;padding-right: 0.2em;padding-left: 0.2em;}#sk-787b98fd-9ec4-49cb-8108-cfc429c0ef98 div.sk-item {z-index: 1;}#sk-787b98fd-9ec4-49cb-8108-cfc429c0ef98 div.sk-parallel {display: flex;align-items: stretch;justify-content: center;background-color: white;}#sk-787b98fd-9ec4-49cb-8108-cfc429c0ef98 div.sk-parallel::before {content: \"\";position: absolute;border-left: 1px solid gray;box-sizing: border-box;top: 2em;bottom: 0;left: 50%;}#sk-787b98fd-9ec4-49cb-8108-cfc429c0ef98 div.sk-parallel-item {display: flex;flex-direction: column;position: relative;background-color: white;}#sk-787b98fd-9ec4-49cb-8108-cfc429c0ef98 div.sk-parallel-item:first-child::after {align-self: flex-end;width: 50%;}#sk-787b98fd-9ec4-49cb-8108-cfc429c0ef98 div.sk-parallel-item:last-child::after {align-self: flex-start;width: 50%;}#sk-787b98fd-9ec4-49cb-8108-cfc429c0ef98 div.sk-parallel-item:only-child::after {width: 0;}#sk-787b98fd-9ec4-49cb-8108-cfc429c0ef98 div.sk-dashed-wrapped {border: 1px dashed gray;margin: 0 0.4em 0.5em 0.4em;box-sizing: border-box;padding-bottom: 0.4em;background-color: white;position: relative;}#sk-787b98fd-9ec4-49cb-8108-cfc429c0ef98 div.sk-label label {font-family: monospace;font-weight: bold;background-color: white;display: inline-block;line-height: 1.2em;}#sk-787b98fd-9ec4-49cb-8108-cfc429c0ef98 div.sk-label-container {position: relative;z-index: 2;text-align: center;}#sk-787b98fd-9ec4-49cb-8108-cfc429c0ef98 div.sk-container {/* jupyter's `normalize.less` sets `[hidden] { display: none; }` but bootstrap.min.css set `[hidden] { display: none !important; }` so we also need the `!important` here to be able to override the default hidden behavior on the sphinx rendered scikit-learn.org. See: https://github.com/scikit-learn/scikit-learn/issues/21755 */display: inline-block !important;position: relative;}#sk-787b98fd-9ec4-49cb-8108-cfc429c0ef98 div.sk-text-repr-fallback {display: none;}</style><div id=\"sk-787b98fd-9ec4-49cb-8108-cfc429c0ef98\" class=\"sk-top-container\"><div class=\"sk-text-repr-fallback\"><pre>ColumnTransformer(transformers=[(&#x27;pipeline-1&#x27;,\n",
              "                                 Pipeline(steps=[(&#x27;standardscaler&#x27;,\n",
              "                                                  StandardScaler())]),\n",
              "                                 &lt;sklearn.compose._column_transformer.make_column_selector object at 0x7fa2b99b1280&gt;),\n",
              "                                (&#x27;pipeline-2&#x27;,\n",
              "                                 Pipeline(steps=[(&#x27;onehotencoder&#x27;,\n",
              "                                                  OneHotEncoder(handle_unknown=&#x27;ignore&#x27;,\n",
              "                                                                sparse=False))]),\n",
              "                                 &lt;sklearn.compose._column_transformer.make_column_selector object at 0x7fa2b99b10a0&gt;)])</pre><b>Please rerun this cell to show the HTML repr or trust the notebook.</b></div><div class=\"sk-container\" hidden><div class=\"sk-item sk-dashed-wrapped\"><div class=\"sk-label-container\"><div class=\"sk-label sk-toggleable\"><input class=\"sk-toggleable__control sk-hidden--visually\" id=\"3bd95099-faa9-46ca-8845-9ee05338b2fc\" type=\"checkbox\" ><label for=\"3bd95099-faa9-46ca-8845-9ee05338b2fc\" class=\"sk-toggleable__label sk-toggleable__label-arrow\">ColumnTransformer</label><div class=\"sk-toggleable__content\"><pre>ColumnTransformer(transformers=[(&#x27;pipeline-1&#x27;,\n",
              "                                 Pipeline(steps=[(&#x27;standardscaler&#x27;,\n",
              "                                                  StandardScaler())]),\n",
              "                                 &lt;sklearn.compose._column_transformer.make_column_selector object at 0x7fa2b99b1280&gt;),\n",
              "                                (&#x27;pipeline-2&#x27;,\n",
              "                                 Pipeline(steps=[(&#x27;onehotencoder&#x27;,\n",
              "                                                  OneHotEncoder(handle_unknown=&#x27;ignore&#x27;,\n",
              "                                                                sparse=False))]),\n",
              "                                 &lt;sklearn.compose._column_transformer.make_column_selector object at 0x7fa2b99b10a0&gt;)])</pre></div></div></div><div class=\"sk-parallel\"><div class=\"sk-parallel-item\"><div class=\"sk-item\"><div class=\"sk-label-container\"><div class=\"sk-label sk-toggleable\"><input class=\"sk-toggleable__control sk-hidden--visually\" id=\"fc8a4d76-e4ce-43a0-8e69-b1dfbe16c5d5\" type=\"checkbox\" ><label for=\"fc8a4d76-e4ce-43a0-8e69-b1dfbe16c5d5\" class=\"sk-toggleable__label sk-toggleable__label-arrow\">pipeline-1</label><div class=\"sk-toggleable__content\"><pre>&lt;sklearn.compose._column_transformer.make_column_selector object at 0x7fa2b99b1280&gt;</pre></div></div></div><div class=\"sk-serial\"><div class=\"sk-item\"><div class=\"sk-serial\"><div class=\"sk-item\"><div class=\"sk-estimator sk-toggleable\"><input class=\"sk-toggleable__control sk-hidden--visually\" id=\"117a3213-fafe-471e-80de-090368edd89e\" type=\"checkbox\" ><label for=\"117a3213-fafe-471e-80de-090368edd89e\" class=\"sk-toggleable__label sk-toggleable__label-arrow\">StandardScaler</label><div class=\"sk-toggleable__content\"><pre>StandardScaler()</pre></div></div></div></div></div></div></div></div><div class=\"sk-parallel-item\"><div class=\"sk-item\"><div class=\"sk-label-container\"><div class=\"sk-label sk-toggleable\"><input class=\"sk-toggleable__control sk-hidden--visually\" id=\"431bda3f-58ef-44ee-9a37-3406bd679787\" type=\"checkbox\" ><label for=\"431bda3f-58ef-44ee-9a37-3406bd679787\" class=\"sk-toggleable__label sk-toggleable__label-arrow\">pipeline-2</label><div class=\"sk-toggleable__content\"><pre>&lt;sklearn.compose._column_transformer.make_column_selector object at 0x7fa2b99b10a0&gt;</pre></div></div></div><div class=\"sk-serial\"><div class=\"sk-item\"><div class=\"sk-serial\"><div class=\"sk-item\"><div class=\"sk-estimator sk-toggleable\"><input class=\"sk-toggleable__control sk-hidden--visually\" id=\"a39478f2-8a7c-4a5d-9cd8-d553625c047c\" type=\"checkbox\" ><label for=\"a39478f2-8a7c-4a5d-9cd8-d553625c047c\" class=\"sk-toggleable__label sk-toggleable__label-arrow\">OneHotEncoder</label><div class=\"sk-toggleable__content\"><pre>OneHotEncoder(handle_unknown=&#x27;ignore&#x27;, sparse=False)</pre></div></div></div></div></div></div></div></div></div></div></div></div>"
            ]
          },
          "metadata": {},
          "execution_count": 68
        }
      ]
    },
    {
      "cell_type": "code",
      "source": [
        "# transformacion de las variables de entrenamiento y las de prueba\n",
        "X_train_processed = preprocessor.transform(X_train)\n",
        "X_test_processed = preprocessor.transform(X_test)"
      ],
      "metadata": {
        "id": "h6MWyPH49DEU"
      },
      "execution_count": null,
      "outputs": []
    },
    {
      "cell_type": "markdown",
      "source": [
        " - **Inspeccion del resultado**\n"
      ],
      "metadata": {
        "id": "Fk7xMb149wtN"
      }
    },
    {
      "cell_type": "code",
      "source": [
        "# Comprobacion de los datos se escalados\n",
        "print(np.isnan(X_train_processed).sum().sum(), 'valores faltantes en la data de entrenamiento')\n",
        "print(np.isnan(X_test_processed).sum().sum(), 'valores faltantes en la data de prueba')\n",
        "print('\\n')\n",
        "print('Toda la data en X_train_processed es', X_train_processed.dtype)\n",
        "print('Toda la data en X_test_processed es', X_test_processed.dtype)\n",
        "print('\\n')\n",
        "print('shape de la data: ', X_train_processed.shape)\n",
        "print('\\n')\n",
        "X_train_processed\n"
      ],
      "metadata": {
        "colab": {
          "base_uri": "https://localhost:8080/"
        },
        "id": "PTxushsR-Fr1",
        "outputId": "0f3f5fb5-6771-4939-af8e-71fd083a1407"
      },
      "execution_count": null,
      "outputs": [
        {
          "output_type": "stream",
          "name": "stdout",
          "text": [
            "0 valores faltantes en la data de entrenamiento\n",
            "0 valores faltantes en la data de prueba\n",
            "\n",
            "\n",
            "Toda la data en X_train_processed es float64\n",
            "Toda la data en X_test_processed es float64\n",
            "\n",
            "\n",
            "shape de la data:  (6392, 1586)\n",
            "\n",
            "\n"
          ]
        },
        {
          "output_type": "execute_result",
          "data": {
            "text/plain": [
              "array([[ 1.82810922,  0.        ,  0.        , ...,  0.        ,\n",
              "         1.        ,  0.        ],\n",
              "       [ 0.60336888,  0.        ,  0.        , ...,  0.        ,\n",
              "         1.        ,  0.        ],\n",
              "       [ 0.24454056,  0.        ,  0.        , ...,  1.        ,\n",
              "         0.        ,  0.        ],\n",
              "       ...,\n",
              "       [ 1.52302674,  0.        ,  0.        , ...,  1.        ,\n",
              "         0.        ,  0.        ],\n",
              "       [-0.38377708,  0.        ,  0.        , ...,  1.        ,\n",
              "         0.        ,  0.        ],\n",
              "       [-0.73836105,  0.        ,  0.        , ...,  1.        ,\n",
              "         0.        ,  0.        ]])"
            ]
          },
          "metadata": {},
          "execution_count": 70
        }
      ]
    },
    {
      "cell_type": "markdown",
      "source": [
        "# Referencias"
      ],
      "metadata": {
        "id": "fQbOVTa0GaBe"
      }
    },
    {
      "cell_type": "markdown",
      "source": [
        "* [Curso Regression Models](https://github.com/fralfaro/CodingDojo-DataScience/blob/main/docs/6-RegressionModels/6-RegressionModels.ipynb)\n",
        "* [Curso MAT281_2022](https://github.com/fralfaro/MAT281_2022)\n",
        "* [Curso CodingDojo-DataScience](https://github.com/fralfaro/CodingDojo-DataScience)\n",
        "* [Pandas](file:///C:/Users/dpala/Documents/Coding_dojo-data-science/Python_intro/Los_fundamentos/2-Pandas.ipynb%20-%20Colaboratory.pdf)\n",
        "* [Visualizaciones](file:///C:/Users/dpala/Documents/Coding_dojo-data-science/Python_intro/Los_fundamentos/Visualizacion.pdf)\n",
        "* [Matploib](file:///C:/Users/dpala/Documents/Coding_dojo-data-science/Python_intro/Los_fundamentos/Matplotlib%20-%20Home.pdf)"
      ],
      "metadata": {
        "id": "T_oP5pjUxVi7"
      }
    }
  ]
}