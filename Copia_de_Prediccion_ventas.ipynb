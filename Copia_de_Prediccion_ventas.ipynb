{
  "nbformat": 4,
  "nbformat_minor": 0,
  "metadata": {
    "colab": {
      "provenance": [],
      "authorship_tag": "ABX9TyNWxloPYojSb+fxZJzEX1zu",
      "include_colab_link": true
    },
    "kernelspec": {
      "name": "python3",
      "display_name": "Python 3"
    },
    "language_info": {
      "name": "python"
    }
  },
  "cells": [
    {
      "cell_type": "markdown",
      "metadata": {
        "id": "view-in-github",
        "colab_type": "text"
      },
      "source": [
        "<a href=\"https://colab.research.google.com/github/jcpalaciosb/Predicion_de_ventas/blob/main/Copia_de_Prediccion_ventas.ipynb\" target=\"_parent\"><img src=\"https://colab.research.google.com/assets/colab-badge.svg\" alt=\"Open In Colab\"/></a>"
      ]
    },
    {
      "cell_type": "markdown",
      "source": [
        "**CODIGO PARA PREDICCION DE VENTAS**"
      ],
      "metadata": {
        "id": "wbcCwPQ8olcU"
      }
    },
    {
      "cell_type": "markdown",
      "source": [
        "**Objetivo:**\n",
        "\n",
        "El objetivo de este proyecto es hacer una predicción de ventas para productos alimenticios vendidos en diversas tiendas.  El objetivo de esto es ayudar al minorista a comprender las propiedades de los productos y los puntos de venta que desempeñan un papel crucial en el aumento de las ventas."
      ],
      "metadata": {
        "id": "ue3grWZ7rgFe"
      }
    },
    {
      "cell_type": "markdown",
      "source": [
        "**PARTE 1**\n",
        "\n",
        "1) Crea un repositorio GitHub que albergará el primer proyecto de portafolio. Sigan las instrucciones en el video de abajo para ayudarlos a completar esta tarea.\n",
        "\n",
        "2) Usen Pandas para leer el conjunto de datos de predicción de ventas en un cuaderno de Google Colab y verifiquen los datos utilizando el comando df.head().\n",
        "\n",
        "3) Agreguen el cuaderno de Google Colab al repositorio de GitHub.  Abran la pestaña de “archivo” y hagan clic en “Guardar copia en Github”."
      ],
      "metadata": {
        "id": "IcBYHnoXqeSx"
      }
    },
    {
      "cell_type": "markdown",
      "source": [
        "* montaje y carga de datos"
      ],
      "metadata": {
        "id": "ejres-P94C_A"
      }
    },
    {
      "cell_type": "code",
      "source": [
        "import pandas as pd\n",
        "filename=\"/content/sales_predictions.csv\"\n",
        "df = pd.read_csv(filename)\n",
        "df.head()"
      ],
      "metadata": {
        "id": "tySRFEklaQ_s",
        "colab": {
          "base_uri": "https://localhost:8080/",
          "height": 357
        },
        "outputId": "404ded4f-267b-43de-cd91-092917943409"
      },
      "execution_count": null,
      "outputs": [
        {
          "output_type": "execute_result",
          "data": {
            "text/plain": [
              "  Item_Identifier  Item_Weight Item_Fat_Content  Item_Visibility  \\\n",
              "0           FDA15         9.30          Low Fat         0.016047   \n",
              "1           DRC01         5.92          Regular         0.019278   \n",
              "2           FDN15        17.50          Low Fat         0.016760   \n",
              "3           FDX07        19.20          Regular         0.000000   \n",
              "4           NCD19         8.93          Low Fat         0.000000   \n",
              "\n",
              "               Item_Type  Item_MRP Outlet_Identifier  \\\n",
              "0                  Dairy  249.8092            OUT049   \n",
              "1            Soft Drinks   48.2692            OUT018   \n",
              "2                   Meat  141.6180            OUT049   \n",
              "3  Fruits and Vegetables  182.0950            OUT010   \n",
              "4              Household   53.8614            OUT013   \n",
              "\n",
              "   Outlet_Establishment_Year Outlet_Size Outlet_Location_Type  \\\n",
              "0                       1999      Medium               Tier 1   \n",
              "1                       2009      Medium               Tier 3   \n",
              "2                       1999      Medium               Tier 1   \n",
              "3                       1998         NaN               Tier 3   \n",
              "4                       1987        High               Tier 3   \n",
              "\n",
              "         Outlet_Type  Item_Outlet_Sales  \n",
              "0  Supermarket Type1          3735.1380  \n",
              "1  Supermarket Type2           443.4228  \n",
              "2  Supermarket Type1          2097.2700  \n",
              "3      Grocery Store           732.3800  \n",
              "4  Supermarket Type1           994.7052  "
            ],
            "text/html": [
              "\n",
              "  <div id=\"df-82e3b483-7cb6-4063-bd1c-ddbe089bfa53\">\n",
              "    <div class=\"colab-df-container\">\n",
              "      <div>\n",
              "<style scoped>\n",
              "    .dataframe tbody tr th:only-of-type {\n",
              "        vertical-align: middle;\n",
              "    }\n",
              "\n",
              "    .dataframe tbody tr th {\n",
              "        vertical-align: top;\n",
              "    }\n",
              "\n",
              "    .dataframe thead th {\n",
              "        text-align: right;\n",
              "    }\n",
              "</style>\n",
              "<table border=\"1\" class=\"dataframe\">\n",
              "  <thead>\n",
              "    <tr style=\"text-align: right;\">\n",
              "      <th></th>\n",
              "      <th>Item_Identifier</th>\n",
              "      <th>Item_Weight</th>\n",
              "      <th>Item_Fat_Content</th>\n",
              "      <th>Item_Visibility</th>\n",
              "      <th>Item_Type</th>\n",
              "      <th>Item_MRP</th>\n",
              "      <th>Outlet_Identifier</th>\n",
              "      <th>Outlet_Establishment_Year</th>\n",
              "      <th>Outlet_Size</th>\n",
              "      <th>Outlet_Location_Type</th>\n",
              "      <th>Outlet_Type</th>\n",
              "      <th>Item_Outlet_Sales</th>\n",
              "    </tr>\n",
              "  </thead>\n",
              "  <tbody>\n",
              "    <tr>\n",
              "      <th>0</th>\n",
              "      <td>FDA15</td>\n",
              "      <td>9.30</td>\n",
              "      <td>Low Fat</td>\n",
              "      <td>0.016047</td>\n",
              "      <td>Dairy</td>\n",
              "      <td>249.8092</td>\n",
              "      <td>OUT049</td>\n",
              "      <td>1999</td>\n",
              "      <td>Medium</td>\n",
              "      <td>Tier 1</td>\n",
              "      <td>Supermarket Type1</td>\n",
              "      <td>3735.1380</td>\n",
              "    </tr>\n",
              "    <tr>\n",
              "      <th>1</th>\n",
              "      <td>DRC01</td>\n",
              "      <td>5.92</td>\n",
              "      <td>Regular</td>\n",
              "      <td>0.019278</td>\n",
              "      <td>Soft Drinks</td>\n",
              "      <td>48.2692</td>\n",
              "      <td>OUT018</td>\n",
              "      <td>2009</td>\n",
              "      <td>Medium</td>\n",
              "      <td>Tier 3</td>\n",
              "      <td>Supermarket Type2</td>\n",
              "      <td>443.4228</td>\n",
              "    </tr>\n",
              "    <tr>\n",
              "      <th>2</th>\n",
              "      <td>FDN15</td>\n",
              "      <td>17.50</td>\n",
              "      <td>Low Fat</td>\n",
              "      <td>0.016760</td>\n",
              "      <td>Meat</td>\n",
              "      <td>141.6180</td>\n",
              "      <td>OUT049</td>\n",
              "      <td>1999</td>\n",
              "      <td>Medium</td>\n",
              "      <td>Tier 1</td>\n",
              "      <td>Supermarket Type1</td>\n",
              "      <td>2097.2700</td>\n",
              "    </tr>\n",
              "    <tr>\n",
              "      <th>3</th>\n",
              "      <td>FDX07</td>\n",
              "      <td>19.20</td>\n",
              "      <td>Regular</td>\n",
              "      <td>0.000000</td>\n",
              "      <td>Fruits and Vegetables</td>\n",
              "      <td>182.0950</td>\n",
              "      <td>OUT010</td>\n",
              "      <td>1998</td>\n",
              "      <td>NaN</td>\n",
              "      <td>Tier 3</td>\n",
              "      <td>Grocery Store</td>\n",
              "      <td>732.3800</td>\n",
              "    </tr>\n",
              "    <tr>\n",
              "      <th>4</th>\n",
              "      <td>NCD19</td>\n",
              "      <td>8.93</td>\n",
              "      <td>Low Fat</td>\n",
              "      <td>0.000000</td>\n",
              "      <td>Household</td>\n",
              "      <td>53.8614</td>\n",
              "      <td>OUT013</td>\n",
              "      <td>1987</td>\n",
              "      <td>High</td>\n",
              "      <td>Tier 3</td>\n",
              "      <td>Supermarket Type1</td>\n",
              "      <td>994.7052</td>\n",
              "    </tr>\n",
              "  </tbody>\n",
              "</table>\n",
              "</div>\n",
              "      <button class=\"colab-df-convert\" onclick=\"convertToInteractive('df-82e3b483-7cb6-4063-bd1c-ddbe089bfa53')\"\n",
              "              title=\"Convert this dataframe to an interactive table.\"\n",
              "              style=\"display:none;\">\n",
              "        \n",
              "  <svg xmlns=\"http://www.w3.org/2000/svg\" height=\"24px\"viewBox=\"0 0 24 24\"\n",
              "       width=\"24px\">\n",
              "    <path d=\"M0 0h24v24H0V0z\" fill=\"none\"/>\n",
              "    <path d=\"M18.56 5.44l.94 2.06.94-2.06 2.06-.94-2.06-.94-.94-2.06-.94 2.06-2.06.94zm-11 1L8.5 8.5l.94-2.06 2.06-.94-2.06-.94L8.5 2.5l-.94 2.06-2.06.94zm10 10l.94 2.06.94-2.06 2.06-.94-2.06-.94-.94-2.06-.94 2.06-2.06.94z\"/><path d=\"M17.41 7.96l-1.37-1.37c-.4-.4-.92-.59-1.43-.59-.52 0-1.04.2-1.43.59L10.3 9.45l-7.72 7.72c-.78.78-.78 2.05 0 2.83L4 21.41c.39.39.9.59 1.41.59.51 0 1.02-.2 1.41-.59l7.78-7.78 2.81-2.81c.8-.78.8-2.07 0-2.86zM5.41 20L4 18.59l7.72-7.72 1.47 1.35L5.41 20z\"/>\n",
              "  </svg>\n",
              "      </button>\n",
              "      \n",
              "  <style>\n",
              "    .colab-df-container {\n",
              "      display:flex;\n",
              "      flex-wrap:wrap;\n",
              "      gap: 12px;\n",
              "    }\n",
              "\n",
              "    .colab-df-convert {\n",
              "      background-color: #E8F0FE;\n",
              "      border: none;\n",
              "      border-radius: 50%;\n",
              "      cursor: pointer;\n",
              "      display: none;\n",
              "      fill: #1967D2;\n",
              "      height: 32px;\n",
              "      padding: 0 0 0 0;\n",
              "      width: 32px;\n",
              "    }\n",
              "\n",
              "    .colab-df-convert:hover {\n",
              "      background-color: #E2EBFA;\n",
              "      box-shadow: 0px 1px 2px rgba(60, 64, 67, 0.3), 0px 1px 3px 1px rgba(60, 64, 67, 0.15);\n",
              "      fill: #174EA6;\n",
              "    }\n",
              "\n",
              "    [theme=dark] .colab-df-convert {\n",
              "      background-color: #3B4455;\n",
              "      fill: #D2E3FC;\n",
              "    }\n",
              "\n",
              "    [theme=dark] .colab-df-convert:hover {\n",
              "      background-color: #434B5C;\n",
              "      box-shadow: 0px 1px 3px 1px rgba(0, 0, 0, 0.15);\n",
              "      filter: drop-shadow(0px 1px 2px rgba(0, 0, 0, 0.3));\n",
              "      fill: #FFFFFF;\n",
              "    }\n",
              "  </style>\n",
              "\n",
              "      <script>\n",
              "        const buttonEl =\n",
              "          document.querySelector('#df-82e3b483-7cb6-4063-bd1c-ddbe089bfa53 button.colab-df-convert');\n",
              "        buttonEl.style.display =\n",
              "          google.colab.kernel.accessAllowed ? 'block' : 'none';\n",
              "\n",
              "        async function convertToInteractive(key) {\n",
              "          const element = document.querySelector('#df-82e3b483-7cb6-4063-bd1c-ddbe089bfa53');\n",
              "          const dataTable =\n",
              "            await google.colab.kernel.invokeFunction('convertToInteractive',\n",
              "                                                     [key], {});\n",
              "          if (!dataTable) return;\n",
              "\n",
              "          const docLinkHtml = 'Like what you see? Visit the ' +\n",
              "            '<a target=\"_blank\" href=https://colab.research.google.com/notebooks/data_table.ipynb>data table notebook</a>'\n",
              "            + ' to learn more about interactive tables.';\n",
              "          element.innerHTML = '';\n",
              "          dataTable['output_type'] = 'display_data';\n",
              "          await google.colab.output.renderOutput(dataTable, element);\n",
              "          const docLink = document.createElement('div');\n",
              "          docLink.innerHTML = docLinkHtml;\n",
              "          element.appendChild(docLink);\n",
              "        }\n",
              "      </script>\n",
              "    </div>\n",
              "  </div>\n",
              "  "
            ]
          },
          "metadata": {},
          "execution_count": 1
        }
      ]
    },
    {
      "cell_type": "markdown",
      "source": [
        "Diccionario de datos para este conjunto de datos:\n",
        "\n",
        "\n",
        " - **Item_Identifier**, identificación única del producto\n",
        "\n",
        " - **Item_Weight**, peso del producto\n",
        "\n",
        " - **Item_Fat_Content**, si el producto es bajo en grasa o regular\n",
        "\n",
        " - **Item_Visibility**, porcentaje de la superficie total de exposición de todos los productos de una tienda asignada al producto concreto\n",
        "\n",
        " - **Item_Type**, categoría a la que el producto pertenece\n",
        "\n",
        " - **Item_MRP**, precio máximo de venta al público (precio de catálogo) del producto\n",
        "\n",
        " - **Outlet_Identifier**, identificación única de la tienda\n",
        "\n",
        " - **Outlet_Establishment_Year**, el año en que se estableció la tienda\n",
        "\n",
        " - **Outlet_Size**, el tamaño de la tienda en cuanto al área total\n",
        "\n",
        " - **Outlet_Location_Type**, el tipo de área donde se encuentra la tienda\n",
        "\n",
        " - **Outlet_Type**, si el punto de venta es una tienda de comestibles o algún tipo de supermercado\n",
        "\n",
        " - **Item_Outlet_Sales**, ventas del producto en una tienda particular. Es la variable objetivo a predecir."
      ],
      "metadata": {
        "id": "5kQhFtQ0TBp1"
      }
    },
    {
      "cell_type": "markdown",
      "source": [
        "**PARTE 2 (base)**\n",
        "\n",
        "Exploren los datos - ¿Qué necesitan para limpiar estos datos? ¡Límpienlos!  \n",
        "Asegúrense de abordar cada una de las siguientes tareas:\n",
        "\n",
        "1) ¿Cuántas filas y columnas?\n",
        "\n",
        "2) ¿Cuáles son los tipos de datos en cada variable?\n",
        "\n",
        "3) ¿Hay duplicados? Si es el caso, eliminen algunos duplicados.\n",
        "\n",
        "4) Identifiquen los valores faltantes.\n",
        "\n",
        "5) Decidan cómo abordar los valores faltantes y cómo hacerlo. (Esto requiere sus criterios, así que expliquen su elección).\n",
        "\n",
        "6) Confirmen que no hay valores faltantes después de abordarlos.\n",
        "\n",
        "7) Encuentren y arreglen alguna categoría inconsistente de datos (example: fix cat, Cat, and cats so that they are consistent) \n",
        "\n",
        "8) Para cualquier columna numérica, obtengan las estadísticas resumidas para cada uno (mínimo, máximo y media)"
      ],
      "metadata": {
        "id": "xI2Lp1aEsJ3k"
      }
    },
    {
      "cell_type": "code",
      "source": [
        "# 1) Cantidad de filas y columnas"
      ],
      "metadata": {
        "id": "NfWnWmzj7Hpv"
      },
      "execution_count": null,
      "outputs": []
    },
    {
      "cell_type": "code",
      "source": [
        "df.shape"
      ],
      "metadata": {
        "colab": {
          "base_uri": "https://localhost:8080/"
        },
        "id": "hGHeREwnTW98",
        "outputId": "35f284b5-ad66-4dc8-8ef5-d0ac6f4bb666"
      },
      "execution_count": null,
      "outputs": [
        {
          "output_type": "execute_result",
          "data": {
            "text/plain": [
              "(8523, 12)"
            ]
          },
          "metadata": {},
          "execution_count": 3
        }
      ]
    },
    {
      "cell_type": "code",
      "source": [
        "# 2) Tipo de datos en cada variable"
      ],
      "metadata": {
        "id": "nAfjFLLF7oGk"
      },
      "execution_count": null,
      "outputs": []
    },
    {
      "cell_type": "code",
      "source": [
        "df.dtypes"
      ],
      "metadata": {
        "colab": {
          "base_uri": "https://localhost:8080/"
        },
        "id": "F3zQOBtgTiml",
        "outputId": "6bb5777e-d6f5-4d9c-a522-2eff6516154f"
      },
      "execution_count": null,
      "outputs": [
        {
          "output_type": "execute_result",
          "data": {
            "text/plain": [
              "Item_Identifier               object\n",
              "Item_Weight                  float64\n",
              "Item_Fat_Content              object\n",
              "Item_Visibility              float64\n",
              "Item_Type                     object\n",
              "Item_MRP                     float64\n",
              "Outlet_Identifier             object\n",
              "Outlet_Establishment_Year      int64\n",
              "Outlet_Size                   object\n",
              "Outlet_Location_Type          object\n",
              "Outlet_Type                   object\n",
              "Item_Outlet_Sales            float64\n",
              "dtype: object"
            ]
          },
          "metadata": {},
          "execution_count": 5
        }
      ]
    },
    {
      "cell_type": "code",
      "source": [
        "#3) Revision si hay duplicados"
      ],
      "metadata": {
        "id": "O-Aa2T7kWTjl"
      },
      "execution_count": null,
      "outputs": []
    },
    {
      "cell_type": "code",
      "source": [
        "df.columns.duplicated()   # revision en columnas"
      ],
      "metadata": {
        "colab": {
          "base_uri": "https://localhost:8080/"
        },
        "id": "exdJkC7uxcGW",
        "outputId": "d676ae2a-c599-4925-bf8c-13a0a3fa4fa0"
      },
      "execution_count": null,
      "outputs": [
        {
          "output_type": "execute_result",
          "data": {
            "text/plain": [
              "array([False, False, False, False, False, False, False, False, False,\n",
              "       False, False, False])"
            ]
          },
          "metadata": {},
          "execution_count": 7
        }
      ]
    },
    {
      "cell_type": "code",
      "source": [
        "df.duplicated().sum()   # revision en filas"
      ],
      "metadata": {
        "colab": {
          "base_uri": "https://localhost:8080/"
        },
        "id": "Z-9HxlrJV1FT",
        "outputId": "c7ed2914-34c9-4e45-86d5-25e22a9c5219"
      },
      "execution_count": null,
      "outputs": [
        {
          "output_type": "execute_result",
          "data": {
            "text/plain": [
              "0"
            ]
          },
          "metadata": {},
          "execution_count": 8
        }
      ]
    },
    {
      "cell_type": "code",
      "source": [
        "# 4) Revisando la existencia de datos faltantes"
      ],
      "metadata": {
        "id": "McF1xxldTkA1"
      },
      "execution_count": null,
      "outputs": []
    },
    {
      "cell_type": "code",
      "source": [
        "df.isna().sum()"
      ],
      "metadata": {
        "colab": {
          "base_uri": "https://localhost:8080/"
        },
        "id": "nuR_1rWvX6sC",
        "outputId": "23a79a8a-8fe9-45ff-f305-def51413716d"
      },
      "execution_count": null,
      "outputs": [
        {
          "output_type": "execute_result",
          "data": {
            "text/plain": [
              "Item_Identifier                 0\n",
              "Item_Weight                  1463\n",
              "Item_Fat_Content                0\n",
              "Item_Visibility                 0\n",
              "Item_Type                       0\n",
              "Item_MRP                        0\n",
              "Outlet_Identifier               0\n",
              "Outlet_Establishment_Year       0\n",
              "Outlet_Size                  2410\n",
              "Outlet_Location_Type            0\n",
              "Outlet_Type                     0\n",
              "Item_Outlet_Sales               0\n",
              "dtype: int64"
            ]
          },
          "metadata": {},
          "execution_count": 10
        }
      ]
    },
    {
      "cell_type": "code",
      "source": [
        "# 5 ) Valores faltantes a trabajar "
      ],
      "metadata": {
        "id": "yaif7F40YXpG"
      },
      "execution_count": null,
      "outputs": []
    },
    {
      "cell_type": "markdown",
      "source": [
        "* Del resultado anterior, se identifica a las categorias \"Item_Weight\" e \"Outlet_Size\" como unicas con valores faltantes. En ambos casos ambas cantidades 1463 y 2410 respectivamente, no supera el 50% de la data y considerando que ademas contienen informacion posiblemente relevante para las\n",
        "predicciones de venta y requerimiento de artificios de agrupamiento"
      ],
      "metadata": {
        "id": "AsIIyh47sz04"
      }
    },
    {
      "cell_type": "code",
      "source": [
        "# Revision de la Categoria \"Item_Weight\":"
      ],
      "metadata": {
        "id": "h77CL2f9_-YG"
      },
      "execution_count": null,
      "outputs": []
    },
    {
      "cell_type": "markdown",
      "source": [
        "* Esta categoria es del tipo flotante y contiene el peso de los productos, esta directamente relacionada a los datos del producto."
      ],
      "metadata": {
        "id": "EMKKOpTstGlW"
      }
    },
    {
      "cell_type": "code",
      "source": [
        "df[\"Item_Weight\"].head()"
      ],
      "metadata": {
        "colab": {
          "base_uri": "https://localhost:8080/"
        },
        "id": "6of_lWmNlp0b",
        "outputId": "fb3b0b0c-7bba-4c1f-e7ef-33f1a162cbcd"
      },
      "execution_count": null,
      "outputs": [
        {
          "output_type": "execute_result",
          "data": {
            "text/plain": [
              "0     9.30\n",
              "1     5.92\n",
              "2    17.50\n",
              "3    19.20\n",
              "4     8.93\n",
              "Name: Item_Weight, dtype: float64"
            ]
          },
          "metadata": {},
          "execution_count": 13
        }
      ]
    },
    {
      "cell_type": "code",
      "source": [
        "df[\"Item_Weight\"].value_counts()"
      ],
      "metadata": {
        "colab": {
          "base_uri": "https://localhost:8080/"
        },
        "id": "JQmfh-9ImD_i",
        "outputId": "42a21adb-78e0-4168-9a6e-f1643ea2cd86"
      },
      "execution_count": null,
      "outputs": [
        {
          "output_type": "execute_result",
          "data": {
            "text/plain": [
              "12.150    86\n",
              "17.600    82\n",
              "13.650    77\n",
              "11.800    76\n",
              "15.100    68\n",
              "          ..\n",
              "7.275      2\n",
              "7.685      1\n",
              "9.420      1\n",
              "6.520      1\n",
              "5.400      1\n",
              "Name: Item_Weight, Length: 415, dtype: int64"
            ]
          },
          "metadata": {},
          "execution_count": 14
        }
      ]
    },
    {
      "cell_type": "code",
      "source": [
        "df[\"Item_Weight\"].unique()"
      ],
      "metadata": {
        "colab": {
          "base_uri": "https://localhost:8080/"
        },
        "id": "-Y5ChAi7PW4b",
        "outputId": "2cb3022e-8c6f-423b-ac27-9b1c615deefe"
      },
      "execution_count": null,
      "outputs": [
        {
          "output_type": "execute_result",
          "data": {
            "text/plain": [
              "array([ 9.3  ,  5.92 , 17.5  , 19.2  ,  8.93 , 10.395, 13.65 ,    nan,\n",
              "       16.2  , 11.8  , 18.5  , 15.1  , 17.6  , 16.35 ,  9.   , 13.35 ,\n",
              "       18.85 , 14.6  , 13.85 , 13.   ,  7.645, 11.65 ,  5.925, 19.25 ,\n",
              "       18.6  , 18.7  , 17.85 , 10.   ,  8.85 ,  9.8  , 13.6  , 21.35 ,\n",
              "       12.15 ,  6.42 , 19.6  , 15.85 ,  7.39 , 10.195,  9.895, 10.895,\n",
              "        7.905,  9.195,  8.365,  7.97 , 17.7  , 19.35 ,  8.645, 15.6  ,\n",
              "       18.25 ,  7.855,  7.825,  8.39 , 12.85 , 19.   ,  5.905,  7.76 ,\n",
              "       16.75 , 15.5  ,  6.055,  6.305, 20.85 , 20.75 ,  8.895, 19.7  ,\n",
              "        8.75 , 13.3  ,  8.31 , 19.75 , 17.1  , 10.5  ,  6.635, 14.15 ,\n",
              "        8.89 ,  9.1  ,  7.5  , 16.85 ,  7.485, 11.6  , 12.65 , 20.25 ,\n",
              "        8.6  , 12.6  ,  8.88 , 20.5  , 13.5  ,  7.235,  6.92 ,  8.02 ,\n",
              "       12.8  , 16.6  , 14.   , 16.   , 21.25 ,  7.365, 18.35 ,  5.465,\n",
              "        7.27 ,  6.155, 19.5  , 15.2  , 14.5  , 13.1  , 12.3  , 11.1  ,\n",
              "       11.3  ,  5.75 , 11.35 ,  6.525, 10.3  ,  5.78 , 11.85 , 18.75 ,\n",
              "        5.26 , 16.1  ,  9.5  , 13.8  , 14.65 ,  6.67 ,  6.11 , 17.2  ,\n",
              "        6.32 ,  4.88 ,  5.425, 14.1  ,  7.55 , 17.25 , 12.   , 10.1  ,\n",
              "        7.785, 13.15 ,  8.5  ,  7.63 ,  9.285,  7.975, 15.7  ,  8.985,\n",
              "       20.35 ,  6.59 , 19.85 ,  6.26 , 18.2  ,  8.695,  7.075,  8.195,\n",
              "        7.09 ,  6.095,  6.15 ,  9.395, 15.75 ,  7.475,  6.445, 19.1  ,\n",
              "       15.   , 16.7  ,  7.07 ,  6.48 ,  9.695, 11.15 ,  9.6  , 20.7  ,\n",
              "        5.5  ,  7.895, 17.35 ,  7.285,  6.17 , 11.395,  7.71 , 12.1  ,\n",
              "       14.35 ,  8.1  ,  8.05 , 16.5  ,  6.785,  7.575,  7.47 , 15.25 ,\n",
              "        7.605, 18.   , 21.2  ,  8.97 , 10.6  ,  6.865, 10.8  , 15.15 ,\n",
              "       18.1  ,  6.655, 20.1  ,  7.935, 15.35 , 12.35 ,  6.85 ,  8.775,\n",
              "       14.85 ,  7.84 , 12.5  ,  8.325,  5.765,  5.985, 14.3  ,  6.135,\n",
              "        8.51 ,  6.65 ,  5.695,  6.36 ,  8.3  ,  7.56 ,  8.71 ,  6.695,\n",
              "       14.8  , 17.75 ,  8.575,  6.57 ,  8.68 ,  5.63 ,  9.13 ,  6.715,\n",
              "        5.82 ,  7.93 ,  5.   ,  7.445,  6.675,  8.18 ,  6.98 ,  7.435,\n",
              "       20.6  ,  8.355,  8.975, 20.2  ,  5.655,  5.175, 20.   ,  7.67 ,\n",
              "        4.785,  8.395,  6.175,  8.21 ,  5.845,  7.17 ,  8.785,  7.89 ,\n",
              "        5.32 ,  5.03 ,  8.945,  6.28 ,  7.565,  9.31 ,  7.02 ,  5.46 ,\n",
              "        6.13 ,  6.55 , 17.   , 16.25 ,  5.15 ,  7.865,  6.575,  7.06 ,\n",
              "        5.785,  7.42 ,  6.235,  6.75 ,  5.86 ,  5.035,  6.38 ,  5.675,\n",
              "       11.5  , 21.   , 21.1  ,  4.61 ,  7.   ,  6.405, 14.7  ,  7.68 ,\n",
              "        8.185,  8.655, 10.85 ,  8.42 ,  7.85 ,  4.59 ,  7.51 , 11.   ,\n",
              "        6.71 , 14.75 ,  7.59 ,  5.155,  6.365,  8.235,  5.365,  8.485,\n",
              "        7.535,  4.92 ,  6.385,  8.26 ,  7.945,  8.63 ,  9.21 ,  6.965,\n",
              "        8.905,  7.21 ,  7.3  ,  9.27 , 10.695,  6.215,  7.405,  7.72 ,\n",
              "        6.115,  6.035,  6.78 , 15.3  ,  7.105,  7.52 ,  4.805,  6.425,\n",
              "        7.6  ,  6.61 ,  7.325,  8.115,  5.94 ,  5.635,  7.35 ,  5.825,\n",
              "        6.63 ,  7.05 ,  8.315,  6.8  ,  7.035,  8.96 ,  5.51 ,  8.43 ,\n",
              "        8.27 ,  7.81 ,  6.885,  5.44 ,  5.405,  4.635, 10.65 ,  5.735,\n",
              "        6.465,  8.84 ,  7.75 ,  6.765,  9.065,  7.655,  4.615,  8.76 ,\n",
              "        7.1  ,  6.195,  5.615,  8.52 ,  7.26 ,  6.825,  5.325,  5.59 ,\n",
              "        5.88 ,  5.19 ,  6.985,  9.06 ,  6.69 ,  8.615,  7.275,  6.96 ,\n",
              "        9.17 ,  8.155,  5.73 ,  8.935,  8.92 ,  7.36 ,  7.64 ,  5.34 ,\n",
              "        7.22 ,  6.615,  6.76 ,  6.3  ,  5.98 ,  8.06 ,  6.44 ,  5.095,\n",
              "        8.8  ,  6.325,  7.31 ,  9.035,  9.105,  7.145,  4.905,  4.555,\n",
              "        8.   ,  7.315,  6.89 ,  5.945,  6.86 ,  6.935,  6.03 ,  7.725,\n",
              "        5.885,  7.155,  6.46 ,  5.48 ,  8.01 ,  5.8  ,  5.305,  6.905,\n",
              "        7.96 ,  5.11 ,  8.77 ,  7.685,  8.275,  8.38 ,  8.35 ,  9.42 ,\n",
              "        6.775,  6.4  ,  6.895,  5.485,  6.52 ,  8.67 ,  5.21 ,  5.4  ])"
            ]
          },
          "metadata": {},
          "execution_count": 15
        }
      ]
    },
    {
      "cell_type": "markdown",
      "source": [
        "* Por los datos mostrados como valores unicos anterior, un valor adecuado en este caso para completar la data faltante es la mediana de la serie, por lo que se completara con la mediana de los valores existentes, ya que esta representa el valor que ocupa el lugar central de todos los datos de una serie y no seria necesario buscar alguna otra relacion con las otras columnas con datos de productos"
      ],
      "metadata": {
        "id": "rUMipb65tRZN"
      }
    },
    {
      "cell_type": "code",
      "source": [
        "mediana = df['Item_Weight'].median()\n",
        "df['Item_Weight'].fillna(mediana, inplace=True)\n",
        "df['Item_Weight'].isna().sum()          # verificacion"
      ],
      "metadata": {
        "colab": {
          "base_uri": "https://localhost:8080/"
        },
        "id": "zC8RwDWDQEz8",
        "outputId": "80a5b815-0610-40bb-b171-002996722221"
      },
      "execution_count": null,
      "outputs": [
        {
          "output_type": "execute_result",
          "data": {
            "text/plain": [
              "0"
            ]
          },
          "metadata": {},
          "execution_count": 16
        }
      ]
    },
    {
      "cell_type": "code",
      "source": [
        "# Revision de la Categoria \"Outlet_Size\":\n",
        "# Esta categoria es del tipo object y contiene el tipo de area donde se encuentra la tienda."
      ],
      "metadata": {
        "id": "9t2u8pfVPW0p"
      },
      "execution_count": null,
      "outputs": []
    },
    {
      "cell_type": "code",
      "source": [
        "df[\"Outlet_Size\"].head()"
      ],
      "metadata": {
        "colab": {
          "base_uri": "https://localhost:8080/"
        },
        "id": "Sv4GBrGZmD4p",
        "outputId": "ea913393-b577-4b7b-bbc5-3fc7edfb6321"
      },
      "execution_count": null,
      "outputs": [
        {
          "output_type": "execute_result",
          "data": {
            "text/plain": [
              "0    Medium\n",
              "1    Medium\n",
              "2    Medium\n",
              "3       NaN\n",
              "4      High\n",
              "Name: Outlet_Size, dtype: object"
            ]
          },
          "metadata": {},
          "execution_count": 18
        }
      ]
    },
    {
      "cell_type": "code",
      "source": [
        "df[\"Outlet_Size\"].value_counts()"
      ],
      "metadata": {
        "colab": {
          "base_uri": "https://localhost:8080/"
        },
        "id": "eyoZzTBUTE9a",
        "outputId": "5703c4d5-8196-422a-d40a-51a93309cca7"
      },
      "execution_count": null,
      "outputs": [
        {
          "output_type": "execute_result",
          "data": {
            "text/plain": [
              "Medium    2793\n",
              "Small     2388\n",
              "High       932\n",
              "Name: Outlet_Size, dtype: int64"
            ]
          },
          "metadata": {},
          "execution_count": 19
        }
      ]
    },
    {
      "cell_type": "markdown",
      "source": [
        "* En este caso, por los valores de la serie se ve que es una data alfanumerica indicando los tamaños de tienda (Medium, Small y High), por lo que no corresponde asignar algun valor estadistico como en el caso anteior a la data\n",
        "faltante, por lo que se analizara el resto de la informacion relacionadas\n",
        "con los outlets o tiendas.\n",
        "\n",
        "* La identificacion de la tienda y el año en el que se establecio (Outlet_Identifier y Outlet_Establishment_Year) son datos basicamente de referencia identificatoria con mucha data que no ayudara a completar los datos\n",
        "\n",
        "* las demas categorias (Outlet_Location_Type, Outlet_Type y Item_Outlet_Sales) si podrian tener alguna relacion con el tamaño de la tienda como para usarlos para completar la data faltante, lo que se vera a continuacion:"
      ],
      "metadata": {
        "id": "TyTNbkL7txoz"
      }
    },
    {
      "cell_type": "code",
      "source": [
        "df[[\"Outlet_Size\",\"Outlet_Location_Type\",\"Outlet_Type\",\"Item_Outlet_Sales\"]].head()      "
      ],
      "metadata": {
        "colab": {
          "base_uri": "https://localhost:8080/",
          "height": 206
        },
        "id": "0zGFvjfiwAxl",
        "outputId": "2aae6955-5847-453a-da77-947a0794167b"
      },
      "execution_count": null,
      "outputs": [
        {
          "output_type": "execute_result",
          "data": {
            "text/plain": [
              "  Outlet_Size Outlet_Location_Type        Outlet_Type  Item_Outlet_Sales\n",
              "0      Medium               Tier 1  Supermarket Type1          3735.1380\n",
              "1      Medium               Tier 3  Supermarket Type2           443.4228\n",
              "2      Medium               Tier 1  Supermarket Type1          2097.2700\n",
              "3         NaN               Tier 3      Grocery Store           732.3800\n",
              "4        High               Tier 3  Supermarket Type1           994.7052"
            ],
            "text/html": [
              "\n",
              "  <div id=\"df-3fed69b4-3886-435c-ab49-3568b7c8a76e\">\n",
              "    <div class=\"colab-df-container\">\n",
              "      <div>\n",
              "<style scoped>\n",
              "    .dataframe tbody tr th:only-of-type {\n",
              "        vertical-align: middle;\n",
              "    }\n",
              "\n",
              "    .dataframe tbody tr th {\n",
              "        vertical-align: top;\n",
              "    }\n",
              "\n",
              "    .dataframe thead th {\n",
              "        text-align: right;\n",
              "    }\n",
              "</style>\n",
              "<table border=\"1\" class=\"dataframe\">\n",
              "  <thead>\n",
              "    <tr style=\"text-align: right;\">\n",
              "      <th></th>\n",
              "      <th>Outlet_Size</th>\n",
              "      <th>Outlet_Location_Type</th>\n",
              "      <th>Outlet_Type</th>\n",
              "      <th>Item_Outlet_Sales</th>\n",
              "    </tr>\n",
              "  </thead>\n",
              "  <tbody>\n",
              "    <tr>\n",
              "      <th>0</th>\n",
              "      <td>Medium</td>\n",
              "      <td>Tier 1</td>\n",
              "      <td>Supermarket Type1</td>\n",
              "      <td>3735.1380</td>\n",
              "    </tr>\n",
              "    <tr>\n",
              "      <th>1</th>\n",
              "      <td>Medium</td>\n",
              "      <td>Tier 3</td>\n",
              "      <td>Supermarket Type2</td>\n",
              "      <td>443.4228</td>\n",
              "    </tr>\n",
              "    <tr>\n",
              "      <th>2</th>\n",
              "      <td>Medium</td>\n",
              "      <td>Tier 1</td>\n",
              "      <td>Supermarket Type1</td>\n",
              "      <td>2097.2700</td>\n",
              "    </tr>\n",
              "    <tr>\n",
              "      <th>3</th>\n",
              "      <td>NaN</td>\n",
              "      <td>Tier 3</td>\n",
              "      <td>Grocery Store</td>\n",
              "      <td>732.3800</td>\n",
              "    </tr>\n",
              "    <tr>\n",
              "      <th>4</th>\n",
              "      <td>High</td>\n",
              "      <td>Tier 3</td>\n",
              "      <td>Supermarket Type1</td>\n",
              "      <td>994.7052</td>\n",
              "    </tr>\n",
              "  </tbody>\n",
              "</table>\n",
              "</div>\n",
              "      <button class=\"colab-df-convert\" onclick=\"convertToInteractive('df-3fed69b4-3886-435c-ab49-3568b7c8a76e')\"\n",
              "              title=\"Convert this dataframe to an interactive table.\"\n",
              "              style=\"display:none;\">\n",
              "        \n",
              "  <svg xmlns=\"http://www.w3.org/2000/svg\" height=\"24px\"viewBox=\"0 0 24 24\"\n",
              "       width=\"24px\">\n",
              "    <path d=\"M0 0h24v24H0V0z\" fill=\"none\"/>\n",
              "    <path d=\"M18.56 5.44l.94 2.06.94-2.06 2.06-.94-2.06-.94-.94-2.06-.94 2.06-2.06.94zm-11 1L8.5 8.5l.94-2.06 2.06-.94-2.06-.94L8.5 2.5l-.94 2.06-2.06.94zm10 10l.94 2.06.94-2.06 2.06-.94-2.06-.94-.94-2.06-.94 2.06-2.06.94z\"/><path d=\"M17.41 7.96l-1.37-1.37c-.4-.4-.92-.59-1.43-.59-.52 0-1.04.2-1.43.59L10.3 9.45l-7.72 7.72c-.78.78-.78 2.05 0 2.83L4 21.41c.39.39.9.59 1.41.59.51 0 1.02-.2 1.41-.59l7.78-7.78 2.81-2.81c.8-.78.8-2.07 0-2.86zM5.41 20L4 18.59l7.72-7.72 1.47 1.35L5.41 20z\"/>\n",
              "  </svg>\n",
              "      </button>\n",
              "      \n",
              "  <style>\n",
              "    .colab-df-container {\n",
              "      display:flex;\n",
              "      flex-wrap:wrap;\n",
              "      gap: 12px;\n",
              "    }\n",
              "\n",
              "    .colab-df-convert {\n",
              "      background-color: #E8F0FE;\n",
              "      border: none;\n",
              "      border-radius: 50%;\n",
              "      cursor: pointer;\n",
              "      display: none;\n",
              "      fill: #1967D2;\n",
              "      height: 32px;\n",
              "      padding: 0 0 0 0;\n",
              "      width: 32px;\n",
              "    }\n",
              "\n",
              "    .colab-df-convert:hover {\n",
              "      background-color: #E2EBFA;\n",
              "      box-shadow: 0px 1px 2px rgba(60, 64, 67, 0.3), 0px 1px 3px 1px rgba(60, 64, 67, 0.15);\n",
              "      fill: #174EA6;\n",
              "    }\n",
              "\n",
              "    [theme=dark] .colab-df-convert {\n",
              "      background-color: #3B4455;\n",
              "      fill: #D2E3FC;\n",
              "    }\n",
              "\n",
              "    [theme=dark] .colab-df-convert:hover {\n",
              "      background-color: #434B5C;\n",
              "      box-shadow: 0px 1px 3px 1px rgba(0, 0, 0, 0.15);\n",
              "      filter: drop-shadow(0px 1px 2px rgba(0, 0, 0, 0.3));\n",
              "      fill: #FFFFFF;\n",
              "    }\n",
              "  </style>\n",
              "\n",
              "      <script>\n",
              "        const buttonEl =\n",
              "          document.querySelector('#df-3fed69b4-3886-435c-ab49-3568b7c8a76e button.colab-df-convert');\n",
              "        buttonEl.style.display =\n",
              "          google.colab.kernel.accessAllowed ? 'block' : 'none';\n",
              "\n",
              "        async function convertToInteractive(key) {\n",
              "          const element = document.querySelector('#df-3fed69b4-3886-435c-ab49-3568b7c8a76e');\n",
              "          const dataTable =\n",
              "            await google.colab.kernel.invokeFunction('convertToInteractive',\n",
              "                                                     [key], {});\n",
              "          if (!dataTable) return;\n",
              "\n",
              "          const docLinkHtml = 'Like what you see? Visit the ' +\n",
              "            '<a target=\"_blank\" href=https://colab.research.google.com/notebooks/data_table.ipynb>data table notebook</a>'\n",
              "            + ' to learn more about interactive tables.';\n",
              "          element.innerHTML = '';\n",
              "          dataTable['output_type'] = 'display_data';\n",
              "          await google.colab.output.renderOutput(dataTable, element);\n",
              "          const docLink = document.createElement('div');\n",
              "          docLink.innerHTML = docLinkHtml;\n",
              "          element.appendChild(docLink);\n",
              "        }\n",
              "      </script>\n",
              "    </div>\n",
              "  </div>\n",
              "  "
            ]
          },
          "metadata": {},
          "execution_count": 20
        }
      ]
    },
    {
      "cell_type": "markdown",
      "source": [
        "* Veamos las relaciones con el promedio de las ventas que son valores numericos "
      ],
      "metadata": {
        "id": "bZFsHHfhu3dy"
      }
    },
    {
      "cell_type": "code",
      "source": [
        "df.groupby([\"Outlet_Size\", \"Outlet_Location_Type\", \"Outlet_Type\"])[\"Item_Outlet_Sales\"].mean()"
      ],
      "metadata": {
        "colab": {
          "base_uri": "https://localhost:8080/"
        },
        "id": "rxga9Zd6wAc-",
        "outputId": "c10e1051-e5a9-4fba-ef3b-cff9e68b0dbf"
      },
      "execution_count": null,
      "outputs": [
        {
          "output_type": "execute_result",
          "data": {
            "text/plain": [
              "Outlet_Size  Outlet_Location_Type  Outlet_Type      \n",
              "High         Tier 3                Supermarket Type1    2298.995256\n",
              "Medium       Tier 1                Supermarket Type1    2348.354635\n",
              "             Tier 3                Supermarket Type2    1995.498739\n",
              "                                   Supermarket Type3    3694.038558\n",
              "Small        Tier 1                Grocery Store         340.329723\n",
              "                                   Supermarket Type1    2277.844267\n",
              "             Tier 2                Supermarket Type1    2438.841866\n",
              "Name: Item_Outlet_Sales, dtype: float64"
            ]
          },
          "metadata": {},
          "execution_count": 21
        }
      ]
    },
    {
      "cell_type": "markdown",
      "source": [
        "* Encabezaremos el agrupamiento con la categoria de mas valores, poniendo al final la de Tamaño"
      ],
      "metadata": {
        "id": "MGWuTUG7u-A0"
      }
    },
    {
      "cell_type": "code",
      "source": [
        "df.groupby([\"Outlet_Type\",\"Outlet_Location_Type\",\"Outlet_Size\"])[\"Item_Outlet_Sales\"].mean()"
      ],
      "metadata": {
        "colab": {
          "base_uri": "https://localhost:8080/"
        },
        "id": "QaHazuwwJ3N-",
        "outputId": "50fd42b0-969d-4ab5-86c6-924098044431"
      },
      "execution_count": null,
      "outputs": [
        {
          "output_type": "execute_result",
          "data": {
            "text/plain": [
              "Outlet_Type        Outlet_Location_Type  Outlet_Size\n",
              "Grocery Store      Tier 1                Small           340.329723\n",
              "Supermarket Type1  Tier 1                Medium         2348.354635\n",
              "                                         Small          2277.844267\n",
              "                   Tier 2                Small          2438.841866\n",
              "                   Tier 3                High           2298.995256\n",
              "Supermarket Type2  Tier 3                Medium         1995.498739\n",
              "Supermarket Type3  Tier 3                Medium         3694.038558\n",
              "Name: Item_Outlet_Sales, dtype: float64"
            ]
          },
          "metadata": {},
          "execution_count": 22
        }
      ]
    },
    {
      "cell_type": "markdown",
      "source": [
        "* parece que el tipo de locacion no ayuda mucho, asi que no lo consideraremos y se evaluaran tanto juntas como por separado las otras dos:"
      ],
      "metadata": {
        "id": "01DF0POgvFm3"
      }
    },
    {
      "cell_type": "code",
      "source": [
        "df.groupby([\"Outlet_Location_Type\",\"Outlet_Size\"])[\"Item_Outlet_Sales\"].mean()"
      ],
      "metadata": {
        "colab": {
          "base_uri": "https://localhost:8080/"
        },
        "id": "oy5743AneIne",
        "outputId": "cc278558-90c7-4ae8-c9cf-02d1d99e3ac0"
      },
      "execution_count": null,
      "outputs": [
        {
          "output_type": "execute_result",
          "data": {
            "text/plain": [
              "Outlet_Location_Type  Outlet_Size\n",
              "Tier 1                Medium         2348.354635\n",
              "                      Small          1576.192909\n",
              "Tier 2                Small          2438.841866\n",
              "Tier 3                High           2298.995256\n",
              "                      Medium         2847.959679\n",
              "Name: Item_Outlet_Sales, dtype: float64"
            ]
          },
          "metadata": {},
          "execution_count": 23
        }
      ]
    },
    {
      "cell_type": "code",
      "source": [
        "df.groupby(\"Outlet_Size\")[\"Item_Outlet_Sales\"].mean()"
      ],
      "metadata": {
        "colab": {
          "base_uri": "https://localhost:8080/"
        },
        "id": "bM_VHJAEJKJE",
        "outputId": "fda5c5bf-b373-4d6c-c1d5-d52496608c71"
      },
      "execution_count": null,
      "outputs": [
        {
          "output_type": "execute_result",
          "data": {
            "text/plain": [
              "Outlet_Size\n",
              "High      2298.995256\n",
              "Medium    2681.603542\n",
              "Small     1912.149161\n",
              "Name: Item_Outlet_Sales, dtype: float64"
            ]
          },
          "metadata": {},
          "execution_count": 24
        }
      ]
    },
    {
      "cell_type": "code",
      "source": [
        "df.groupby(\"Outlet_Location_Type\")[\"Item_Outlet_Sales\"].mean()"
      ],
      "metadata": {
        "colab": {
          "base_uri": "https://localhost:8080/"
        },
        "id": "3zH_UUeSIVRu",
        "outputId": "62a0884c-058d-40ae-cf9d-bb8c2301a0e0"
      },
      "execution_count": null,
      "outputs": [
        {
          "output_type": "execute_result",
          "data": {
            "text/plain": [
              "Outlet_Location_Type\n",
              "Tier 1    1876.909159\n",
              "Tier 2    2323.990559\n",
              "Tier 3    2279.627651\n",
              "Name: Item_Outlet_Sales, dtype: float64"
            ]
          },
          "metadata": {},
          "execution_count": 25
        }
      ]
    },
    {
      "cell_type": "markdown",
      "source": [
        "* Se observa que los valores promedio del volumen de ventas en ambas categorias son similares relacionando a High con Tier 3, Medium con Tier 1 y Small con Tier 2 por lo tanto se completara los datos faltantes de la categoria Outlet_Size con el valor High, Medium o Small segun la tabla siguiente:\n",
        "\n",
        " - High, si el valor de ventas correspondiente esta entre 2,500 y mas dolares (similar a Tier 2)\n",
        "\n",
        " - Medium si el valor promedio de ventas esta entre 2,000 y 2,500)\n",
        "\n",
        " - Small si el valor del promedio de ventas correspondiente al indice de Outlet_Location_Type esta entre 0 y 2000 dolares"
      ],
      "metadata": {
        "id": "yPxSWzMsvQmJ"
      }
    },
    {
      "cell_type": "code",
      "source": [
        "largo = len(df[\"Outlet_Location_Type\"])\n",
        "x=0\n",
        "for x in range(0,largo):\n",
        "  valor = df[\"Outlet_Size\"][x]\n",
        "  ventas=df[\"Item_Outlet_Sales\"][x]\n",
        "  anterior=valor\n",
        "  if valor==\"High\" or valor==\"Medium\" or valor==\"Small\":\n",
        "     valor=anterior       # instruccion para poder usar el else \n",
        "  else:                   # para trabajar los datos faltantes\n",
        "    if ventas<2000:\n",
        "      valor=\"Small\"\n",
        "    elif ventas<=2500:\n",
        "      valor=\"Medium\"\n",
        "    else:\n",
        "      valor=\"High\"\n",
        "  df[\"Outlet_Size\"]=df[\"Outlet_Size\"].replace(anterior,valor)\n",
        "  x=x+1"
      ],
      "metadata": {
        "id": "M_lK0HkDjfUk"
      },
      "execution_count": null,
      "outputs": []
    },
    {
      "cell_type": "markdown",
      "source": [
        "* revisamos si ya no hay datos faltantes:"
      ],
      "metadata": {
        "id": "yL4cgH-evvaN"
      }
    },
    {
      "cell_type": "code",
      "source": [
        "df[\"Outlet_Size\"].isna().sum()"
      ],
      "metadata": {
        "colab": {
          "base_uri": "https://localhost:8080/"
        },
        "id": "etYnQK6tdesv",
        "outputId": "5d8f6960-9ee9-4820-b2d7-ab7488bb86c7"
      },
      "execution_count": null,
      "outputs": [
        {
          "output_type": "execute_result",
          "data": {
            "text/plain": [
              "0"
            ]
          },
          "metadata": {},
          "execution_count": 27
        }
      ]
    },
    {
      "cell_type": "code",
      "source": [
        "# 6) Arreglo de alguna categoría inconsistente de datos:"
      ],
      "metadata": {
        "id": "D27-g67hVW5T"
      },
      "execution_count": null,
      "outputs": []
    },
    {
      "cell_type": "code",
      "source": [
        "df[\"Item_Identifier\"].unique()"
      ],
      "metadata": {
        "colab": {
          "base_uri": "https://localhost:8080/"
        },
        "id": "lrW_3BVurT_3",
        "outputId": "2fe7f0de-59ce-4d88-fa03-4edb98d3861f"
      },
      "execution_count": null,
      "outputs": [
        {
          "output_type": "execute_result",
          "data": {
            "text/plain": [
              "array(['FDA15', 'DRC01', 'FDN15', ..., 'NCF55', 'NCW30', 'NCW05'],\n",
              "      dtype=object)"
            ]
          },
          "metadata": {},
          "execution_count": 29
        }
      ]
    },
    {
      "cell_type": "code",
      "source": [
        "df[\"Item_Fat_Content\"].unique()"
      ],
      "metadata": {
        "id": "LV9bFphZVWyC",
        "colab": {
          "base_uri": "https://localhost:8080/"
        },
        "outputId": "9cb0cef2-1378-48dc-e5b8-85470df32008"
      },
      "execution_count": null,
      "outputs": [
        {
          "output_type": "execute_result",
          "data": {
            "text/plain": [
              "array(['Low Fat', 'Regular', 'low fat', 'LF', 'reg'], dtype=object)"
            ]
          },
          "metadata": {},
          "execution_count": 30
        }
      ]
    },
    {
      "cell_type": "markdown",
      "source": [
        "* Esta categoria tiene inconsistencia en los valores low fat, LF y reg que se procede a corregir"
      ],
      "metadata": {
        "id": "pBwjXcBEv3J7"
      }
    },
    {
      "cell_type": "code",
      "source": [
        "df[\"Item_Fat_Content\"] = df[\"Item_Fat_Content\"].replace(\"low fat\",\"Low Fat\")\n",
        "df[\"Item_Fat_Content\"] = df[\"Item_Fat_Content\"].replace(\"LF\",\"Low Fat\")\n",
        "df[\"Item_Fat_Content\"] = df[\"Item_Fat_Content\"].replace(\"reg\",\"Regular\")"
      ],
      "metadata": {
        "id": "coP7qvIVrsnu"
      },
      "execution_count": null,
      "outputs": []
    },
    {
      "cell_type": "code",
      "source": [
        "# comprobacion:\n",
        "df[\"Item_Fat_Content\"].unique()"
      ],
      "metadata": {
        "colab": {
          "base_uri": "https://localhost:8080/"
        },
        "id": "Y1mj5POhtKoN",
        "outputId": "b680c15d-7103-4d87-a183-e232c32e447a"
      },
      "execution_count": null,
      "outputs": [
        {
          "output_type": "execute_result",
          "data": {
            "text/plain": [
              "array(['Low Fat', 'Regular'], dtype=object)"
            ]
          },
          "metadata": {},
          "execution_count": 32
        }
      ]
    },
    {
      "cell_type": "code",
      "source": [
        "# 8) Obtencion de las estadísticas de una categoria resumidas para cada uno (mínimo, máximo y media)"
      ],
      "metadata": {
        "id": "_P6oLqUOtTXS"
      },
      "execution_count": null,
      "outputs": []
    },
    {
      "cell_type": "code",
      "source": [
        "df[\"Item_Outlet_Sales\"].describe()"
      ],
      "metadata": {
        "colab": {
          "base_uri": "https://localhost:8080/"
        },
        "id": "Qq2YsJDbsJTn",
        "outputId": "33e5e9c4-7d45-4e49-a552-6d8b9b9a5e93"
      },
      "execution_count": null,
      "outputs": [
        {
          "output_type": "execute_result",
          "data": {
            "text/plain": [
              "count     8523.000000\n",
              "mean      2181.288914\n",
              "std       1706.499616\n",
              "min         33.290000\n",
              "25%        834.247400\n",
              "50%       1794.331000\n",
              "75%       3101.296400\n",
              "max      13086.964800\n",
              "Name: Item_Outlet_Sales, dtype: float64"
            ]
          },
          "metadata": {},
          "execution_count": 34
        }
      ]
    },
    {
      "cell_type": "markdown",
      "source": [
        "**PARTE 3 (base)**\n",
        "\n",
        "Para la tercera parte, la tarea es completar cualquier análisis estadístico que los puedan a ayudar a comprender, explicar o moldear sus datos. Esto debe incluir al menos uno de cada:\n",
        "\n",
        " - Histograma para ver las distribuciones de diversas características en el conjunto de datos.\n",
        "\n",
        " - Boxplot para ver resúmenes estadísticos de diversas características en el conjunto de datos.\n",
        "\n",
        " - Mapa de calor de la correlación entre las características."
      ],
      "metadata": {
        "id": "cMM9JHUyzCaJ"
      }
    },
    {
      "cell_type": "markdown",
      "source": [
        "* carga de librerias adicionales a pandas para hacer lsa visualizaciones"
      ],
      "metadata": {
        "id": "xRdk7CoN4h8y"
      }
    },
    {
      "cell_type": "code",
      "source": [
        "import matplotlib.pyplot as plt\n",
        "import seaborn as sns\n",
        "import numpy as np"
      ],
      "metadata": {
        "id": "2eRkafmf4pFD"
      },
      "execution_count": null,
      "outputs": []
    },
    {
      "cell_type": "markdown",
      "source": [
        "* Se mostrara un histograma para mostrar la distribucion de los datos de todas las caracteristicas con informacion numerica:\n",
        "\n",
        " - Item_Weight                  (float64)\n",
        " - Item_Visibility              (float64)\n",
        " - Item_MRP                     (float64)\n",
        " - Outlet_Establishment_Year      (int64)\n",
        " - Item_Outlet_Sales            (float64)\n",
        "\n",
        "* Para la visualizacion en Boxplot, se compararan las dos primeras (peso y veisibilidad) y la tercera y la ultimas (precios y ventas)"
      ],
      "metadata": {
        "id": "ntM2mv4N3D9y"
      }
    },
    {
      "cell_type": "code",
      "source": [
        "# Histogramas"
      ],
      "metadata": {
        "id": "IYDpzmiAzvRj"
      },
      "execution_count": null,
      "outputs": []
    },
    {
      "cell_type": "code",
      "source": [
        "lista=np.array([\"Item_Weight\", \"Item_Visibility\", \"Item_MRP\", \"Outlet_Establishment_Year\", \"Item_Outlet_Sales\"])  # columnas a usar\n",
        "colores=np.array([\"blue\", \"red\", \"green\", \"yellow\", \"orange\"])     # se dara un color a cada histograma"
      ],
      "metadata": {
        "id": "0W7s68JF8LpW"
      },
      "execution_count": null,
      "outputs": []
    },
    {
      "cell_type": "markdown",
      "source": [
        "* Dado que los codigos son practiamente los mismos, se usara un bucle for para hacerlo"
      ],
      "metadata": {
        "id": "aOLE7gleVIAu"
      }
    },
    {
      "cell_type": "code",
      "source": [
        "for x in range(0, len(lista)):\n",
        "  fig = plt.figure(figsize=(10, 5))\n",
        "  plt.subplot(x+1, 1, 1)\n",
        "  variable=\"Histograma de la Categoria \"+lista[x]\n",
        "  plt.title(variable)\n",
        "  plt.xlabel(lista[x])     # agrega sub-titulo al eje x\n",
        "  plt.ylabel(\"Frecuencia\") # agrega sub-titulo al eje y\n",
        "  plt.style.use('seaborn')\n",
        "  df.loc[:, lista[x]].hist(bins = 30, legend=\" \", color=colores[x], edgecolor='black', alpha=0.5) \n",
        "  plt.xticks(rotation = 45) # rotacion de los valores del eje x para que no se monten\n",
        "  plt.ticklabel_format(useOffset=False, style='plain')  # quitamos la notacion cientifica inicial"
      ],
      "metadata": {
        "colab": {
          "base_uri": "https://localhost:8080/",
          "height": 959
        },
        "id": "VNC0SGP0713O",
        "outputId": "2d2836d5-8308-4ebf-e40f-5a19cc7bb4d1"
      },
      "execution_count": null,
      "outputs": [
        {
          "output_type": "display_data",
          "data": {
            "text/plain": [
              "<Figure size 720x360 with 1 Axes>"
            ],
            "image/png": "[encoded data removed]"
          },
          "metadata": {}
        },
        {
          "output_type": "display_data",
          "data": {
            "text/plain": [
              "<Figure size 720x360 with 1 Axes>"
            ],
            "image/png": "[encoded data removed]"
          },
          "metadata": {}
        },
        {
          "output_type": "display_data",
          "data": {
            "text/plain": [
              "<Figure size 720x360 with 1 Axes>"
            ],
            "image/png": "[encoded data removed]"
          },
          "metadata": {}
        },
        {
          "output_type": "display_data",
          "data": {
            "text/plain": [
              "<Figure size 720x360 with 1 Axes>"
            ],
            "image/png": "[encoded data removed]"
          },
          "metadata": {}
        },
        {
          "output_type": "display_data",
          "data": {
            "text/plain": [
              "<Figure size 720x360 with 1 Axes>"
            ],
            "image/png": "[encoded data removed]"
          },
          "metadata": {}
        }
      ]
    },
    {
      "cell_type": "markdown",
      "source": [
        "De los histogramas mostrados, podemos concluir que la categoria Item Weighs es la unica que presenta una distribucion normal con un desviacion estandar corta entre sus valores respecto a la media. \n",
        "\n",
        "Los histogramas de la categorias Item_Visibility e Item_Outlet_Sales estan sesgados hacia la derecha de la media.\n",
        "\n",
        "El histograma de la categoria Item_MRP tambien es parecido a una distribucion normal tambien con desviacion estandar corta \n",
        "\n",
        "El histograma de la categoria Outlet_Establishment_Year, muestra un dispersion total de datos dado que se trata de años"
      ],
      "metadata": {
        "id": "FRgbZCVGP4Kn"
      }
    },
    {
      "cell_type": "code",
      "source": [
        "# Boxplots"
      ],
      "metadata": {
        "id": "1hvAGobPV1Bc"
      },
      "execution_count": null,
      "outputs": []
    },
    {
      "cell_type": "markdown",
      "source": [
        "* Pesos y Visibilidad:"
      ],
      "metadata": {
        "id": "zZ2mOMtCZ5Z4"
      }
    },
    {
      "cell_type": "code",
      "source": [
        "peso = df.loc[:,\"Item_Weight\"]\n",
        "visibilidad = np.array(df.loc[:,\"Item_Visibility\"])*100  # para llevar los indices a porcentajes para mejorar el boxplot\n",
        "fig, axes = plt.subplots(nrows = 1, ncols = 1, figsize = (8,5))\n",
        "boxplots = axes.boxplot([peso, visibilidad],\n",
        "           notch = True,\n",
        "           labels=[\"Item_Weight\", \"Item_Visibility (%)\"],\n",
        "           widths = .7,\n",
        "           patch_artist=True,\n",
        "           medianprops = dict(linestyle='-', linewidth=2, color='Yellow'),\n",
        "           boxprops = dict(linestyle='--', linewidth=2, color='Black', facecolor = 'blue', alpha = .4)\n",
        "          );\n",
        "boxplot1 = boxplots['boxes'][0]\n",
        "boxplot1.set_facecolor('red')\n",
        "plt.xlabel(\"Item_Weight vs. Item_Visibility\", fontsize = 15);\n",
        "plt.ylabel(\"Quantity\", fontsize = 15);\n",
        "plt.xticks(fontsize = 15);\n",
        "plt.yticks(fontsize = 15);"
      ],
      "metadata": {
        "colab": {
          "base_uri": "https://localhost:8080/",
          "height": 342
        },
        "id": "phjPaPPgXbup",
        "outputId": "c9261940-d861-4c51-ae0a-891e6992510a"
      },
      "execution_count": null,
      "outputs": [
        {
          "output_type": "display_data",
          "data": {
            "text/plain": [
              "<Figure size 576x360 with 1 Axes>"
            ],
            "image/png": "[encoded data removed]"
          },
          "metadata": {}
        }
      ]
    },
    {
      "cell_type": "markdown",
      "source": [
        "* Precios y Ventas:"
      ],
      "metadata": {
        "id": "WEpI67vZaDZr"
      }
    },
    {
      "cell_type": "markdown",
      "source": [
        "La caracteristica Item_Visibililty se ha llevado a porcentajes para poder visualizar mejor ambas caracteristicas, en este caso nuevamente se refleja al igual que el histograma que la caracteristica Item_Weight presenta una distribicion normal de los datos con corta desviacion estandar. En cambio los datos de Item_Visibility tienden a ubicarse hacia la derecha. "
      ],
      "metadata": {
        "id": "tXgCoqjsXKZ2"
      }
    },
    {
      "cell_type": "code",
      "source": [
        "precios = df.loc[:,\"Item_MRP\"]\n",
        "ventas = np.array(df.loc[:,\"Item_Outlet_Sales\"])/10 # para trabajar las ventas en decimas\n",
        "fig, axes = plt.subplots(nrows = 1, ncols = 1, figsize = (8,5))\n",
        "boxplots = axes.boxplot([precios, ventas],\n",
        "           notch = True,\n",
        "           labels=[\"Item_MRP\", \"Item_Outlet_Sales\"],\n",
        "           widths = .7,\n",
        "           patch_artist=True,\n",
        "           medianprops = dict(linestyle='-', linewidth=2, color='Yellow'),\n",
        "           boxprops = dict(linestyle='--', linewidth=2, color='Black', facecolor = 'green', alpha = .4)\n",
        "          );\n",
        "boxplot1 = boxplots['boxes'][0]\n",
        "boxplot1.set_facecolor('red')\n",
        "plt.xlabel(\"Item_MRP vs. Item_Outlet_Sales (in Tenths)\", fontsize = 15);\n",
        "plt.ylabel(\"Quantity\", fontsize = 15);\n",
        "plt.xticks(fontsize = 15);\n",
        "plt.yticks(fontsize = 15);"
      ],
      "metadata": {
        "colab": {
          "base_uri": "https://localhost:8080/",
          "height": 342
        },
        "id": "REOtNI9haCbe",
        "outputId": "3f6559f7-dd0a-4059-d5a9-acbe45e18f58"
      },
      "execution_count": null,
      "outputs": [
        {
          "output_type": "display_data",
          "data": {
            "text/plain": [
              "<Figure size 576x360 with 1 Axes>"
            ],
            "image/png": "[encoded data removed]"
          },
          "metadata": {}
        }
      ]
    },
    {
      "cell_type": "markdown",
      "source": [
        "La caracteristica Item_Outlet_Sales se ha llevado a porcentajes para poder visualizar mejor ambas caracteristicas, en este caso nuevamente se refleja al igual que el histograma un sesgo de los datos hacia la derecha, en cambio la de Item_MRP muestra una distribicion normal de los datos con corta desviacion estandar. "
      ],
      "metadata": {
        "id": "ek_xII3PYlLX"
      }
    },
    {
      "cell_type": "code",
      "source": [
        "# Mapa de calor de la correlación entre las características."
      ],
      "metadata": {
        "id": "2WAkqVEDNdZq"
      },
      "execution_count": null,
      "outputs": []
    },
    {
      "cell_type": "code",
      "source": [
        "corr = df.corr()\n",
        "sns.heatmap(corr, cmap = 'Blues', annot = True)"
      ],
      "metadata": {
        "colab": {
          "base_uri": "https://localhost:8080/",
          "height": 480
        },
        "id": "fZMhNBkENfje",
        "outputId": "b71c05e7-8632-45cf-ef37-e11af2a26f61"
      },
      "execution_count": null,
      "outputs": [
        {
          "output_type": "execute_result",
          "data": {
            "text/plain": [
              "<matplotlib.axes._subplots.AxesSubplot at 0x7f561aba30d0>"
            ]
          },
          "metadata": {},
          "execution_count": 45
        },
        {
          "output_type": "display_data",
          "data": {
            "text/plain": [
              "<Figure size 576x396 with 2 Axes>"
            ],
            "image/png": "[encoded data removed]"
          },
          "metadata": {}
        }
      ]
    },
    {
      "cell_type": "markdown",
      "source": [
        "Del mapa de calor mostrado, podemos indicar que hay caracteristicas cuyos datos van en el mismo sentido que otros y otras en sentido contrario: sin embargo, respecto a los valores solo se encuentra una correlacion moderada entre las variables de precios y ventas, lo cual es razonable, ya que las ventas esta en funcion a los precios. Las demas variable no tienen correlacion ya que sus valores son menores a 0.3."
      ],
      "metadata": {
        "id": "IiwwUIB-ZF_G"
      }
    }
  ]
}